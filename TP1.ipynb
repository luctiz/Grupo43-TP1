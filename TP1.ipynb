{
  "nbformat": 4,
  "nbformat_minor": 0,
  "metadata": {
    "colab": {
      "name": "TP1.ipynb",
      "provenance": [],
      "collapsed_sections": [
        "1P0IG0E1YQrL",
        "oXTjaKZbINgr"
      ],
      "include_colab_link": true
    },
    "kernelspec": {
      "display_name": "Python 3",
      "language": "python",
      "name": "python3"
    },
    "language_info": {
      "codemirror_mode": {
        "name": "ipython",
        "version": 3
      },
      "file_extension": ".py",
      "mimetype": "text/x-python",
      "name": "python",
      "nbconvert_exporter": "python",
      "pygments_lexer": "ipython3",
      "version": "3.6.8"
    }
  },
  "cells": [
    {
      "cell_type": "markdown",
      "metadata": {
        "id": "view-in-github",
        "colab_type": "text"
      },
      "source": [
        "<a href=\"https://colab.research.google.com/github/luctiz/Grupo43-TP1/blob/master/TP1.ipynb\" target=\"_parent\"><img src=\"https://colab.research.google.com/assets/colab-badge.svg\" alt=\"Open In Colab\"/></a>"
      ]
    },
    {
      "cell_type": "markdown",
      "metadata": {
        "colab_type": "text",
        "id": "1P0IG0E1YQrL"
      },
      "source": [
        "# **00 - [START]Dependencias**"
      ]
    },
    {
      "cell_type": "code",
      "metadata": {
        "colab_type": "code",
        "id": "YFtjj5EwP_Vd",
        "outputId": "5005bd69-0bbd-4aa6-e53c-f3bfa9ce0beb",
        "colab": {
          "base_uri": "https://localhost:8080/",
          "height": 1000
        }
      },
      "source": [
        "!apt-get install libgeos-3.5.0\n",
        "!apt-get install libgeos-dev\n",
        "!pip install https://github.com/matplotlib/basemap/archive/master.zip\n",
        "!pip install geopandas"
      ],
      "execution_count": 1,
      "outputs": [
        {
          "output_type": "stream",
          "text": [
            "Reading package lists... Done\n",
            "Building dependency tree       \n",
            "Reading state information... Done\n",
            "E: Unable to locate package libgeos-3.5.0\n",
            "E: Couldn't find any package by glob 'libgeos-3.5.0'\n",
            "E: Couldn't find any package by regex 'libgeos-3.5.0'\n",
            "Reading package lists... Done\n",
            "Building dependency tree       \n",
            "Reading state information... Done\n",
            "Suggested packages:\n",
            "  libgdal-doc\n",
            "The following NEW packages will be installed:\n",
            "  libgeos-dev\n",
            "0 upgraded, 1 newly installed, 0 to remove and 8 not upgraded.\n",
            "Need to get 73.1 kB of archives.\n",
            "After this operation, 486 kB of additional disk space will be used.\n",
            "Get:1 http://archive.ubuntu.com/ubuntu bionic/universe amd64 libgeos-dev amd64 3.6.2-1build2 [73.1 kB]\n",
            "Fetched 73.1 kB in 0s (160 kB/s)\n",
            "Selecting previously unselected package libgeos-dev.\n",
            "(Reading database ... 131183 files and directories currently installed.)\n",
            "Preparing to unpack .../libgeos-dev_3.6.2-1build2_amd64.deb ...\n",
            "Unpacking libgeos-dev (3.6.2-1build2) ...\n",
            "Setting up libgeos-dev (3.6.2-1build2) ...\n",
            "Processing triggers for man-db (2.8.3-2ubuntu0.1) ...\n",
            "Collecting https://github.com/matplotlib/basemap/archive/master.zip\n",
            "\u001b[?25l  Downloading https://github.com/matplotlib/basemap/archive/master.zip\n",
            "\u001b[K     \\ 190.6MB 154.9MB/s\n",
            "\u001b[?25hRequirement already satisfied: matplotlib!=3.0.1,>=1.0.0 in /usr/local/lib/python3.6/dist-packages (from basemap==1.2.1) (3.0.3)\n",
            "Requirement already satisfied: numpy>=1.2.1 in /usr/local/lib/python3.6/dist-packages (from basemap==1.2.1) (1.16.5)\n",
            "Collecting pyproj>=1.9.3 (from basemap==1.2.1)\n",
            "\u001b[?25l  Downloading https://files.pythonhosted.org/packages/7a/b1/ab67ad924770e1c1432fa0953a665b8ea193b60c7494457b69da052d6e83/pyproj-2.4.0-cp36-cp36m-manylinux1_x86_64.whl (10.1MB)\n",
            "\u001b[K     |████████████████████████████████| 10.1MB 3.1MB/s \n",
            "\u001b[?25hCollecting pyshp>=1.2.0 (from basemap==1.2.1)\n",
            "\u001b[?25l  Downloading https://files.pythonhosted.org/packages/27/16/3bf15aa864fb77845fab8007eda22c2bd67bd6c1fd13496df452c8c43621/pyshp-2.1.0.tar.gz (215kB)\n",
            "\u001b[K     |████████████████████████████████| 225kB 52.3MB/s \n",
            "\u001b[?25hRequirement already satisfied: six in /usr/local/lib/python3.6/dist-packages (from basemap==1.2.1) (1.12.0)\n",
            "Requirement already satisfied: python-dateutil>=2.1 in /usr/local/lib/python3.6/dist-packages (from matplotlib!=3.0.1,>=1.0.0->basemap==1.2.1) (2.5.3)\n",
            "Requirement already satisfied: cycler>=0.10 in /usr/local/lib/python3.6/dist-packages (from matplotlib!=3.0.1,>=1.0.0->basemap==1.2.1) (0.10.0)\n",
            "Requirement already satisfied: pyparsing!=2.0.4,!=2.1.2,!=2.1.6,>=2.0.1 in /usr/local/lib/python3.6/dist-packages (from matplotlib!=3.0.1,>=1.0.0->basemap==1.2.1) (2.4.2)\n",
            "Requirement already satisfied: kiwisolver>=1.0.1 in /usr/local/lib/python3.6/dist-packages (from matplotlib!=3.0.1,>=1.0.0->basemap==1.2.1) (1.1.0)\n",
            "Requirement already satisfied: setuptools in /usr/local/lib/python3.6/dist-packages (from kiwisolver>=1.0.1->matplotlib!=3.0.1,>=1.0.0->basemap==1.2.1) (41.2.0)\n",
            "Building wheels for collected packages: basemap, pyshp\n",
            "  Building wheel for basemap (setup.py) ... \u001b[?25l\u001b[?25hdone\n",
            "  Created wheel for basemap: filename=basemap-1.2.1-cp36-cp36m-linux_x86_64.whl size=121756016 sha256=d17af5e70f124f0c575f953204221c56e25c983ad408f4c4530263949d17fcbb\n",
            "  Stored in directory: /tmp/pip-ephem-wheel-cache-t22kpix0/wheels/98/4a/fc/ce719b75d97e646645c225f3332b1b217536100314922e9572\n",
            "  Building wheel for pyshp (setup.py) ... \u001b[?25l\u001b[?25hdone\n",
            "  Created wheel for pyshp: filename=pyshp-2.1.0-cp36-none-any.whl size=32607 sha256=0fd93693b849ce0ca4e8ed7da55933a9f698a544482f0c43c13d268f6e707a78\n",
            "  Stored in directory: /root/.cache/pip/wheels/a6/0c/de/321b5192ad416b328975a2f0385f72c64db4656501eba7cc1a\n",
            "Successfully built basemap pyshp\n",
            "Installing collected packages: pyproj, pyshp, basemap\n",
            "Successfully installed basemap-1.2.1 pyproj-2.4.0 pyshp-2.1.0\n"
          ],
          "name": "stdout"
        },
        {
          "output_type": "display_data",
          "data": {
            "application/vnd.colab-display-data+json": {
              "pip_warning": {
                "packages": [
                  "mpl_toolkits"
                ]
              }
            }
          },
          "metadata": {
            "tags": []
          }
        },
        {
          "output_type": "stream",
          "text": [
            "Collecting geopandas\n",
            "\u001b[?25l  Downloading https://files.pythonhosted.org/packages/21/80/da2a33c9201cd4ce693f4aa6189efc9ef1a48bec1c3b02c3ce9908b07fec/geopandas-0.5.1-py2.py3-none-any.whl (893kB)\n",
            "\u001b[K     |████████████████████████████████| 901kB 3.4MB/s \n",
            "\u001b[?25hRequirement already satisfied: shapely in /usr/local/lib/python3.6/dist-packages (from geopandas) (1.6.4.post2)\n",
            "Collecting fiona (from geopandas)\n",
            "\u001b[?25l  Downloading https://files.pythonhosted.org/packages/89/4a/193cd6a75e51062c85f4e1cd6f312b3bbda6e26ba7510f152ef5016f0b16/Fiona-1.8.6-cp36-cp36m-manylinux1_x86_64.whl (17.9MB)\n",
            "\u001b[K     |████████████████████████████████| 17.9MB 33.8MB/s \n",
            "\u001b[?25hRequirement already satisfied: pandas in /usr/local/lib/python3.6/dist-packages (from geopandas) (0.24.2)\n",
            "Requirement already satisfied: pyproj in /usr/local/lib/python3.6/dist-packages (from geopandas) (2.4.0)\n",
            "Requirement already satisfied: click<8,>=4.0 in /usr/local/lib/python3.6/dist-packages (from fiona->geopandas) (7.0)\n",
            "Collecting cligj>=0.5 (from fiona->geopandas)\n",
            "  Downloading https://files.pythonhosted.org/packages/e4/be/30a58b4b0733850280d01f8bd132591b4668ed5c7046761098d665ac2174/cligj-0.5.0-py3-none-any.whl\n",
            "Collecting munch (from fiona->geopandas)\n",
            "  Downloading https://files.pythonhosted.org/packages/68/f4/260ec98ea840757a0da09e0ed8135333d59b8dfebe9752a365b04857660a/munch-2.3.2.tar.gz\n",
            "Collecting click-plugins>=1.0 (from fiona->geopandas)\n",
            "  Downloading https://files.pythonhosted.org/packages/e9/da/824b92d9942f4e472702488857914bdd50f73021efea15b4cad9aca8ecef/click_plugins-1.1.1-py2.py3-none-any.whl\n",
            "Requirement already satisfied: six>=1.7 in /usr/local/lib/python3.6/dist-packages (from fiona->geopandas) (1.12.0)\n",
            "Requirement already satisfied: attrs>=17 in /usr/local/lib/python3.6/dist-packages (from fiona->geopandas) (19.1.0)\n",
            "Requirement already satisfied: python-dateutil>=2.5.0 in /usr/local/lib/python3.6/dist-packages (from pandas->geopandas) (2.5.3)\n",
            "Requirement already satisfied: pytz>=2011k in /usr/local/lib/python3.6/dist-packages (from pandas->geopandas) (2018.9)\n",
            "Requirement already satisfied: numpy>=1.12.0 in /usr/local/lib/python3.6/dist-packages (from pandas->geopandas) (1.16.5)\n",
            "Building wheels for collected packages: munch\n",
            "  Building wheel for munch (setup.py) ... \u001b[?25l\u001b[?25hdone\n",
            "  Created wheel for munch: filename=munch-2.3.2-py2.py3-none-any.whl size=6614 sha256=d9eb5394f7d87b3548fab95b9a00f11219b1aaf08c459ba4a6f9dec238b35ef5\n",
            "  Stored in directory: /root/.cache/pip/wheels/db/bf/bc/06a3e1bfe0ab27d2e720ceb3cff3159398d92644c0cec2c125\n",
            "Successfully built munch\n",
            "Installing collected packages: cligj, munch, click-plugins, fiona, geopandas\n",
            "Successfully installed click-plugins-1.1.1 cligj-0.5.0 fiona-1.8.6 geopandas-0.5.1 munch-2.3.2\n"
          ],
          "name": "stdout"
        }
      ]
    },
    {
      "cell_type": "code",
      "metadata": {
        "colab_type": "code",
        "id": "WNKZ6bh6CZRS",
        "colab": {}
      },
      "source": [
        "import pandas as pd\n",
        "import numpy as np\n",
        "import seaborn as sns\n",
        "import matplotlib.pyplot as plt\n",
        "import geopandas as gdp\n",
        "from shapely.geometry import Point, Polygon\n",
        "import folium,json\n",
        "from mpl_toolkits.basemap import Basemap"
      ],
      "execution_count": 0,
      "outputs": []
    },
    {
      "cell_type": "code",
      "metadata": {
        "colab_type": "code",
        "id": "672SrR3ODBiI",
        "outputId": "e76244c2-8b1e-4f2a-db7b-8f389b0276ea",
        "colab": {
          "base_uri": "https://localhost:8080/",
          "height": 122
        }
      },
      "source": [
        "from google.colab import drive\n",
        "drive.mount('/content/gdrive')"
      ],
      "execution_count": 3,
      "outputs": [
        {
          "output_type": "stream",
          "text": [
            "Go to this URL in a browser: https://accounts.google.com/o/oauth2/auth?client_id=947318989803-6bn6qk8qdgf4n4g3pfee6491hc0brc4i.apps.googleusercontent.com&redirect_uri=urn%3Aietf%3Awg%3Aoauth%3A2.0%3Aoob&scope=email%20https%3A%2F%2Fwww.googleapis.com%2Fauth%2Fdocs.test%20https%3A%2F%2Fwww.googleapis.com%2Fauth%2Fdrive%20https%3A%2F%2Fwww.googleapis.com%2Fauth%2Fdrive.photos.readonly%20https%3A%2F%2Fwww.googleapis.com%2Fauth%2Fpeopleapi.readonly&response_type=code\n",
            "\n",
            "Enter your authorization code:\n",
            "··········\n",
            "Mounted at /content/gdrive\n"
          ],
          "name": "stdout"
        }
      ]
    },
    {
      "cell_type": "markdown",
      "metadata": {
        "colab_type": "text",
        "id": "oXTjaKZbINgr"
      },
      "source": [
        "# **00 - [START] Validación de Datos**"
      ]
    },
    {
      "cell_type": "code",
      "metadata": {
        "colab_type": "code",
        "id": "YpiqmDUBCZRf",
        "colab": {}
      },
      "source": [
        "df = pd.read_csv('gdrive/My Drive/Colab Notebooks/train.csv', dtype = {'piscina':'int32', 'gimnasio':'int32', 'usosmultiples':'int32', 'escuelascercanas':'int32',\n",
        "                                         'centroscomercialescercanos':'int32', 'precio':'int32', 'id':'int32'},parse_dates = ['fecha'])"
      ],
      "execution_count": 0,
      "outputs": []
    },
    {
      "cell_type": "code",
      "metadata": {
        "colab_type": "code",
        "id": "_K_G514-HILJ",
        "colab": {}
      },
      "source": [
        "# Me guardo una versión del dataframe con NaNs\n",
        "data_original = df\n",
        "#Quito todos los NaN y los pasa a valor 0\n",
        "df = df.replace(np.nan, 0)"
      ],
      "execution_count": 0,
      "outputs": []
    },
    {
      "cell_type": "code",
      "metadata": {
        "colab_type": "code",
        "id": "ecQm8FBsHM5V",
        "colab": {}
      },
      "source": [
        "#Continuar casteando valores que ocupan demasiada memoria (ahora puedo hacerlo en aquellos que tenian NaN)\n",
        "df = df.astype({'banos':'int32', 'antiguedad':'int32', 'garages':'int32', 'habitaciones':'int32', 'metroscubiertos':'int32', 'metrostotales':'int32',\n",
        "                    'idzona':'int32'})"
      ],
      "execution_count": 0,
      "outputs": []
    },
    {
      "cell_type": "code",
      "metadata": {
        "colab_type": "code",
        "id": "C96ivDcFHNyJ",
        "colab": {}
      },
      "source": [
        "#Establecer como category el tipo de propiedad\n",
        "categorias = df['tipodepropiedad']\n",
        "categorias = categorias.astype('category').dtypes\n",
        "df = df.astype({'tipodepropiedad':'category'})"
      ],
      "execution_count": 0,
      "outputs": []
    },
    {
      "cell_type": "code",
      "metadata": {
        "colab_type": "code",
        "id": "dYUj0GelHQIP",
        "outputId": "a5792a2d-5c45-4d8b-f4c7-66f15f2e3859",
        "colab": {
          "base_uri": "https://localhost:8080/",
          "height": 34
        }
      },
      "source": [
        "print('Numero de columnas',df.shape)"
      ],
      "execution_count": 8,
      "outputs": [
        {
          "output_type": "stream",
          "text": [
            "Numero de columnas (240000, 23)\n"
          ],
          "name": "stdout"
        }
      ]
    },
    {
      "cell_type": "code",
      "metadata": {
        "colab_type": "code",
        "id": "aLhJLhkuHgXA",
        "outputId": "ea38917a-8248-4b92-e545-53faa21135e2",
        "colab": {
          "base_uri": "https://localhost:8080/",
          "height": 34
        }
      },
      "source": [
        "print('Numero de filas por columnas',df.size)"
      ],
      "execution_count": 9,
      "outputs": [
        {
          "output_type": "stream",
          "text": [
            "Numero de filas por columnas 5520000\n"
          ],
          "name": "stdout"
        }
      ]
    },
    {
      "cell_type": "code",
      "metadata": {
        "colab_type": "code",
        "id": "JCkuNb9pHhF7",
        "outputId": "f64626e3-1a0b-4ef8-bf7f-d3805a52dc42",
        "colab": {
          "base_uri": "https://localhost:8080/",
          "height": 425
        }
      },
      "source": [
        "print('Numero de Elementos',df.count())"
      ],
      "execution_count": 10,
      "outputs": [
        {
          "output_type": "stream",
          "text": [
            "Numero de Elementos id                            240000\n",
            "titulo                        240000\n",
            "descripcion                   240000\n",
            "tipodepropiedad               240000\n",
            "direccion                     240000\n",
            "ciudad                        240000\n",
            "provincia                     240000\n",
            "antiguedad                    240000\n",
            "habitaciones                  240000\n",
            "garages                       240000\n",
            "banos                         240000\n",
            "metroscubiertos               240000\n",
            "metrostotales                 240000\n",
            "idzona                        240000\n",
            "lat                           240000\n",
            "lng                           240000\n",
            "fecha                         240000\n",
            "gimnasio                      240000\n",
            "usosmultiples                 240000\n",
            "piscina                       240000\n",
            "escuelascercanas              240000\n",
            "centroscomercialescercanos    240000\n",
            "precio                        240000\n",
            "dtype: int64\n"
          ],
          "name": "stdout"
        }
      ]
    },
    {
      "cell_type": "code",
      "metadata": {
        "colab_type": "code",
        "id": "q77WvUEEHjPW",
        "outputId": "26782505-9fb6-4f0c-eaea-4229a60eaf13",
        "colab": {
          "base_uri": "https://localhost:8080/",
          "height": 425
        }
      },
      "source": [
        "print('Analisis de tipos',df.dtypes)"
      ],
      "execution_count": 11,
      "outputs": [
        {
          "output_type": "stream",
          "text": [
            "Analisis de tipos id                                     int32\n",
            "titulo                                object\n",
            "descripcion                           object\n",
            "tipodepropiedad                     category\n",
            "direccion                             object\n",
            "ciudad                                object\n",
            "provincia                             object\n",
            "antiguedad                             int32\n",
            "habitaciones                           int32\n",
            "garages                                int32\n",
            "banos                                  int32\n",
            "metroscubiertos                        int32\n",
            "metrostotales                          int32\n",
            "idzona                                 int32\n",
            "lat                                  float64\n",
            "lng                                  float64\n",
            "fecha                         datetime64[ns]\n",
            "gimnasio                               int32\n",
            "usosmultiples                          int32\n",
            "piscina                                int32\n",
            "escuelascercanas                       int32\n",
            "centroscomercialescercanos             int32\n",
            "precio                                 int32\n",
            "dtype: object\n"
          ],
          "name": "stdout"
        }
      ]
    },
    {
      "cell_type": "code",
      "metadata": {
        "colab_type": "code",
        "id": "cAruEo9hHpfI",
        "outputId": "6f4595ed-a2a7-44d1-e2ce-cc7c0342771c",
        "colab": {
          "base_uri": "https://localhost:8080/",
          "height": 510
        }
      },
      "source": [
        "#Se redujo el uso de memoria de 45MB a 27MB aproximadamente\n",
        "print(df.info())"
      ],
      "execution_count": 12,
      "outputs": [
        {
          "output_type": "stream",
          "text": [
            "<class 'pandas.core.frame.DataFrame'>\n",
            "RangeIndex: 240000 entries, 0 to 239999\n",
            "Data columns (total 23 columns):\n",
            "id                            240000 non-null int32\n",
            "titulo                        240000 non-null object\n",
            "descripcion                   240000 non-null object\n",
            "tipodepropiedad               240000 non-null category\n",
            "direccion                     240000 non-null object\n",
            "ciudad                        240000 non-null object\n",
            "provincia                     240000 non-null object\n",
            "antiguedad                    240000 non-null int32\n",
            "habitaciones                  240000 non-null int32\n",
            "garages                       240000 non-null int32\n",
            "banos                         240000 non-null int32\n",
            "metroscubiertos               240000 non-null int32\n",
            "metrostotales                 240000 non-null int32\n",
            "idzona                        240000 non-null int32\n",
            "lat                           240000 non-null float64\n",
            "lng                           240000 non-null float64\n",
            "fecha                         240000 non-null datetime64[ns]\n",
            "gimnasio                      240000 non-null int32\n",
            "usosmultiples                 240000 non-null int32\n",
            "piscina                       240000 non-null int32\n",
            "escuelascercanas              240000 non-null int32\n",
            "centroscomercialescercanos    240000 non-null int32\n",
            "precio                        240000 non-null int32\n",
            "dtypes: category(1), datetime64[ns](1), float64(2), int32(14), object(5)\n",
            "memory usage: 27.7+ MB\n",
            "None\n"
          ],
          "name": "stdout"
        }
      ]
    },
    {
      "cell_type": "markdown",
      "metadata": {
        "colab_type": "text",
        "id": "-okFuKUhH9uO"
      },
      "source": [
        ""
      ]
    },
    {
      "cell_type": "markdown",
      "metadata": {
        "colab_type": "text",
        "id": "n3rMA0GjGoki"
      },
      "source": [
        "# **1.0 - [COORDENADAS] Análisis de Coordenadas**"
      ]
    },
    {
      "cell_type": "code",
      "metadata": {
        "colab_type": "code",
        "id": "wY8mB3RVNUTX",
        "colab": {}
      },
      "source": [
        "from matplotlib.colors import Normalize\n",
        "import matplotlib.colors as colors\n",
        "from numpy import array\n",
        "from numpy import max"
      ],
      "execution_count": 0,
      "outputs": []
    },
    {
      "cell_type": "code",
      "metadata": {
        "colab_type": "code",
        "id": "W7P0Q1o3Rici",
        "colab": {}
      },
      "source": [
        "from matplotlib.patches import Polygon\n",
        "from matplotlib.collections import PatchCollection\n",
        "sns.set(style=\"white\", color_codes=True)"
      ],
      "execution_count": 0,
      "outputs": []
    },
    {
      "cell_type": "code",
      "metadata": {
        "colab_type": "code",
        "id": "pKfwt5kjWN6Z",
        "colab": {}
      },
      "source": [
        "df = df.drop([0],axis=0) #Elimino los tipos 0 que desconozco que clase de propiedad son"
      ],
      "execution_count": 0,
      "outputs": []
    },
    {
      "cell_type": "code",
      "metadata": {
        "colab_type": "code",
        "id": "pWej4aCXRoqL",
        "colab": {}
      },
      "source": [
        "# Creamos la lista de latitudes y longitudes.\n",
        "lats, lons = list(df['lat']), list(df['lng'])"
      ],
      "execution_count": 0,
      "outputs": []
    },
    {
      "cell_type": "code",
      "metadata": {
        "colab_type": "code",
        "id": "zp__n8gRS7LC",
        "colab": {}
      },
      "source": [
        "lat = 23\n",
        "lon = -102"
      ],
      "execution_count": 0,
      "outputs": []
    },
    {
      "cell_type": "code",
      "metadata": {
        "colab_type": "code",
        "id": "baLz2zkoUkD3",
        "outputId": "3c2f4096-1ebf-419d-f61e-fa7ed098b24b",
        "colab": {
          "base_uri": "https://localhost:8080/",
          "height": 587
        }
      },
      "source": [
        "##Analizo sobre Mexico todas las publicaciones\n",
        "figu, ax = plt.subplots(figsize=(20,10))\n",
        "eq_map = Basemap(projection='merc',\n",
        "                  lat_0 = 23, lon_0 = -102,\n",
        "                  resolution = 'h', area_thresh = 0.1,\n",
        "                  llcrnrlon=lon-15.5, llcrnrlat=lat-10.5,\n",
        "                  urcrnrlon=lon+15.5, urcrnrlat=lat+10.5)\n",
        "eq_map.drawcoastlines()\n",
        "eq_map.drawcountries()\n",
        "eq_map.fillcontinents(color = '#cc9966')\n",
        "eq_map.drawmapboundary()\n",
        "eq_map.drawstates()\n",
        "\n",
        "## Coordenadas a posiciones\n",
        "x,y = eq_map(lons, lats)\n",
        "eq_map.plot(x, y, 'o',c='red', markersize=5)\n",
        "\n",
        "plt.show()"
      ],
      "execution_count": 19,
      "outputs": [
        {
          "output_type": "display_data",
          "data": {
            "image/png": "[encoded data removed]",
            "text/plain": [
              "<Figure size 1440x720 with 1 Axes>"
            ]
          },
          "metadata": {
            "tags": []
          }
        }
      ]
    },
    {
      "cell_type": "code",
      "metadata": {
        "id": "xrgTfox9S5TU",
        "colab_type": "code",
        "colab": {}
      },
      "source": [
        "casas = df[df['tipodepropiedad']=='Casa']\n",
        "apartamentos = df[df['tipodepropiedad']=='Apartamento']\n",
        "condominios = df[df['tipodepropiedad']=='Casa en condominio']\n",
        "terrenos = df[df['tipodepropiedad']=='Local Comercial']\n",
        "comercios = df[df['tipodepropiedad']=='Oficina Comercial']"
      ],
      "execution_count": 0,
      "outputs": []
    },
    {
      "cell_type": "code",
      "metadata": {
        "id": "dP9z0ZdfZ8k6",
        "colab_type": "code",
        "colab": {}
      },
      "source": [
        ""
      ],
      "execution_count": 0,
      "outputs": []
    },
    {
      "cell_type": "code",
      "metadata": {
        "id": "WRXoQbTqUREk",
        "colab_type": "code",
        "colab": {}
      },
      "source": [
        "# Creamos la lista de latitudes y longitudes.\n",
        "lats, lons = list(casas['lat']), list(casas['lng'])"
      ],
      "execution_count": 0,
      "outputs": []
    },
    {
      "cell_type": "code",
      "metadata": {
        "id": "CsiPB1v8V2h6",
        "colab_type": "code",
        "colab": {}
      },
      "source": [
        "lats1, lons1 = list(apartamentos['lat']), list(apartamentos['lng'])\n",
        "lats2, lons2 = list(condominios['lat']), list(condominios['lng'])"
      ],
      "execution_count": 0,
      "outputs": []
    },
    {
      "cell_type": "code",
      "metadata": {
        "id": "2TSg66nOWqpN",
        "colab_type": "code",
        "outputId": "c280fcf1-c4aa-47af-85f3-d6341f903a38",
        "colab": {
          "base_uri": "https://localhost:8080/",
          "height": 587
        }
      },
      "source": [
        "##Analizo sobre Mexico todas las publicaciones\n",
        "figu2, ax = plt.subplots(figsize=(20,10))\n",
        "eq_map2 = Basemap(projection='merc',\n",
        "                  lat_0 = 23, lon_0 = -102,\n",
        "                  resolution = 'h', area_thresh = 0.1,\n",
        "                  llcrnrlon=lon-15.5, llcrnrlat=lat-10.5,\n",
        "                  urcrnrlon=lon+15.5, urcrnrlat=lat+10.5)\n",
        "eq_map2.drawcoastlines()\n",
        "eq_map2.drawcountries()\n",
        "eq_map2.fillcontinents(color = '#cc9966')\n",
        "eq_map2.drawmapboundary()\n",
        "eq_map2.drawstates()\n",
        "\n",
        "## Coordenadas a posiciones\n",
        "x,y = eq_map2(lons, lats)\n",
        "eq_map2.plot(x, y, 'o',c='red', markersize=6)\n",
        "\n",
        "c,d = eq_map2(lons2, lats2)\n",
        "eq_map2.plot(c, d, 'o',c='blue', markersize=6)\n",
        "\n",
        "a,b = eq_map2(lons1, lats1)\n",
        "eq_map2.plot(a, b, '*',c='yellow', markersize=6)\n",
        "\n",
        "\n",
        "\n",
        "plt.show()"
      ],
      "execution_count": 30,
      "outputs": [
        {
          "output_type": "display_data",
          "data": {
            "image/png": "[encoded data removed]",
            "text/plain": [
              "<Figure size 1440x720 with 1 Axes>"
            ]
          },
          "metadata": {
            "tags": []
          }
        }
      ]
    },
    {
      "cell_type": "markdown",
      "metadata": {
        "colab_type": "text",
        "id": "I2FkVMGYHwj4"
      },
      "source": [
        "# **2.1 - [PRECIOS] Análisis de Tipo de Propiedades VS Precio**"
      ]
    },
    {
      "cell_type": "code",
      "metadata": {
        "colab_type": "code",
        "id": "FJCuAobOH28U",
        "colab": {}
      },
      "source": [
        "df['tipodepropiedad'].value_counts()"
      ],
      "execution_count": 0,
      "outputs": []
    },
    {
      "cell_type": "code",
      "metadata": {
        "colab_type": "code",
        "id": "M9m7xkIbIrgc",
        "colab": {}
      },
      "source": [
        "result = df.groupby([\"tipodepropiedad\"])['precio'].aggregate(np.median).reset_index().sort_values('precio')"
      ],
      "execution_count": 0,
      "outputs": []
    },
    {
      "cell_type": "code",
      "metadata": {
        "colab_type": "code",
        "id": "c40jd5kEWDRm",
        "colab": {}
      },
      "source": [
        "result.head()"
      ],
      "execution_count": 0,
      "outputs": []
    },
    {
      "cell_type": "code",
      "metadata": {
        "colab_type": "code",
        "id": "D3g_PQl3IwQ5",
        "colab": {}
      },
      "source": [
        "result = result.drop([0],axis=0) #Elimino los tipos 0 que desconozco que clase de propiedad son (NO me sirven para comparar porque puede ser cualquier cosa)"
      ],
      "execution_count": 0,
      "outputs": []
    },
    {
      "cell_type": "code",
      "metadata": {
        "colab_type": "code",
        "id": "Hr2iqr--IzSx",
        "colab": {}
      },
      "source": [
        "g = sns.barplot( x='precio', y= 'tipodepropiedad', data = result, order=result['tipodepropiedad'], orient = 'h',saturation = 1000)\n",
        "g.set_title(\"Precios Promedios segun Tipo de Propiedad\", fontsize=20)\n",
        "g.set_xlabel(\"Precio Promedio\", fontsize=15)\n",
        "g.set_ylabel(\"Tipo de Propiedad\", fontsize=15)"
      ],
      "execution_count": 0,
      "outputs": []
    },
    {
      "cell_type": "code",
      "metadata": {
        "colab_type": "code",
        "id": "i8ifUXmLI1JI",
        "colab": {}
      },
      "source": [
        ""
      ],
      "execution_count": 0,
      "outputs": []
    },
    {
      "cell_type": "markdown",
      "metadata": {
        "colab_type": "text",
        "id": "tp6n1dvMm6Um"
      },
      "source": [
        "# **2.2 - [PRECIOS] Tipo de Propiedades vs popularidad por provincias y precios**"
      ]
    },
    {
      "cell_type": "code",
      "metadata": {
        "colab_type": "code",
        "id": "qz-SiptFnxI7",
        "colab": {}
      },
      "source": [
        "# Veo cuales son las propiedades más populares\n",
        "propiedadesXtipos = df.tipodepropiedad.value_counts().nlargest(10)"
      ],
      "execution_count": 0,
      "outputs": []
    },
    {
      "cell_type": "code",
      "metadata": {
        "colab_type": "code",
        "id": "4ale44CSn70L",
        "colab": {}
      },
      "source": [
        "tipos_populares = propiedadesXtipos.index\n",
        "\n",
        "#Provincias más populares\n",
        "popiedadesXprovincia = df.provincia.value_counts().nlargest(10)"
      ],
      "execution_count": 0,
      "outputs": []
    },
    {
      "cell_type": "code",
      "metadata": {
        "colab_type": "code",
        "id": "mb8CQc3loXqf",
        "colab": {}
      },
      "source": [
        "provincias_populares = popiedadesXprovincia.index"
      ],
      "execution_count": 0,
      "outputs": []
    },
    {
      "cell_type": "code",
      "metadata": {
        "colab_type": "code",
        "id": "rUK-LZSMohnq",
        "colab": {}
      },
      "source": [
        "#Tipo de propiedad vs precios promedios\n",
        "tipoVSprecio = df[['id', 'tipodepropiedad', 'precio', 'provincia']].groupby(['provincia', 'tipodepropiedad']).agg({'id': 'count', 'precio': 'mean'}).reset_index().sort_values(by = ['id'], ascending = False)\n",
        "#Tomo sólo los 10 tipos de propiedad y provincias más populares\n",
        "tipoVSprecio_mas = tipoVSprecio.loc[(tipoVSprecio.provincia.isin(provincias_populares)) & (tipoVSprecio.tipodepropiedad.isin(tipos_populares))]"
      ],
      "execution_count": 0,
      "outputs": []
    },
    {
      "cell_type": "code",
      "metadata": {
        "colab_type": "code",
        "id": "r3D9dL-xrhXV",
        "colab": {}
      },
      "source": [
        "tablaHeatMap = pd.pivot_table(tipoVSprecio_mas, values = 'precio', index = 'tipodepropiedad', columns = 'provincia')\n",
        "tablaHeatMap\n",
        "\n"
      ],
      "execution_count": 0,
      "outputs": []
    },
    {
      "cell_type": "code",
      "metadata": {
        "colab_type": "code",
        "id": "mnQRKwZprhg7",
        "colab": {}
      },
      "source": [
        "plt.figure(figsize = (12,6))\n",
        "graf = sns.heatmap(tablaHeatMap)\n",
        "graf.set_title('Precios según tipo de propiedad y provincias Más populares', fontsize =  22)\n",
        "graf.set_ylabel('Tipo de propiedad', fontsize = 18)\n",
        "graf.set_xlabel('Provincia', fontsize = 18)"
      ],
      "execution_count": 0,
      "outputs": []
    },
    {
      "cell_type": "code",
      "metadata": {
        "colab_type": "code",
        "id": "QkkVGEfWrhpC",
        "colab": {}
      },
      "source": [
        ""
      ],
      "execution_count": 0,
      "outputs": []
    },
    {
      "cell_type": "markdown",
      "metadata": {
        "colab_type": "text",
        "id": "c148ejaDsLsh"
      },
      "source": [
        "# **2.3 - [PRECIOS] ¿Cómo se distribuye el precio en las ciudades más populares?**"
      ]
    },
    {
      "cell_type": "code",
      "metadata": {
        "colab_type": "code",
        "id": "NKF8M_Dqrhln",
        "colab": {}
      },
      "source": [
        "ciudades_populares = df.ciudad.value_counts().head(20).index\n",
        "precios_ciudades_pop = df.loc[df.ciudad.isin(ciudades_populares), ['precio', 'ciudad']]\n",
        "plt.figure(figsize = (18,7))\n",
        "grafico = sns.boxplot( x=precios_ciudades_pop[\"ciudad\"], y=precios_ciudades_pop[\"precio\"], palette=\"Paired\")\n",
        "grafico.set_xticklabels(grafico.get_xticklabels(),rotation=60)\n",
        "grafico.set_title('Distribución del valor del precio para las ciudades más populares', fontsize =  22)\n",
        "grafico.set_ylabel('Precio', fontsize = 18)\n",
        "grafico.set_xlabel('Ciudad', fontsize = 18)\n",
        "plt.xticks(fontsize=14)\n",
        "plt.yticks(fontsize=14)"
      ],
      "execution_count": 0,
      "outputs": []
    },
    {
      "cell_type": "code",
      "metadata": {
        "colab_type": "code",
        "id": "1RaEyiUjrhsl",
        "colab": {}
      },
      "source": [
        ""
      ],
      "execution_count": 0,
      "outputs": []
    },
    {
      "cell_type": "markdown",
      "metadata": {
        "colab_type": "text",
        "id": "4f1rRWuevF0Q"
      },
      "source": [
        "# **2.4 - [PRECIOS] ¿Qué pasa con el precio según las características de los inmuebles?**"
      ]
    },
    {
      "cell_type": "code",
      "metadata": {
        "colab_type": "code",
        "id": "3qd2zdcqvKC-",
        "colab": {}
      },
      "source": [
        "data_con_caracteristicas = data_original.dropna().iloc[:, [0,17,18,19,20,21,22]]\n",
        "data_con_caracteristicas = data_con_caracteristicas.melt(id_vars = ['id', 'precio'], value_vars = ['gimnasio', 'usosmultiples', 'piscina', 'escuelascercanas', 'centroscomercialescercanos'], var_name = 'caracteristica', value_name = 'si/no')"
      ],
      "execution_count": 0,
      "outputs": []
    },
    {
      "cell_type": "code",
      "metadata": {
        "colab_type": "code",
        "id": "OT8phkSovP10",
        "colab": {}
      },
      "source": [
        "data_con_caracteristicas = data_con_caracteristicas.loc[data_con_caracteristicas['si/no'] != 0]"
      ],
      "execution_count": 0,
      "outputs": []
    },
    {
      "cell_type": "code",
      "metadata": {
        "colab_type": "code",
        "id": "zOk9zikIvdGo",
        "colab": {}
      },
      "source": [
        "data_con_caracteristicas.groupby('caracteristica').agg({'id':'count', 'precio':'mean'})"
      ],
      "execution_count": 0,
      "outputs": []
    },
    {
      "cell_type": "code",
      "metadata": {
        "colab_type": "code",
        "id": "fV0E8F0Svgco",
        "colab": {}
      },
      "source": [
        "data_con_caracteristicas['cantidad'] = data_con_caracteristicas[['precio', 'caracteristica', 'si/no']].groupby(['precio', 'caracteristica']).transform(lambda x: x.sum())"
      ],
      "execution_count": 0,
      "outputs": []
    },
    {
      "cell_type": "code",
      "metadata": {
        "colab_type": "code",
        "id": "Eig3qW0WvjoF",
        "colab": {}
      },
      "source": [
        "sns.set(style=\"darkgrid\")\n",
        "f, ax = plt.subplots(figsize=(15, 7))\n",
        "sns.despine(f, left=True, bottom=True)\n",
        "g = sns.scatterplot(x=\"precio\", y=\"cantidad\",\n",
        "                hue=\"caracteristica\",\n",
        "                palette=\"Dark2\", linewidth=0.25,\n",
        "                data=data_con_caracteristicas, ax=ax, alpha = 0.75)\n",
        "g.set_title('N° de Publicaciones vs Precio según carácterísticas de las propiedades', fontsize = 19)\n",
        "g.set_xlabel('Precio', fontsize = 15)\n",
        "g.set_ylabel('Cantidad de Publicaciones', fontsize = 15)"
      ],
      "execution_count": 0,
      "outputs": []
    },
    {
      "cell_type": "markdown",
      "metadata": {
        "colab_type": "text",
        "id": "cyFLodGHwAa2"
      },
      "source": [
        "**Conclusión Parcial**"
      ]
    },
    {
      "cell_type": "markdown",
      "metadata": {
        "colab_type": "text",
        "id": "hpR-7-4bv7FB"
      },
      "source": [
        "Vemos como las propiedades con centros comerciales cercanos y con escuelas cercanas tienen un comportamiento bastante parecido, esto también se debe a que sean las más populares, pero además son cualidades importantes a la hora de decidir sobre la adquisición de una propiedad. Vemos que hay una poca cantidad de publicaciones con precios super variados, desde bajos hasta muy altos, pero a medida que la cantidad de publicaciones aumenta el precio comienza a disminuir, por lo que parecen ser mucho más populares las publicaciones de propiedades que posean éstas características y se encuentren a un precio relativamente bajo."
      ]
    },
    {
      "cell_type": "code",
      "metadata": {
        "colab_type": "code",
        "id": "W5v4QC2fv-UJ",
        "colab": {}
      },
      "source": [
        ""
      ],
      "execution_count": 0,
      "outputs": []
    },
    {
      "cell_type": "markdown",
      "metadata": {
        "colab_type": "text",
        "id": "Bea-2E8QwLgD"
      },
      "source": [
        "# 2.5 - [PRECIOS] Precios VS Antiguedad"
      ]
    },
    {
      "cell_type": "code",
      "metadata": {
        "colab_type": "code",
        "id": "YjuFgp2ewSWG",
        "colab": {}
      },
      "source": [
        "precio_antiguedad = df[['precio', 'antiguedad', 'id']].loc[~(df.antiguedad.isnull())].groupby('antiguedad').agg({'precio': 'mean', 'id':'count'}).reset_index()"
      ],
      "execution_count": 0,
      "outputs": []
    },
    {
      "cell_type": "code",
      "metadata": {
        "colab_type": "code",
        "id": "w-wUlkYGwhP9",
        "colab": {}
      },
      "source": [
        "#Voy a filtrar las antiguedades que contengan menos de 100 publicaciones, así evitamos a la \"ecuación más peligros del mundo\"\n",
        "precio_antiguedad = precio_antiguedad.loc[precio_antiguedad.id >= 100]"
      ],
      "execution_count": 0,
      "outputs": []
    },
    {
      "cell_type": "code",
      "metadata": {
        "colab_type": "code",
        "id": "pjauxaJWwknf",
        "colab": {}
      },
      "source": [
        "plt.figure(figsize = (12,7))\n",
        "plt.style.use('seaborn-darkgrid')\n",
        "plt.scatter(precio_antiguedad['antiguedad'], precio_antiguedad['precio'], s = precio_antiguedad['id'], color = 'crimson', alpha = 0.5)\n",
        "plt.xlabel('Antiguedad', fontsize = 15)\n",
        "plt.ylabel('Precio', fontsize = 15)\n",
        "plt.ylim(0,5000000)\n",
        "plt.title('Precio Vs Antiguedad de las propiedades', fontsize = 20)\n",
        "plt.show()"
      ],
      "execution_count": 0,
      "outputs": []
    },
    {
      "cell_type": "markdown",
      "metadata": {
        "colab_type": "text",
        "id": "fNG7-xQbwwCU"
      },
      "source": [
        "**Conclusión Parcial**"
      ]
    },
    {
      "cell_type": "markdown",
      "metadata": {
        "colab_type": "text",
        "id": "pLLAIOClw2bb"
      },
      "source": [
        "Vemos como las propiedades con una antiguedad entre 0 y 15 años tienen una grán cantidad de publicaciones registradas y precios mucho más variables que se encuentran por debajo de los 4.5 millones de pesos mexicanos, aunque si observamos bien, tenemos un aglutinamiento de propiedades que se encuentran por debajo de los 20 años de antiguedad, cuyo precio escala sólo un poco por encima de los 3 millones. Luego si nos movemos a propiedades que se encuentran entre los 15 años hasta casi los 30 años de antiguedad, el precio varía un poco menos, pues son menos publicaciones y se encuentran entre un rango de 2 a 3.5 millones de pesos mexicacnos. Por ultimo observamos como a medida que se superan los 30 años de antiguedad el precio va en aumento, vemos que hay ciertas propiedades rondando los 50 años de antiguedad y que son bastante costosas, así tambien vemos que el número de publicaciones disminuye, por lo que las casas con mayor antiguedad son menos populares entre las publicaciones."
      ]
    },
    {
      "cell_type": "markdown",
      "metadata": {
        "colab_type": "text",
        "id": "ZGGo3blQ074A"
      },
      "source": [
        "# 3.0 - [DESCRIPCIONES] Agrupacion de Datos por Precio (GRUPO I,II y III)"
      ]
    },
    {
      "cell_type": "code",
      "metadata": {
        "colab_type": "code",
        "id": "uXfJD3Lz1Co-",
        "colab": {}
      },
      "source": [
        "import calendar"
      ],
      "execution_count": 0,
      "outputs": []
    },
    {
      "cell_type": "code",
      "metadata": {
        "colab_type": "code",
        "id": "n1ekOAcm0KZ3",
        "colab": {}
      },
      "source": [
        "%matplotlib inline\n",
        "\n",
        "plt.style.use('default') # haciendo los graficos un poco mas bonitos en matplotlib\n",
        "plt.rcParams['figure.figsize'] = (10, 6)\n",
        "\n",
        "sns.set(style=\"whitegrid\") # seteando tipo de grid en seaborn\n",
        "\n",
        "sns.set(rc={'figure.figsize':(11.7,8.27)})"
      ],
      "execution_count": 0,
      "outputs": []
    },
    {
      "cell_type": "code",
      "metadata": {
        "colab_type": "code",
        "id": "CFlymT_Z1eNZ",
        "colab": {}
      },
      "source": [
        "ax = plt.gca()\n",
        "ax.get_xaxis().get_major_formatter().set_scientific(False)\n",
        "ax.get_yaxis().get_major_formatter().set_scientific(False)\n",
        "plot=sns.distplot(df['precio'])\n",
        "plot.set_title(\"Distribucion de los precios\")\n",
        "plot.set(xticks=(0,2000000,5000000,10000000))"
      ],
      "execution_count": 0,
      "outputs": []
    },
    {
      "cell_type": "markdown",
      "metadata": {
        "colab_type": "text",
        "id": "oogAxdwV1jhR"
      },
      "source": [
        "\n",
        "\n",
        "Divido en 3 grupos de precios:\n",
        "\n",
        "    Grupo 1: menor a 2000000\n",
        "    Grupo 2: entre 2000000 y 5000000\n",
        "    Grupo 3: mayor a 5000000\n",
        "\n"
      ]
    },
    {
      "cell_type": "code",
      "metadata": {
        "colab_type": "code",
        "id": "r_HLFshV1e03",
        "colab": {}
      },
      "source": [
        "df_1=df[df['precio']<2000000]\n",
        "\n",
        "df_2=df[ (df['precio']>2000000) & (df['precio']<5000000) ]\n",
        "\n",
        "df_3=df[(df['precio']>5000000)]"
      ],
      "execution_count": 0,
      "outputs": []
    },
    {
      "cell_type": "markdown",
      "metadata": {
        "colab_type": "text",
        "id": "cXIY8lf0zUGV"
      },
      "source": [
        "# 3.1 - [DESCRIPCIONES] ¿Las palabras de los titulos cambian segun el grupo?"
      ]
    },
    {
      "cell_type": "code",
      "metadata": {
        "colab_type": "code",
        "id": "P4pAqCrlzfAI",
        "colab": {}
      },
      "source": [
        "#Funcion para contar palabras en una columna\n",
        "from collections import Counter\n",
        "def contar_palabras_en_columna(dataframe,columna):\n",
        "    #Hacemos una lista con todas las palabras que aparecen en los titulos \n",
        "    #y sus apariciones, sacando los chars \"( ) ,\"\n",
        "    contador_palabras_avisos = Counter(\" \".join(map(str,dataframe[columna].\\\n",
        "    values.tolist())).lower().replace(\"(\",'').replace(\")\",'').replace(\",\",' ').split(\" \")).items()\n",
        "\n",
        "    #Formo un DF con esa lista\n",
        "\n",
        "    contador_palabras_avisos = list(contador_palabras_avisos)\n",
        "\n",
        "\n",
        "    contador_palabras_avisos_df = pd.DataFrame(contador_palabras_avisos)\n",
        "    contador_palabras_avisos_df.head()\n",
        "\n",
        "    contador_palabras_avisos_df.columns=['palabra','apariciones']\n",
        "    contador_palabras_avisos_df=contador_palabras_avisos_df.set_index('palabra')\n",
        "\n",
        "    #Saco las palabras triviales del df (fui encontrandolas a medida que ploteaba los resultados)\n",
        "    triviales=['','-','de','con','en','y','o','a','para','la','las','al','el','los','/','por','del','san','santa','0','1','2','3','4','que','se','un','una','dos','te','no','es','tu','su','muy','m2']\n",
        "    contador_palabras_avisos_df=contador_palabras_avisos_df.drop(triviales)\n",
        "    \n",
        "    return contador_palabras_avisos_df.sort_values(by='apariciones',ascending=False)"
      ],
      "execution_count": 0,
      "outputs": []
    },
    {
      "cell_type": "code",
      "metadata": {
        "colab_type": "code",
        "id": "D7E4B84pznBS",
        "colab": {}
      },
      "source": [
        "datos=contar_palabras_en_columna(df,'titulo').head(18)\n",
        "datos.head()"
      ],
      "execution_count": 0,
      "outputs": []
    },
    {
      "cell_type": "code",
      "metadata": {
        "colab_type": "code",
        "id": "mHapOAiT100r",
        "colab": {}
      },
      "source": [
        "plot=sns.barplot(y=datos['apariciones'].index,x=datos['apariciones'].values,orient='h',palette=\"plasma_r\")\n",
        "plot.set_title('Palabras mas frecuentes en titulos de propiedades en general', fontsize = 20)\n",
        "plot.set_xlabel('Apariciones', fontsize = 15, weight = 'bold')\n",
        "plot.set_ylabel('Palabras', fontsize = 15, weight = 'bold')"
      ],
      "execution_count": 0,
      "outputs": []
    },
    {
      "cell_type": "code",
      "metadata": {
        "colab_type": "code",
        "id": "UWxHlj9pzzsa",
        "colab": {}
      },
      "source": [
        ""
      ],
      "execution_count": 0,
      "outputs": []
    },
    {
      "cell_type": "markdown",
      "metadata": {
        "colab_type": "text",
        "id": "Of90cSqs2I44"
      },
      "source": [
        "# 3.1.0 - [DESCRIPCIONES] Variaciones en el GRUPO I (precios < 2000000)"
      ]
    },
    {
      "cell_type": "code",
      "metadata": {
        "colab_type": "code",
        "id": "5Om3XFcp2SVE",
        "colab": {}
      },
      "source": [
        "datos=contar_palabras_en_columna(df_1,'titulo').head(18)"
      ],
      "execution_count": 0,
      "outputs": []
    },
    {
      "cell_type": "code",
      "metadata": {
        "colab_type": "code",
        "id": "cWOsbhLS2xbT",
        "colab": {}
      },
      "source": [
        "plot=sns.barplot(y=datos['apariciones'].index,x=datos['apariciones'].values,orient='h',palette=\"winter\")\n",
        "plot.set_title('Palabras mas frecuentes en titulos de propiedades con precio menor a 2000000', fontsize = 20)\n",
        "plot.set_xlabel('Apariciones', fontsize = 15, weight = 'bold')\n",
        "plot.set_ylabel('Palabras', fontsize = 15, weight = 'bold')"
      ],
      "execution_count": 0,
      "outputs": []
    },
    {
      "cell_type": "code",
      "metadata": {
        "colab_type": "code",
        "id": "BdyBSATv20FN",
        "colab": {}
      },
      "source": [
        ""
      ],
      "execution_count": 0,
      "outputs": []
    },
    {
      "cell_type": "markdown",
      "metadata": {
        "colab_type": "text",
        "id": "-c5De5to2_DX"
      },
      "source": [
        "# 3.1.1 - [DESCRIPCIONES] Variaciones en el GRUPO II (2000000 < precios < 5000000)"
      ]
    },
    {
      "cell_type": "code",
      "metadata": {
        "colab_type": "code",
        "id": "BmrTIqi73IY3",
        "colab": {}
      },
      "source": [
        "datos=contar_palabras_en_columna(df_2,'titulo').head(18)"
      ],
      "execution_count": 0,
      "outputs": []
    },
    {
      "cell_type": "code",
      "metadata": {
        "colab_type": "code",
        "id": "0Q9jEs7j3iHA",
        "colab": {}
      },
      "source": [
        "plot=sns.barplot(y=datos['apariciones'].index,x=datos['apariciones'].values,orient='h',palette=\"rocket\")\n",
        "plot.set_title('Palabras mas frecuentes en titulos de propiedades con precio entre 2000000 y 5000000', fontsize = 20)\n",
        "plot.set_xlabel('Apariciones', fontsize = 15, weight = 'bold')\n",
        "plot.set_ylabel('Palabras', fontsize = 15, weight = 'bold')"
      ],
      "execution_count": 0,
      "outputs": []
    },
    {
      "cell_type": "markdown",
      "metadata": {
        "colab_type": "text",
        "id": "UZrYMODV3PfC"
      },
      "source": [
        "# 3.1.2 - [DESCRIPCIONES] Variaciones en el GRUPO III (precios > 5000000)"
      ]
    },
    {
      "cell_type": "code",
      "metadata": {
        "colab_type": "code",
        "id": "fmiFFfG53Sbw",
        "colab": {}
      },
      "source": [
        "datos=contar_palabras_en_columna(df_3,'titulo').head(18)"
      ],
      "execution_count": 0,
      "outputs": []
    },
    {
      "cell_type": "code",
      "metadata": {
        "colab_type": "code",
        "id": "au2-cqRz3tFW",
        "colab": {}
      },
      "source": [
        "plot=sns.barplot(y=datos['apariciones'].index,x=datos['apariciones'].values,orient='h',palette=\"summer_r\")\n",
        "plot.set_title('Palabras mas frecuentes en titulos de propiedades con precio mayor a 5000000', fontsize = 20)\n",
        "plot.set_xlabel('Apariciones', fontsize = 15, weight = 'bold')\n",
        "plot.set_ylabel('Palabras', fontsize = 15, weight = 'bold')"
      ],
      "execution_count": 0,
      "outputs": []
    },
    {
      "cell_type": "markdown",
      "metadata": {
        "colab_type": "text",
        "id": "BdgDzrCP4Rv6"
      },
      "source": [
        "# 3.2 - [DESCRIPCIONES] ¿Hay palabras que se repitan en descripciones de determinado grupo de propiedades?"
      ]
    },
    {
      "cell_type": "code",
      "metadata": {
        "colab_type": "code",
        "id": "_oGS4spn5Kom",
        "colab": {}
      },
      "source": [
        "datos=contar_palabras_en_columna(df,'descripcion').head(18)"
      ],
      "execution_count": 0,
      "outputs": []
    },
    {
      "cell_type": "code",
      "metadata": {
        "colab_type": "code",
        "id": "0Mz278mQ5MM7",
        "colab": {}
      },
      "source": [
        "plot=sns.barplot(y=datos['apariciones'].index,x=datos['apariciones'].values,orient='h',palette=\"rainbow\")\n",
        "plot.set_title('Palabras mas frecuentes en descripciones de propiedades en general', fontsize = 20)\n",
        "plot.set_xlabel('Apariciones', fontsize = 15, weight = 'bold')\n",
        "plot.set_ylabel('Palabras', fontsize = 15, weight = 'bold')"
      ],
      "execution_count": 0,
      "outputs": []
    },
    {
      "cell_type": "code",
      "metadata": {
        "colab_type": "code",
        "id": "gMkOrlME5Ooq",
        "colab": {}
      },
      "source": [
        ""
      ],
      "execution_count": 0,
      "outputs": []
    },
    {
      "cell_type": "markdown",
      "metadata": {
        "colab_type": "text",
        "id": "PdKQA8aB4mzx"
      },
      "source": [
        "# 3.2.0 - [DESCRIPCIONES] Frecuencias de palabras en GRUPO I "
      ]
    },
    {
      "cell_type": "code",
      "metadata": {
        "colab_type": "code",
        "id": "eG3JlkKo5Y2U",
        "colab": {}
      },
      "source": [
        "datos=contar_palabras_en_columna(df_1,'descripcion').head(18)"
      ],
      "execution_count": 0,
      "outputs": []
    },
    {
      "cell_type": "code",
      "metadata": {
        "colab_type": "code",
        "id": "COTeS-7_5Zst",
        "colab": {}
      },
      "source": [
        "plot=sns.barplot(y=datos['apariciones'].index,x=datos['apariciones'].values,orient='h',palette=\"plasma\")\n",
        "plot.set_title('Palabras mas frecuentes en descripciones de propiedades con precio menor a 2000000', fontsize = 20)\n",
        "plot.set_xlabel('Apariciones', fontsize = 15, weight = 'bold')\n",
        "plot.set_ylabel('Palabras', fontsize = 15, weight = 'bold')"
      ],
      "execution_count": 0,
      "outputs": []
    },
    {
      "cell_type": "code",
      "metadata": {
        "colab_type": "code",
        "id": "imrWRpIQ5b-G",
        "colab": {}
      },
      "source": [
        ""
      ],
      "execution_count": 0,
      "outputs": []
    },
    {
      "cell_type": "markdown",
      "metadata": {
        "colab_type": "text",
        "id": "x42sUYVe4nL3"
      },
      "source": [
        "# 3.2.1 - [DESCRIPCIONES] Frecuencias de palabras en GRUPO II"
      ]
    },
    {
      "cell_type": "code",
      "metadata": {
        "colab_type": "code",
        "id": "6sSFpTnX5g1y",
        "colab": {}
      },
      "source": [
        "datos=contar_palabras_en_columna(df_2,'descripcion').head(18)"
      ],
      "execution_count": 0,
      "outputs": []
    },
    {
      "cell_type": "code",
      "metadata": {
        "colab_type": "code",
        "id": "i80Sjn2t5iY4",
        "colab": {}
      },
      "source": [
        "plot=sns.barplot(y=datos['apariciones'].index,x=datos['apariciones'].values,orient='h',palette=\"rocket\")\n",
        "plot.set_title('Palabras mas frecuentes en descripciones de propiedades con precio entre 2000000 y 5000000', fontsize = 20)\n",
        "plot.set_xlabel('Apariciones', fontsize = 15, weight = 'bold')\n",
        "plot.set_ylabel('Palabras', fontsize = 15, weight = 'bold')"
      ],
      "execution_count": 0,
      "outputs": []
    },
    {
      "cell_type": "markdown",
      "metadata": {
        "colab_type": "text",
        "id": "j-nEsJGf4nwa"
      },
      "source": [
        "# 3.2.0 - [DESCRIPCIONES] Frecuencias de palabras en GRUPO III"
      ]
    },
    {
      "cell_type": "code",
      "metadata": {
        "colab_type": "code",
        "id": "4Mhcg4vd4fFd",
        "colab": {}
      },
      "source": [
        "datos=contar_palabras_en_columna(df_3,'descripcion').head(18)"
      ],
      "execution_count": 0,
      "outputs": []
    },
    {
      "cell_type": "code",
      "metadata": {
        "colab_type": "code",
        "id": "dVS-GEjb5r12",
        "colab": {}
      },
      "source": [
        "plot=sns.barplot(y=datos['apariciones'].index,x=datos['apariciones'].values,orient='h',palette=\"gist_earth\")\n",
        "plot.set_title('Palabras mas frecuentes en descripciones de propiedades con precio mayor a 5000000', fontsize = 20)\n",
        "plot.set_xlabel('Apariciones', fontsize = 15, weight = 'bold')\n",
        "plot.set_ylabel('Palabras', fontsize = 15, weight = 'bold')"
      ],
      "execution_count": 0,
      "outputs": []
    },
    {
      "cell_type": "markdown",
      "metadata": {
        "colab_type": "text",
        "id": "gUOzGBkA50SO"
      },
      "source": [
        "\n",
        "\n",
        "***Conclusiones *** \n",
        "\n",
        "    La palabra 'baño' aparece masomenos en casi todas las propiedades sin importar el precio\n",
        "    Idem para las palabras 'excelente' 'baños' 'servicio' 'cuenta' y 'lavado'\n",
        "    Las palabras 'cocina' y 'casa' aparecen mucho mas en propiedades de precio menor a 2000000\n",
        "    La palabra 'jardín' aparece mas seguido en propiedades de precio mayor a 5000000\n",
        "    Las palabras 'patio' 'cochera' solo en las de precio menor a 2000000\n",
        "    Las palabras 'vestidor' y 'cuarto' no aparecen significativamente en las de precio menor a 2000000 y si en el resto\n",
        "    Las palabras 'estacionamiento' ' no tiene importancia en las de precio mayor a 5000000\n",
        "\n"
      ]
    },
    {
      "cell_type": "markdown",
      "metadata": {
        "colab_type": "text",
        "id": "hcJ17O3i6n0I"
      },
      "source": [
        "# 3.3 - [DESCRIPCIONES] ¿Hay palabras que se caracterizan por aparecer en algun grupo en particular?"
      ]
    },
    {
      "cell_type": "code",
      "metadata": {
        "colab_type": "code",
        "id": "ojgUvHlJ6wo8",
        "colab": {}
      },
      "source": [
        "#Formo un df con todas las palabras que aparecen y su cantidad de apariciones\n",
        "datos=contar_palabras_en_columna(df,'descripcion')"
      ],
      "execution_count": 0,
      "outputs": []
    },
    {
      "cell_type": "code",
      "metadata": {
        "colab_type": "code",
        "id": "UBWPwVoj6zpX",
        "colab": {}
      },
      "source": [
        "#Formo 3 dfs con las palabras que aparecen en cada grupo y su cantidad de apariciones dividido el tamaño del grupo\n",
        "#Nota: Divido por el tamaño del grupo para evitar que un grupo mas grande que otro se acapare todo el porcentaje\n",
        "# de cantidad de palabras. Quiero saber como se distribuyen las palabras en cada grupo pero teniendo en cuenta que los\n",
        "# tamaños de cada uno son diferentes\n",
        "datos_1=contar_palabras_en_columna(df_1,'descripcion')/df_1.shape[0]\n",
        "datos_2=contar_palabras_en_columna(df_2,'descripcion')/df_2.shape[0]\n",
        "datos_3=contar_palabras_en_columna(df_3,'descripcion')/df_3.shape[0]"
      ],
      "execution_count": 0,
      "outputs": []
    },
    {
      "cell_type": "code",
      "metadata": {
        "colab_type": "code",
        "id": "6OnlzNjX619U",
        "colab": {}
      },
      "source": [
        "datos_1.columns=['apariciones_en_grupo_1']\n",
        "datos_2.columns=['apariciones_en_grupo_2']\n",
        "datos_3.columns=['apariciones_en_grupo_3']"
      ],
      "execution_count": 0,
      "outputs": []
    },
    {
      "cell_type": "code",
      "metadata": {
        "colab_type": "code",
        "id": "BpYMTupn638l",
        "colab": {}
      },
      "source": [
        "datos=datos.merge(datos_1,how='outer',right_index=True,left_index=True)\n",
        "datos=datos.merge(datos_2,how='outer',right_index=True,left_index=True)\n",
        "datos=datos.merge(datos_3,how='outer',right_index=True,left_index=True)"
      ],
      "execution_count": 0,
      "outputs": []
    },
    {
      "cell_type": "code",
      "metadata": {
        "colab_type": "code",
        "id": "iOH55Zg667Qc",
        "colab": {}
      },
      "source": [
        "datos.head()"
      ],
      "execution_count": 0,
      "outputs": []
    },
    {
      "cell_type": "code",
      "metadata": {
        "colab_type": "code",
        "id": "ijqQkhDN7CEY",
        "colab": {}
      },
      "source": [
        "datos.shape"
      ],
      "execution_count": 0,
      "outputs": []
    },
    {
      "cell_type": "code",
      "metadata": {
        "colab_type": "code",
        "id": "LHPhubHa7JP3",
        "colab": {}
      },
      "source": [
        "datos[datos['apariciones']>=500].shape"
      ],
      "execution_count": 0,
      "outputs": []
    },
    {
      "cell_type": "markdown",
      "metadata": {
        "colab_type": "text",
        "id": "P5PrxayC7PDn"
      },
      "source": [
        "**Se puede observar que pocas palabras se repiten mas de 500 veces. Me quedo con esas palabras**"
      ]
    },
    {
      "cell_type": "code",
      "metadata": {
        "colab_type": "code",
        "id": "JyxAlLC07Mbc",
        "colab": {}
      },
      "source": [
        "datos=datos[datos['apariciones']>=500]"
      ],
      "execution_count": 0,
      "outputs": []
    },
    {
      "cell_type": "code",
      "metadata": {
        "colab_type": "code",
        "id": "vtmlXXMi7WCg",
        "colab": {}
      },
      "source": [
        "datos.head()"
      ],
      "execution_count": 0,
      "outputs": []
    },
    {
      "cell_type": "code",
      "metadata": {
        "colab_type": "code",
        "id": "jjEzcymr7Z6S",
        "colab": {}
      },
      "source": [
        "datos['total_apariciones']=datos['apariciones']\n",
        "datos['apariciones']=(datos['apariciones_en_grupo_1']+datos['apariciones_en_grupo_2']+datos['apariciones_en_grupo_3'])"
      ],
      "execution_count": 0,
      "outputs": []
    },
    {
      "cell_type": "code",
      "metadata": {
        "colab_type": "code",
        "id": "HZ_szVDc7cwi",
        "colab": {}
      },
      "source": [
        "#Saco el porcentaje de apariciones de cada palabra en cada grupo (previamente habiendo tenido en cuenta\n",
        "# que los tamaños de cada grupo son diferentes)\n",
        "datos['apariciones_en_grupo_1']=datos['apariciones_en_grupo_1']/(datos['apariciones'])\n",
        "datos['apariciones_en_grupo_2']=datos['apariciones_en_grupo_2']/(datos['apariciones'])\n",
        "datos['apariciones_en_grupo_3']=datos['apariciones_en_grupo_3']/(datos['apariciones'])"
      ],
      "execution_count": 0,
      "outputs": []
    },
    {
      "cell_type": "code",
      "metadata": {
        "colab_type": "code",
        "id": "K14NFuu77gG8",
        "colab": {}
      },
      "source": [
        "datos.drop('apariciones',axis=1,inplace=True)\n",
        "datos.head()"
      ],
      "execution_count": 0,
      "outputs": []
    },
    {
      "cell_type": "markdown",
      "metadata": {
        "colab_type": "text",
        "id": "3_ZiT39f-FWQ"
      },
      "source": [
        "#3.3.0 - [DESCRIPCIONES] Palabras destacadas en el GRUPO I"
      ]
    },
    {
      "cell_type": "code",
      "metadata": {
        "colab_type": "code",
        "id": "Yz-nVFHM7kcn",
        "colab": {}
      },
      "source": [
        "ax = datos.sort_values(by='apariciones_en_grupo_1',ascending=False).head(20).plot(kind='bar', y=[\"apariciones_en_grupo_1\", \"apariciones_en_grupo_2\",\"apariciones_en_grupo_3\"])\n",
        "ax.set_ylabel('Porcentaje de Apariciones')"
      ],
      "execution_count": 0,
      "outputs": []
    },
    {
      "cell_type": "code",
      "metadata": {
        "colab_type": "code",
        "id": "-rjmhs4L7zL0",
        "colab": {}
      },
      "source": [
        ""
      ],
      "execution_count": 0,
      "outputs": []
    },
    {
      "cell_type": "markdown",
      "metadata": {
        "colab_type": "text",
        "id": "8BTkBMpO-gk0"
      },
      "source": [
        "# 3.3.1 - [DESCRIPCIONES] Palabras destacadas en el GRUPO II"
      ]
    },
    {
      "cell_type": "code",
      "metadata": {
        "colab_type": "code",
        "id": "otNSbc6W-woH",
        "colab": {}
      },
      "source": [
        "ax = datos.sort_values(by='apariciones_en_grupo_2',ascending=False).head(20).plot(kind='bar', y=[\"apariciones_en_grupo_1\", \"apariciones_en_grupo_2\",\"apariciones_en_grupo_3\"])\n",
        "ax.set_ylabel('Porcentaje de Apariciones')"
      ],
      "execution_count": 0,
      "outputs": []
    },
    {
      "cell_type": "markdown",
      "metadata": {
        "colab_type": "text",
        "id": "wy9aVp44-kEL"
      },
      "source": [
        "# 3.3.2 - [DESCRIPCIONES] Palabras destacadas en el GRUPO III"
      ]
    },
    {
      "cell_type": "code",
      "metadata": {
        "colab_type": "code",
        "id": "SKjtA3Ht_Qrm",
        "colab": {}
      },
      "source": [
        "ax = datos.sort_values(by='apariciones_en_grupo_3',ascending=False).head(20).plot(kind='bar', y=[\"apariciones_en_grupo_1\", \"apariciones_en_grupo_2\",\"apariciones_en_grupo_3\"])\n",
        "ax.set_ylabel('Porcentaje de Apariciones')"
      ],
      "execution_count": 0,
      "outputs": []
    },
    {
      "cell_type": "markdown",
      "metadata": {
        "colab_type": "text",
        "id": "wGW01kSs_l7c"
      },
      "source": [
        "Estos graficos nos muestran que hay palabras que, cuando aparecen, suelen aparecer en grupos de propiedades con determinados precios. Las palabras que contiene la descripcion me pueden llegar a ayudar a determinar el precio de una propiedad"
      ]
    },
    {
      "cell_type": "code",
      "metadata": {
        "colab_type": "code",
        "id": "yzUQgreN_VcO",
        "colab": {}
      },
      "source": [
        ""
      ],
      "execution_count": 0,
      "outputs": []
    },
    {
      "cell_type": "markdown",
      "metadata": {
        "colab_type": "text",
        "id": "bX9C7fUOApMN"
      },
      "source": [
        ""
      ]
    },
    {
      "cell_type": "markdown",
      "metadata": {
        "colab_type": "text",
        "id": "7_D49p__BEOq"
      },
      "source": [
        "# 4.0 - [TEMPORALES] Análisis temporales"
      ]
    },
    {
      "cell_type": "markdown",
      "metadata": {
        "colab_type": "text",
        "id": "xWz3-j9pBYb9"
      },
      "source": [
        "analizar todos los datos del dataframe de acuerdo a las fechas y ver qué cosas interesantes podemos observar, más alla de estudiar el comportamiento de los distintos features a través del tiempo."
      ]
    },
    {
      "cell_type": "code",
      "metadata": {
        "colab_type": "code",
        "id": "G_IBv53rBaxo",
        "colab": {}
      },
      "source": [
        "df.fecha.min()"
      ],
      "execution_count": 0,
      "outputs": []
    },
    {
      "cell_type": "code",
      "metadata": {
        "colab_type": "code",
        "id": "zvJ8IwghBdCQ",
        "colab": {}
      },
      "source": [
        "df.fecha.max()"
      ],
      "execution_count": 0,
      "outputs": []
    },
    {
      "cell_type": "code",
      "metadata": {
        "colab_type": "code",
        "id": "WUTMOxMdBf5w",
        "colab": {}
      },
      "source": [
        "df.fecha.head()"
      ],
      "execution_count": 0,
      "outputs": []
    },
    {
      "cell_type": "code",
      "metadata": {
        "colab_type": "code",
        "id": "7lBfQwjMBmRv",
        "colab": {}
      },
      "source": [
        "#Extraigo el año\n",
        "df['anio'] = df.fecha.dt.year\n",
        "df.anio.head()"
      ],
      "execution_count": 0,
      "outputs": []
    },
    {
      "cell_type": "code",
      "metadata": {
        "colab_type": "code",
        "id": "-WzYXsvbBq4d",
        "colab": {}
      },
      "source": [
        "#Extraigo el mes\n",
        "df['mes'] = df.fecha.dt.month\n",
        "df.mes.head()"
      ],
      "execution_count": 0,
      "outputs": []
    },
    {
      "cell_type": "code",
      "metadata": {
        "colab_type": "code",
        "id": "Hj05D6XvBvVi",
        "colab": {}
      },
      "source": [
        "#Extraigo el día\n",
        "df['dia'] = df.fecha.dt.day\n",
        "df.dia.head()"
      ],
      "execution_count": 0,
      "outputs": []
    },
    {
      "cell_type": "markdown",
      "metadata": {
        "colab_type": "text",
        "id": "CbWYsiA3CGNg"
      },
      "source": [
        "# 4.1 - [TEMPORALES] Cantidad de publicaciones realizadas según el año"
      ]
    },
    {
      "cell_type": "markdown",
      "metadata": {
        "colab_type": "text",
        "id": "XqcNrzX_B1ZY"
      },
      "source": [
        "Cuento la cantidad de publicaciones realizadas según el año"
      ]
    },
    {
      "cell_type": "code",
      "metadata": {
        "colab_type": "code",
        "id": "PkjnVHP7By99",
        "colab": {}
      },
      "source": [
        "dataXanio = df[['id', 'anio']].groupby('anio').agg('count').reset_index()\n",
        "dataXanio.columns = ['año', 'cantidad_publicaciones']\n",
        "dataXanio"
      ],
      "execution_count": 0,
      "outputs": []
    },
    {
      "cell_type": "code",
      "metadata": {
        "colab_type": "code",
        "id": "Mkq19XPNB6OA",
        "colab": {}
      },
      "source": [
        "dataXanio.dtypes"
      ],
      "execution_count": 0,
      "outputs": []
    },
    {
      "cell_type": "code",
      "metadata": {
        "colab_type": "code",
        "id": "szMsciWbB-Ty",
        "colab": {}
      },
      "source": [
        "plt.figure(figsize = (18,7))\n",
        "sns.set_style(\"darkgrid\")\n",
        "sns.set_context(\"talk\")\n",
        "pubsXanio = sns.lineplot(data = dataXanio, x = 'año', y = 'cantidad_publicaciones', palette = 'Set1')\n",
        "pubsXanio.set_xticks([2012, 2013, 2014, 2015, 2016])\n",
        "pubsXanio.set_title('Variación de la cantidad de publicaciones por año.', fontsize =  23)\n",
        "pubsXanio.set_ylabel('Cantidad de publicaciones', fontsize = 15)\n",
        "pubsXanio.set_xlabel('Año', fontsize = 15)"
      ],
      "execution_count": 0,
      "outputs": []
    },
    {
      "cell_type": "markdown",
      "metadata": {
        "colab_type": "text",
        "id": "qka2l840CZMZ"
      },
      "source": [
        "# 4.2 - [TEMPORALES] Variación de  publicaciones según los meses para cada año"
      ]
    },
    {
      "cell_type": "code",
      "metadata": {
        "colab_type": "code",
        "id": "RYiRQ2nHCiKt",
        "colab": {}
      },
      "source": [
        "dataXmes = df[['id', 'anio', 'mes']].groupby(['anio', 'mes']).agg('count')\n",
        "dataXmes = dataXmes.unstack(0)\n",
        "dataXmes.columns = ['2012', '2013', '2014', '2015', '2016']"
      ],
      "execution_count": 0,
      "outputs": []
    },
    {
      "cell_type": "code",
      "metadata": {
        "colab_type": "code",
        "id": "M0mw9_iUCn0H",
        "colab": {}
      },
      "source": [
        "dataXmes.head()"
      ],
      "execution_count": 0,
      "outputs": []
    },
    {
      "cell_type": "code",
      "metadata": {
        "colab_type": "code",
        "id": "RqpID7VJCqJZ",
        "colab": {}
      },
      "source": [
        "dataXmes = dataXmes.reset_index()\n",
        "dataXmes.head()"
      ],
      "execution_count": 0,
      "outputs": []
    },
    {
      "cell_type": "code",
      "metadata": {
        "colab_type": "code",
        "id": "X4R3EW9uCuLr",
        "colab": {}
      },
      "source": [
        "plt.figure(figsize = (18,12))\n",
        "plt.style.use('seaborn-darkgrid')\n",
        "palette = plt.get_cmap('Dark2')\n",
        "\n",
        "for num, column in enumerate(dataXmes.drop('mes', axis=1)):\n",
        "    \n",
        "    num += 1\n",
        "    plt.subplot(3,3, num)\n",
        "    # Uso semilog para poder apreciar mejor el comportamiento de las lineas de cada año\n",
        "    plt.semilogy(dataXmes['mes'], dataXmes[column], marker='', color=palette(num))\n",
        "    #Todos los plots tienen los mismos límites\n",
        "    plt.yticks(fontsize = 10)\n",
        "    plt.xticks(list(range(1,12)), fontsize = 10)\n",
        "    plt.xlim(1,12)\n",
        "    plt.ylim(0,30000)\n",
        "    # Título para cada plot\n",
        "    plt.title(\"Año \"+column, loc='left', fontsize=15, fontweight=0, color=palette(num))\n",
        "    plt.xlabel('Mes', fontsize = 15)\n",
        "    plt.ylabel('Publicaciones', fontsize = 15)\n",
        "    \n",
        "plt.suptitle(\"Variación de la cantidad de publicaciones según el mes para cada año.\", fontsize = 25, color='black', style='italic', y=0.95)"
      ],
      "execution_count": 0,
      "outputs": []
    },
    {
      "cell_type": "markdown",
      "metadata": {
        "colab_type": "text",
        "id": "eXlrZQb5DCA4"
      },
      "source": [
        "Algo muy curioso en este gráfico es el crecimiento en aumento de publicaciones que se registra a partir del mes de noviembre del año 2016, es algo que llama la atención así que haremos más análisis sobre esto más adelante. Además es el único año que cierra al alza en las publicaciones, pues se observa que la tendencia en la mayoria de los años anteriores era la disminución de las publicaciones en los ultimos meses"
      ]
    },
    {
      "cell_type": "markdown",
      "metadata": {
        "colab_type": "text",
        "id": "O4iuSRBeDKRE"
      },
      "source": [
        "# 4.3 - [TEMPORALES] Variación de  publicaciones según los meses para cada año (JUNTOS)"
      ]
    },
    {
      "cell_type": "code",
      "metadata": {
        "colab_type": "code",
        "id": "tJabfgmeCxSw",
        "colab": {}
      },
      "source": [
        "plt.figure(figsize = (8,6))\n",
        "for i, j in  enumerate(dataXmes.iloc[:,1:].columns):\n",
        "    plt.semilogy(dataXmes['mes'], dataXmes[j], marker='', color=palette(i))\n",
        "plt.legend()\n",
        "plt.xlabel('Mes', fontsize = 15)\n",
        "plt.ylabel('Publicaciones', fontsize = 15)\n",
        "plt.suptitle(\"Variación de la cantidad de publicaciones según el mes para cada año.\", fontsize = 20, fontweight=0, color='black', style='italic', y=1.02)"
      ],
      "execution_count": 0,
      "outputs": []
    },
    {
      "cell_type": "markdown",
      "metadata": {
        "colab_type": "text",
        "id": "9JpXnL7hEMoy"
      },
      "source": [
        "# 4.4 - [TEMPORALES] Detalle el comportamiento de las publicaciones por día para el mes de noviembre del 2016"
      ]
    },
    {
      "cell_type": "code",
      "metadata": {
        "colab_type": "code",
        "id": "8jA4QQEtE3ic",
        "colab": {}
      },
      "source": [
        "data_nov_2016 = df.loc[(df.mes == 11) & (df.anio == 2016), ['id', 'dia']].groupby('dia').agg('count').reset_index()\n",
        "data_nov_2016.head()"
      ],
      "execution_count": 0,
      "outputs": []
    },
    {
      "cell_type": "code",
      "metadata": {
        "colab_type": "code",
        "id": "r41vRo3iE6DW",
        "colab": {}
      },
      "source": [
        "data_nov_2016.plot(x = 'dia', y = 'id', figsize = (12,7), xticks = list(range(1,31)), color = 'cyan')\n",
        "plt.title(\"Publicaciones por día Noviembre 2016\", loc='left', fontsize=25, fontweight=0, color='black')\n",
        "plt.xlabel('Día')\n",
        "plt.ylabel('Publicaciones')"
      ],
      "execution_count": 0,
      "outputs": []
    },
    {
      "cell_type": "markdown",
      "metadata": {
        "colab_type": "text",
        "id": "mQWUAaOjE-67"
      },
      "source": [
        "Este gráfico realmente no aporta nada interesante ni que nos pueda dar un indicio para responder acerca del comportamiento de la variación de publicaciones, así que no lo tomaremos en cuenta."
      ]
    },
    {
      "cell_type": "markdown",
      "metadata": {
        "colab_type": "text",
        "id": "nkvOYTm6EMxJ"
      },
      "source": [
        "# 4.5 - [TEMPORALES] Variacion del Precio a lo largo del tiempo"
      ]
    },
    {
      "cell_type": "code",
      "metadata": {
        "colab_type": "code",
        "id": "1UTZeo14FJND",
        "colab": {}
      },
      "source": [
        "precio_por_anio = df[['anio', 'precio']].groupby('anio').agg('mean').reset_index()\n",
        "precio_por_anio"
      ],
      "execution_count": 0,
      "outputs": []
    },
    {
      "cell_type": "code",
      "metadata": {
        "colab_type": "code",
        "id": "Y4fWKrf8FLZ0",
        "colab": {}
      },
      "source": [
        "precio_por_anio.plot(x = 'anio', y = 'precio', figsize = (18,7), color = 'forestgreen', xticks = [2012,2013,2014,2015,2016])\n",
        "plt.title(\"Precio promedio de propiedades por año\", loc='left', fontsize=25, color='black')\n",
        "plt.xlabel('Día', fontsize = 18)\n",
        "plt.ylabel('Precio', fontsize = 18)"
      ],
      "execution_count": 0,
      "outputs": []
    },
    {
      "cell_type": "markdown",
      "metadata": {
        "colab_type": "text",
        "id": "55r5GD6KFSAS"
      },
      "source": [
        "Vemos que los precios también van en aumento a los largo de los años. Veamoslo más detallado, a ver si podemos encontrar algo mas que podamos relacionar a la cantidad de publicaciones"
      ]
    },
    {
      "cell_type": "markdown",
      "metadata": {
        "colab_type": "text",
        "id": "YJnLcUs2EM7i"
      },
      "source": [
        "# 4.6 - [TEMPORALES] Variación de los precios por mes según el año en que se encuentra"
      ]
    },
    {
      "cell_type": "code",
      "metadata": {
        "colab_type": "code",
        "id": "jJd71-rSFadd",
        "colab": {}
      },
      "source": [
        "precios_mes_anio = df[['anio', 'mes', 'precio']].groupby(['anio', 'mes']).agg('mean').unstack(0).reset_index()\n",
        "precios_mes_anio.columns = ['mes', 'precio2012', 'precio2013', 'precio2014', 'precio2015', 'precio2016']\n",
        "precios_mes_anio"
      ],
      "execution_count": 0,
      "outputs": []
    },
    {
      "cell_type": "code",
      "metadata": {
        "colab_type": "code",
        "id": "CXfqxnWcFcW_",
        "colab": {}
      },
      "source": [
        "plt.figure(figsize = (12,6))\n",
        "palette = plt.get_cmap('Set2')\n",
        "for i, j in  enumerate(precios_mes_anio.iloc[:,1:].columns):\n",
        "    plt.plot(precios_mes_anio['mes'], precios_mes_anio[j], marker='', color=palette(i))\n",
        "plt.xticks(list(range(1,13)))\n",
        "plt.legend(loc='center left', bbox_to_anchor=(1, 0.5), title = 'Precios Por año')\n",
        "plt.xlabel('Mes', fontsize = 15)\n",
        "plt.ylabel('Precio', fontsize = 15)\n",
        "plt.suptitle(\"Variación del precio de las propiedade según el mes para cada año.\", fontsize = 20, color='black', style='italic', y = 0.95)"
      ],
      "execution_count": 0,
      "outputs": []
    },
    {
      "cell_type": "code",
      "metadata": {
        "colab_type": "code",
        "id": "-JvOLnwsFfJc",
        "colab": {}
      },
      "source": [
        ""
      ],
      "execution_count": 0,
      "outputs": []
    },
    {
      "cell_type": "markdown",
      "metadata": {
        "colab_type": "text",
        "id": "0Q6vzZ7bENEB"
      },
      "source": [
        "# 4.7 - [TEMPORALES] Publicaciones por año para los tipos de propiedades más populares "
      ]
    },
    {
      "cell_type": "markdown",
      "metadata": {
        "colab_type": "text",
        "id": "c0_tkODdFvN-"
      },
      "source": [
        "¿Cómo varía la oferta de propiedades según su tipo a lo largo del tiempo? ¿Tendrá esto algo que ver con el comportamiento de la variación de precios?"
      ]
    },
    {
      "cell_type": "markdown",
      "metadata": {
        "colab_type": "text",
        "id": "BFBJcDjkF5E5"
      },
      "source": [
        "Veamos cuales son los tipos de propiedades más populares dependiendo del año en el que se publican"
      ]
    },
    {
      "cell_type": "code",
      "metadata": {
        "colab_type": "code",
        "id": "PeTm4KadFwcR",
        "colab": {}
      },
      "source": [
        "cant_publicaciones_tipo = df[['anio', 'tipodepropiedad', 'id']].groupby(['anio', 'tipodepropiedad']).agg('count').unstack(0)\n",
        "cant_publicaciones_tipo.columns = ['2012', '2013', '2014', '2015', '2016']\n",
        "#cant_publicaciones_tipo = cant_publicaciones_tipo.fillna(0).loc[cant_publicaciones_tipo.tipodepropiedad != 0]\n",
        "#filtro los tipos que tengan al menos 100 publicaciones\n",
        "cant_publicaciones_tipo = cant_publicaciones_tipo.loc[(cant_publicaciones_tipo['2012'] >= 100) & (cant_publicaciones_tipo['2013'] >= 100) & (cant_publicaciones_tipo['2014'] >= 100) & (cant_publicaciones_tipo['2015'] >= 100) & (cant_publicaciones_tipo['2016'] >= 100), :]\n",
        "cant_publicaciones_tipo = cant_publicaciones_tipo.T\n",
        "cant_publicaciones_tipo"
      ],
      "execution_count": 0,
      "outputs": []
    },
    {
      "cell_type": "code",
      "metadata": {
        "colab_type": "code",
        "id": "g-_91gE9F9Ht",
        "colab": {}
      },
      "source": [
        "cant_publicaciones_tipo.columns"
      ],
      "execution_count": 0,
      "outputs": []
    },
    {
      "cell_type": "code",
      "metadata": {
        "colab_type": "code",
        "id": "bFaEkLeiGCow",
        "colab": {}
      },
      "source": [
        "plt.figure(figsize = (9,7))\n",
        "color = ['deeppink', 'navy', 'olive', 'dodgerblue', 'seagreen', 'darkorange', 'darkviolet', 'sienna', 'red', 'dimgray']\n",
        "for i, j in  enumerate(cant_publicaciones_tipo.columns):\n",
        "    plt.semilogy(cant_publicaciones_tipo.index, cant_publicaciones_tipo[j], color = color[i], marker = 'o')\n",
        "plt.legend(loc='center left', bbox_to_anchor=(1, 0.5), title = 'Tipo de propiedad')\n",
        "#plt.yticks(list(range(0,55000)))\n",
        "plt.xlabel('Año', fontsize = 15)\n",
        "plt.ylabel('Cantidd de publicaciones', fontsize = 15)\n",
        "plt.suptitle(\"Publicaciones por año para los tipos de propiedades más populares\", fontsize = 19, color='black', y = 0.95)"
      ],
      "execution_count": 0,
      "outputs": []
    },
    {
      "cell_type": "markdown",
      "metadata": {
        "colab_type": "text",
        "id": "aOrUyaqZGaS2"
      },
      "source": [
        "# 4.8 - [TEMPORALES] Precio promedio por año para los tipos de propiedades más populares "
      ]
    },
    {
      "cell_type": "code",
      "metadata": {
        "colab_type": "code",
        "id": "BiYRVD_uGFl-",
        "colab": {}
      },
      "source": [
        "#Utilizo los mismos tipos que utilice en el gráfico anterior\n",
        "precio_por_tipo = df.loc[df.tipodepropiedad.isin(cant_publicaciones_tipo.columns), ['anio', 'tipodepropiedad', 'precio']].groupby(['anio', 'tipodepropiedad']).agg('mean').dropna()\n",
        "precio_por_tipo = precio_por_tipo.unstack(1)\n",
        "precio_por_tipo.columns = cant_publicaciones_tipo.columns\n",
        "precio_por_tipo"
      ],
      "execution_count": 0,
      "outputs": []
    },
    {
      "cell_type": "code",
      "metadata": {
        "colab_type": "code",
        "id": "XQYJMn47HAsW",
        "colab": {}
      },
      "source": [
        "\n",
        "\n",
        "plt.figure(figsize = (9,7))\n",
        "for i, j in  enumerate(precio_por_tipo.columns):\n",
        "    plt.semilogy(precio_por_tipo.index, precio_por_tipo[j], color = color[i], marker = 'o')\n",
        "plt.legend(loc='center left', bbox_to_anchor=(1, 0.5), title = 'Tipo de Propiedad')\n",
        "plt.xticks([2012,2013,2014,2015,2016])\n",
        "plt.xlabel('Año', fontsize = 15)\n",
        "plt.ylabel('Precio', fontsize = 15)\n",
        "plt.suptitle(\"Precio promedio por año para los tipos de propiedades más populares\", fontsize = 19, color='black', y = 0.95)\n",
        "\n"
      ],
      "execution_count": 0,
      "outputs": []
    },
    {
      "cell_type": "code",
      "metadata": {
        "colab_type": "code",
        "id": "M7fXSjipHDfq",
        "colab": {}
      },
      "source": [
        ""
      ],
      "execution_count": 0,
      "outputs": []
    },
    {
      "cell_type": "markdown",
      "metadata": {
        "colab_type": "text",
        "id": "IO4VTGECHrKW"
      },
      "source": [
        "# 4.9 - [TEMPORALES] ¿Cómo se comportan los metros de las propiedades a través del tiempo?"
      ]
    },
    {
      "cell_type": "code",
      "metadata": {
        "colab_type": "code",
        "id": "aZFcrbtRH_6o",
        "colab": {}
      },
      "source": [
        "#Los valores 0 corresponden a valores nulos\n",
        "df.metroscubiertos.isin([0]).value_counts()"
      ],
      "execution_count": 0,
      "outputs": []
    },
    {
      "cell_type": "code",
      "metadata": {
        "colab_type": "code",
        "id": "PDNibXJLICkI",
        "colab": {}
      },
      "source": [
        "df_metros = df.loc[:, ['fecha', 'metroscubiertos', 'metrostotales', 'id']]\n",
        "df_metros.head()"
      ],
      "execution_count": 0,
      "outputs": []
    },
    {
      "cell_type": "code",
      "metadata": {
        "colab_type": "code",
        "id": "tnYfqAH1IFWM",
        "colab": {}
      },
      "source": [
        "#tomo el año de las publicaciones\n",
        "df_metros['año'] = df_metros.fecha.dt.year\n",
        "df_metros.head()"
      ],
      "execution_count": 0,
      "outputs": []
    },
    {
      "cell_type": "markdown",
      "metadata": {
        "colab_type": "text",
        "id": "QJmJo8cNINbn"
      },
      "source": [
        "# **4.9.0 - [TEMPORALES] Metros cubiertos en el tiempo**"
      ]
    },
    {
      "cell_type": "code",
      "metadata": {
        "colab_type": "code",
        "id": "gItCrbCuIIBO",
        "colab": {}
      },
      "source": [
        "df_mtrs_años = df_metros[df.metroscubiertos != 0].groupby(['año', 'metroscubiertos']).agg({'id': 'count'}).unstack(0)\n",
        "df_mtrs_años.columns = ['2012','2013', '2014', '2015', '2016']\n",
        "df_mtrs_años = df_mtrs_años.reset_index()\n",
        "df_mtrs_años.head()"
      ],
      "execution_count": 0,
      "outputs": []
    },
    {
      "cell_type": "code",
      "metadata": {
        "colab_type": "code",
        "id": "7LSs_u5TIWXt",
        "colab": {}
      },
      "source": [
        "plt.figure(figsize = (14,10))\n",
        "plt.style.use('seaborn-darkgrid')\n",
        "palette = plt.get_cmap('Dark2')\n",
        "\n",
        "for num, column in enumerate(df_mtrs_años.drop('metroscubiertos', axis=1)):\n",
        "    \n",
        "    num += 1\n",
        "    plt.subplot(3,3, num)\n",
        "    # Uso semilog para poder apreciar mejor el comportamiento de las lineas de cada año\n",
        "    plt.plot(df_mtrs_años['metroscubiertos'], df_mtrs_años[column], marker='', color=palette(num))\n",
        "    #Todos los plots tienen los mismos límites\n",
        "    plt.yticks(list(range(0,2500, 250)), fontsize = 10)\n",
        "    plt.xticks(list(range(0,450,50)),fontsize = 10)\n",
        "    # Título para cada plot\n",
        "    plt.title(column, loc='left', fontsize=15, fontweight=0, color=palette(num))\n",
        "    plt.xlabel('Metros Cubiertos', fontsize = 13, fontweight=1)\n",
        "    plt.ylabel('Publicaciones', fontsize = 13, fontweight=1)\n",
        "    \n",
        "plt.suptitle(\"Variación de Metros cubiertos de propiedades según el mes para cada año.\", fontsize = 25, color='black', style='italic', y=0.98)"
      ],
      "execution_count": 0,
      "outputs": []
    },
    {
      "cell_type": "markdown",
      "metadata": {
        "colab_type": "text",
        "id": "7aK5wD-0Ivl6"
      },
      "source": [
        "# 4.9.2 - [TEMPORALES] ¿Cómo se comportan los metros totales y cubiertos a través del tiempo? "
      ]
    },
    {
      "cell_type": "code",
      "metadata": {
        "colab_type": "code",
        "id": "30Q__GFCI5nr",
        "colab": {}
      },
      "source": [
        "\n",
        "\n",
        "df_mtrs_totales= df_metros[df.metrostotales != 0].groupby(['año', 'metrostotales']).agg({'id': 'count'}).unstack(0)\n",
        "df_mtrs_totales.columns = ['2012','2013', '2014', '2015', '2016']\n",
        "df_mtrs_totales = df_mtrs_totales.reset_index()\n",
        "df_mtrs_totales.head()\n",
        "\n"
      ],
      "execution_count": 0,
      "outputs": []
    },
    {
      "cell_type": "code",
      "metadata": {
        "colab_type": "code",
        "id": "p8xs4A1YI88k",
        "colab": {}
      },
      "source": [
        "palette1 = plt.get_cmap('Dark2')\n",
        "palette2 = plt.get_cmap('Paired')\n",
        "\n",
        "plt.figure(figsize=(18,12))\n",
        "for num, column in enumerate(df_mtrs_totales.drop('metrostotales', axis=1)):\n",
        "    \n",
        "    num += 1\n",
        "    plt.subplot(3,3, num)\n",
        "    # Uso semilog para poder apreciar mejor el comportamiento de las lineas de cada año\n",
        "    plt.scatter(df_mtrs_totales['metrostotales'], df_mtrs_totales[column], color=palette1(num), alpha = 0.75)\n",
        "    plt.scatter(df_mtrs_años['metroscubiertos'], df_mtrs_años[column], color=palette2(num), alpha = 0.6)\n",
        "    #Todos los plots tienen los mismos límites\n",
        "    plt.yticks(list(range(0,3000, 500)), fontsize = 10)\n",
        "    plt.xticks(list(range(0,450,50)),fontsize = 10)\n",
        "    # Título para cada plot\n",
        "    plt.title(column, loc='left', fontsize=15, fontweight=0, color=palette(num))\n",
        "    plt.xlabel('Metros Totales', fontsize = 14, fontweight=1)\n",
        "    plt.ylabel('Publicaciones', fontsize = 14, fontweight=1)\n",
        "    plt.legend(labels = ('Metros Totales', 'Metros Cubiertos'), fontsize = 10, borderaxespad = 0)\n",
        "    \n",
        "plt.suptitle(\"Metros Totales Vs. Metros Cubiertos para cada Año.\", fontsize = 25, color='black', style='italic', y=0.95)"
      ],
      "execution_count": 0,
      "outputs": []
    },
    {
      "cell_type": "markdown",
      "metadata": {
        "id": "dfm2GlM0MK4b",
        "colab_type": "text"
      },
      "source": [
        "**Conclusión Parcial**"
      ]
    },
    {
      "cell_type": "markdown",
      "metadata": {
        "id": "MuyFDVV7MK4c",
        "colab_type": "text"
      },
      "source": [
        "Como ya hemos visto anteriormente la cantidad de publicaciones aumenta a través del tiempo, no es nada nuevo para nosotros, por lo que nos enfocamos en el comportamiento de los metros cubiertos y totales. En general se observa que el comportamiento de los metros totales y metros cubiertos es parecido, se distribuyen entre los mismos valores. En todos los años se observa un pequeño pico hacía arriba entre las porpiedades entre 50 y metros, por lo que podría decirse que son los más populares. \n",
        "También vemos un aglutinamiento de puntos acercandose al aje x, esto quiere decir que a medida que la cantidad de publicaciones disminuye, la viabilidad en los metros aumenta, ya sean cubiertos o totales, esto claramente parece estar relacionado con \"la ecuación más peligrosa de la historia\", puesto que tenemos frente a pocos datos, mayor variabilidad en los valores.\n",
        "En general vemos que los valores para los metros cubiertos tienen un comportamiento bastante uniforme en la mayoría de los gráficos, a diferencia de los metros totales que suele registrar puntos con popularidades más altas, en general entre los 100 y 200 metros.\n",
        "Por último en el gráfico correspondiente al año 2016 podemos observar que las popularidades aumentan abruptamente en comparación al resto de los años, como hemos visto esto se debe a la suba de la cantidad de publicaciones registradas para ese año, observamos que ahora los metros entre 50 y 300 recibieron una gran cantidad de publicaciones, por lo que diremos que se han vuelto más populares."
      ]
    },
    {
      "cell_type": "code",
      "metadata": {
        "id": "SnryYSd-MK4d",
        "colab_type": "code",
        "colab": {}
      },
      "source": [
        ""
      ],
      "execution_count": 0,
      "outputs": []
    }
  ]
}