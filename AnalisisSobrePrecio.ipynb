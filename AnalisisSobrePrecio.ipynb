{
 "cells": [
  {
   "cell_type": "code",
   "execution_count": 1,
   "metadata": {
    "colab": {},
    "colab_type": "code",
    "id": "3N353lUK9JCG"
   },
   "outputs": [],
   "source": [
    "import pandas as pd\n",
    "from datetime import datetime\n",
    "import numpy as np\n",
    "import matplotlib.pyplot as plt\n",
    "import seaborn as sns"
   ]
  },
  {
   "cell_type": "code",
   "execution_count": 2,
   "metadata": {
    "colab": {},
    "colab_type": "code",
    "id": "8MBqVQ0t-fcY"
   },
   "outputs": [],
   "source": [
    "#import io\n",
    "#ruta = io.StringIO(uploaded['train.csv'].decode('utf-8'))\n",
    "df = pd.read_csv('data/train.csv', dtype = {'piscina':'int32', 'gimnasio':'int32', 'usosmultiples':'int32', 'escuelascercanas':'int32',\n",
    "                                         'centroscomercialescercanos':'int32', 'precio':'int32', 'id':'int32'},parse_dates = ['fecha'])"
   ]
  },
  {
   "cell_type": "code",
   "execution_count": 3,
   "metadata": {
    "colab": {
     "base_uri": "https://localhost:8080/",
     "height": 168
    },
    "colab_type": "code",
    "id": "dxWfhYj-NVLC",
    "outputId": "3f76c376-e256-4654-a080-49dc3aa4e2db"
   },
   "outputs": [
    {
     "data": {
      "text/html": [
       "<div>\n",
       "<style scoped>\n",
       "    .dataframe tbody tr th:only-of-type {\n",
       "        vertical-align: middle;\n",
       "    }\n",
       "\n",
       "    .dataframe tbody tr th {\n",
       "        vertical-align: top;\n",
       "    }\n",
       "\n",
       "    .dataframe thead th {\n",
       "        text-align: right;\n",
       "    }\n",
       "</style>\n",
       "<table border=\"1\" class=\"dataframe\">\n",
       "  <thead>\n",
       "    <tr style=\"text-align: right;\">\n",
       "      <th></th>\n",
       "      <th>id</th>\n",
       "      <th>titulo</th>\n",
       "      <th>descripcion</th>\n",
       "      <th>tipodepropiedad</th>\n",
       "      <th>direccion</th>\n",
       "      <th>ciudad</th>\n",
       "      <th>provincia</th>\n",
       "      <th>antiguedad</th>\n",
       "      <th>habitaciones</th>\n",
       "      <th>garages</th>\n",
       "      <th>...</th>\n",
       "      <th>idzona</th>\n",
       "      <th>lat</th>\n",
       "      <th>lng</th>\n",
       "      <th>fecha</th>\n",
       "      <th>gimnasio</th>\n",
       "      <th>usosmultiples</th>\n",
       "      <th>piscina</th>\n",
       "      <th>escuelascercanas</th>\n",
       "      <th>centroscomercialescercanos</th>\n",
       "      <th>precio</th>\n",
       "    </tr>\n",
       "  </thead>\n",
       "  <tbody>\n",
       "    <tr>\n",
       "      <th>0</th>\n",
       "      <td>254099</td>\n",
       "      <td>depto. tipo a-402</td>\n",
       "      <td>depto. interior de 80.15m2, consta de sala com...</td>\n",
       "      <td>Apartamento</td>\n",
       "      <td>Avenida Division del Norte 2005</td>\n",
       "      <td>Benito Juárez</td>\n",
       "      <td>Distrito Federal</td>\n",
       "      <td>NaN</td>\n",
       "      <td>2.0</td>\n",
       "      <td>1.0</td>\n",
       "      <td>...</td>\n",
       "      <td>23533.0</td>\n",
       "      <td>NaN</td>\n",
       "      <td>NaN</td>\n",
       "      <td>2015-08-23</td>\n",
       "      <td>0</td>\n",
       "      <td>0</td>\n",
       "      <td>0</td>\n",
       "      <td>0</td>\n",
       "      <td>0</td>\n",
       "      <td>2273000</td>\n",
       "    </tr>\n",
       "  </tbody>\n",
       "</table>\n",
       "<p>1 rows × 23 columns</p>\n",
       "</div>"
      ],
      "text/plain": [
       "       id             titulo  \\\n",
       "0  254099  depto. tipo a-402   \n",
       "\n",
       "                                         descripcion tipodepropiedad  \\\n",
       "0  depto. interior de 80.15m2, consta de sala com...     Apartamento   \n",
       "\n",
       "                         direccion         ciudad         provincia  \\\n",
       "0  Avenida Division del Norte 2005  Benito Juárez  Distrito Federal   \n",
       "\n",
       "   antiguedad  habitaciones  garages  ...   idzona  lat  lng      fecha  \\\n",
       "0         NaN           2.0      1.0  ...  23533.0  NaN  NaN 2015-08-23   \n",
       "\n",
       "   gimnasio  usosmultiples piscina  escuelascercanas  \\\n",
       "0         0              0       0                 0   \n",
       "\n",
       "   centroscomercialescercanos   precio  \n",
       "0                           0  2273000  \n",
       "\n",
       "[1 rows x 23 columns]"
      ]
     },
     "execution_count": 3,
     "metadata": {},
     "output_type": "execute_result"
    }
   ],
   "source": [
    "df.head(1)"
   ]
  },
  {
   "cell_type": "code",
   "execution_count": 4,
   "metadata": {
    "colab": {},
    "colab_type": "code",
    "id": "MScvhxKXNX8O"
   },
   "outputs": [],
   "source": [
    "# me quedo con los datos originales para no afectar los datos de columnas con 0s y 1s\n",
    "data = df\n",
    "#Quito todos los NaN y los pasa a valor 0\n",
    "df = df.replace(np.nan, 0)"
   ]
  },
  {
   "cell_type": "code",
   "execution_count": 5,
   "metadata": {
    "colab": {},
    "colab_type": "code",
    "id": "xTvY_0xzakaV"
   },
   "outputs": [],
   "source": [
    "#Continuar casteando valores que ocupan demasiada memoria (ahora puedo hacerlo en aquellos que tenian NaN)\n",
    "df = df.astype({'banos':'int32', 'antiguedad':'int32', 'garages':'int32', 'habitaciones':'int32', 'metroscubiertos':'int32', 'metrostotales':'int32',\n",
    "                    'idzona':'int32'})"
   ]
  },
  {
   "cell_type": "code",
   "execution_count": 6,
   "metadata": {
    "colab": {},
    "colab_type": "code",
    "id": "MV2bFLQiamNK"
   },
   "outputs": [],
   "source": [
    "#Establecer como category el tipo de propiedad\n",
    "categorias = df['tipodepropiedad']\n",
    "categorias = categorias.astype('category').dtypes\n",
    "df = df.astype({'tipodepropiedad':'category'})"
   ]
  },
  {
   "cell_type": "markdown",
   "metadata": {},
   "source": [
    "# Análisis sobre los precios"
   ]
  },
  {
   "cell_type": "markdown",
   "metadata": {},
   "source": [
    "## Análisis según tipo de propiedad"
   ]
  },
  {
   "cell_type": "code",
   "execution_count": 7,
   "metadata": {
    "colab": {
     "base_uri": "https://localhost:8080/",
     "height": 459
    },
    "colab_type": "code",
    "id": "JtWdPztZbR2i",
    "outputId": "0dc5799d-3353-4d21-ef96-931669e4de42"
   },
   "outputs": [
    {
     "data": {
      "text/plain": [
       "Casa                             141717\n",
       "Apartamento                       57341\n",
       "Casa en condominio                19297\n",
       "Terreno                            9945\n",
       "Local Comercial                    3055\n",
       "Oficina comercial                  1741\n",
       "Bodega comercial                   1406\n",
       "Edificio                           1396\n",
       "Terreno comercial                  1326\n",
       "Casa uso de suelo                   708\n",
       "Quinta Vacacional                   395\n",
       "Duplex                              343\n",
       "Villa                               340\n",
       "Inmuebles productivos urbanos       200\n",
       "Rancho                              170\n",
       "Local en centro comercial           165\n",
       "Departamento Compartido             141\n",
       "Otros                               134\n",
       "Nave industrial                      76\n",
       "0                                    46\n",
       "Terreno industrial                   31\n",
       "Huerta                               20\n",
       "Lote                                  5\n",
       "Hospedaje                             1\n",
       "Garage                                1\n",
       "Name: tipodepropiedad, dtype: int64"
      ]
     },
     "execution_count": 7,
     "metadata": {},
     "output_type": "execute_result"
    }
   ],
   "source": [
    "#Analizo los tipos de propiedades\n",
    "df['tipodepropiedad'].value_counts()"
   ]
  },
  {
   "cell_type": "code",
   "execution_count": 8,
   "metadata": {
    "colab": {},
    "colab_type": "code",
    "id": "243NBYbjPJ3q"
   },
   "outputs": [],
   "source": [
    "result = df.groupby([\"tipodepropiedad\"])['precio'].aggregate(np.median).reset_index().sort_values('precio')"
   ]
  },
  {
   "cell_type": "code",
   "execution_count": 9,
   "metadata": {
    "colab": {},
    "colab_type": "code",
    "id": "McVTlnkyPU84"
   },
   "outputs": [],
   "source": [
    "result = result.drop([0],axis=0) #Elimino los tipos 0 que desconozco que clase de propiedad son (NO me sirven para comparar porque puede ser cualquier cosa)"
   ]
  },
  {
   "cell_type": "code",
   "execution_count": 10,
   "metadata": {
    "colab": {
     "base_uri": "https://localhost:8080/",
     "height": 322
    },
    "colab_type": "code",
    "id": "puQTdGNd5MLn",
    "outputId": "153b49a1-01b8-4986-ae3d-5c11900f93b0"
   },
   "outputs": [
    {
     "data": {
      "text/plain": [
       "Text(0,0.5,'Tipo de Propiedad')"
      ]
     },
     "execution_count": 10,
     "metadata": {},
     "output_type": "execute_result"
    },
    {
     "data": {
      "image/png": "[encoded data removed]",
      "text/plain": [
       "<matplotlib.figure.Figure at 0x7f566088d710>"
      ]
     },
     "metadata": {
      "needs_background": "light"
     },
     "output_type": "display_data"
    }
   ],
   "source": [
    "g = sns.barplot( x='precio', y= 'tipodepropiedad', data = result, order=result['tipodepropiedad'], orient = 'h',saturation = 1000)\n",
    "g.set_title(\"Precios Promedios segun Tipo de Propiedad\", fontsize=20)\n",
    "g.set_xlabel(\"Precio Promedio\", fontsize=15)\n",
    "g.set_ylabel(\"Tipo de Propiedad\", fontsize=15)"
   ]
  },
  {
   "cell_type": "markdown",
   "metadata": {
    "colab": {},
    "colab_type": "code",
    "id": "MWLqKd58Wn3j"
   },
   "source": [
    "## Precios de propiedades según la popularidad de las provincias y tipos de propiedades"
   ]
  },
  {
   "cell_type": "code",
   "execution_count": 11,
   "metadata": {},
   "outputs": [
    {
     "data": {
      "text/plain": [
       "Casa                  141717\n",
       "Apartamento            57341\n",
       "Casa en condominio     19297\n",
       "Terreno                 9945\n",
       "Local Comercial         3055\n",
       "Oficina comercial       1741\n",
       "Bodega comercial        1406\n",
       "Edificio                1396\n",
       "Terreno comercial       1326\n",
       "Casa uso de suelo        708\n",
       "Name: tipodepropiedad, dtype: int64"
      ]
     },
     "execution_count": 11,
     "metadata": {},
     "output_type": "execute_result"
    }
   ],
   "source": [
    "# Veo cuales son las propiedades más populares\n",
    "propiedadesXtipos = df.tipodepropiedad.value_counts().nlargest(10)\n",
    "propiedadesXtipos"
   ]
  },
  {
   "cell_type": "code",
   "execution_count": 12,
   "metadata": {},
   "outputs": [
    {
     "data": {
      "text/plain": [
       "CategoricalIndex(['Casa', 'Apartamento', 'Casa en condominio', 'Terreno',\n",
       "                  'Local Comercial', 'Oficina comercial', 'Bodega comercial',\n",
       "                  'Edificio', 'Terreno comercial', 'Casa uso de suelo'],\n",
       "                 categories=[0, 'Apartamento', 'Bodega comercial', 'Casa', 'Casa en condominio', 'Casa uso de suelo', 'Departamento Compartido', 'Duplex', ...], ordered=False, dtype='category')"
      ]
     },
     "execution_count": 12,
     "metadata": {},
     "output_type": "execute_result"
    }
   ],
   "source": [
    "tipos_populares = propiedadesXtipos.index\n",
    "tipos_populares"
   ]
  },
  {
   "cell_type": "code",
   "execution_count": 13,
   "metadata": {},
   "outputs": [
    {
     "data": {
      "text/plain": [
       "Distrito Federal    58790\n",
       "Edo. de México      41607\n",
       "Jalisco             21238\n",
       "Querétaro           16988\n",
       "Nuevo León          15324\n",
       "Puebla              10421\n",
       "San luis Potosí      8447\n",
       "Yucatán              7928\n",
       "Morelos              7337\n",
       "Veracruz             5762\n",
       "Name: provincia, dtype: int64"
      ]
     },
     "execution_count": 13,
     "metadata": {},
     "output_type": "execute_result"
    }
   ],
   "source": [
    "#Provincias más populares\n",
    "popiedadesXprovincia = df.provincia.value_counts().nlargest(10)\n",
    "popiedadesXprovincia"
   ]
  },
  {
   "cell_type": "code",
   "execution_count": 14,
   "metadata": {},
   "outputs": [
    {
     "data": {
      "text/plain": [
       "Index(['Distrito Federal', 'Edo. de México', 'Jalisco', 'Querétaro',\n",
       "       'Nuevo León', 'Puebla', 'San luis Potosí', 'Yucatán', 'Morelos',\n",
       "       'Veracruz'],\n",
       "      dtype='object')"
      ]
     },
     "execution_count": 14,
     "metadata": {},
     "output_type": "execute_result"
    }
   ],
   "source": [
    "provincias_populares = popiedadesXprovincia.index\n",
    "provincias_populares"
   ]
  },
  {
   "cell_type": "code",
   "execution_count": 15,
   "metadata": {},
   "outputs": [],
   "source": [
    "#Tipo de propiedad vs precios promedios\n",
    "tipoVSprecio = df[['id', 'tipodepropiedad', 'precio', 'provincia']].groupby(['provincia', 'tipodepropiedad']).agg({'id': 'count', 'precio': 'mean'}).reset_index().sort_values(by = ['id'], ascending = False)\n",
    "#Tomo sólo los 10 tipos de propiedad y provincias más populares\n",
    "tipoVSprecio_mas = tipoVSprecio.loc[(tipoVSprecio.provincia.isin(provincias_populares)) & (tipoVSprecio.tipodepropiedad.isin(tipos_populares))]"
   ]
  },
  {
   "cell_type": "code",
   "execution_count": 16,
   "metadata": {
    "colab": {},
    "colab_type": "code",
    "id": "9olidlqLshCs"
   },
   "outputs": [
    {
     "data": {
      "text/html": [
       "<div>\n",
       "<style scoped>\n",
       "    .dataframe tbody tr th:only-of-type {\n",
       "        vertical-align: middle;\n",
       "    }\n",
       "\n",
       "    .dataframe tbody tr th {\n",
       "        vertical-align: top;\n",
       "    }\n",
       "\n",
       "    .dataframe thead th {\n",
       "        text-align: right;\n",
       "    }\n",
       "</style>\n",
       "<table border=\"1\" class=\"dataframe\">\n",
       "  <thead>\n",
       "    <tr style=\"text-align: right;\">\n",
       "      <th></th>\n",
       "      <th>provincia</th>\n",
       "      <th>tipodepropiedad</th>\n",
       "      <th>id</th>\n",
       "      <th>precio</th>\n",
       "    </tr>\n",
       "  </thead>\n",
       "  <tbody>\n",
       "    <tr>\n",
       "      <th>129</th>\n",
       "      <td>Distrito Federal</td>\n",
       "      <td>Apartamento</td>\n",
       "      <td>33839</td>\n",
       "      <td>2.919084e+06</td>\n",
       "    </tr>\n",
       "    <tr>\n",
       "      <th>173</th>\n",
       "      <td>Edo. de México</td>\n",
       "      <td>Casa</td>\n",
       "      <td>25938</td>\n",
       "      <td>2.792133e+06</td>\n",
       "    </tr>\n",
       "    <tr>\n",
       "      <th>131</th>\n",
       "      <td>Distrito Federal</td>\n",
       "      <td>Casa</td>\n",
       "      <td>15812</td>\n",
       "      <td>4.037017e+06</td>\n",
       "    </tr>\n",
       "    <tr>\n",
       "      <th>247</th>\n",
       "      <td>Jalisco</td>\n",
       "      <td>Casa</td>\n",
       "      <td>14196</td>\n",
       "      <td>2.325363e+06</td>\n",
       "    </tr>\n",
       "    <tr>\n",
       "      <th>314</th>\n",
       "      <td>Nuevo León</td>\n",
       "      <td>Casa</td>\n",
       "      <td>11477</td>\n",
       "      <td>2.568358e+06</td>\n",
       "    </tr>\n",
       "  </tbody>\n",
       "</table>\n",
       "</div>"
      ],
      "text/plain": [
       "            provincia tipodepropiedad     id        precio\n",
       "129  Distrito Federal     Apartamento  33839  2.919084e+06\n",
       "173    Edo. de México            Casa  25938  2.792133e+06\n",
       "131  Distrito Federal            Casa  15812  4.037017e+06\n",
       "247           Jalisco            Casa  14196  2.325363e+06\n",
       "314        Nuevo León            Casa  11477  2.568358e+06"
      ]
     },
     "execution_count": 16,
     "metadata": {},
     "output_type": "execute_result"
    }
   ],
   "source": [
    "tipoVSprecio_mas.head()"
   ]
  },
  {
   "cell_type": "code",
   "execution_count": 17,
   "metadata": {},
   "outputs": [
    {
     "data": {
      "text/plain": [
       "10"
      ]
     },
     "execution_count": 17,
     "metadata": {},
     "output_type": "execute_result"
    }
   ],
   "source": [
    "tipoVSprecio_mas.provincia.nunique()"
   ]
  },
  {
   "cell_type": "code",
   "execution_count": 18,
   "metadata": {},
   "outputs": [
    {
     "data": {
      "text/plain": [
       "10"
      ]
     },
     "execution_count": 18,
     "metadata": {},
     "output_type": "execute_result"
    }
   ],
   "source": [
    "tipoVSprecio_mas.tipodepropiedad.nunique()"
   ]
  },
  {
   "cell_type": "code",
   "execution_count": 19,
   "metadata": {},
   "outputs": [
    {
     "data": {
      "text/html": [
       "<div>\n",
       "<style scoped>\n",
       "    .dataframe tbody tr th:only-of-type {\n",
       "        vertical-align: middle;\n",
       "    }\n",
       "\n",
       "    .dataframe tbody tr th {\n",
       "        vertical-align: top;\n",
       "    }\n",
       "\n",
       "    .dataframe thead th {\n",
       "        text-align: right;\n",
       "    }\n",
       "</style>\n",
       "<table border=\"1\" class=\"dataframe\">\n",
       "  <thead>\n",
       "    <tr style=\"text-align: right;\">\n",
       "      <th>provincia</th>\n",
       "      <th>Distrito Federal</th>\n",
       "      <th>Edo. de México</th>\n",
       "      <th>Jalisco</th>\n",
       "      <th>Morelos</th>\n",
       "      <th>Nuevo León</th>\n",
       "      <th>Puebla</th>\n",
       "      <th>Querétaro</th>\n",
       "      <th>San luis Potosí</th>\n",
       "      <th>Veracruz</th>\n",
       "      <th>Yucatán</th>\n",
       "    </tr>\n",
       "    <tr>\n",
       "      <th>tipodepropiedad</th>\n",
       "      <th></th>\n",
       "      <th></th>\n",
       "      <th></th>\n",
       "      <th></th>\n",
       "      <th></th>\n",
       "      <th></th>\n",
       "      <th></th>\n",
       "      <th></th>\n",
       "      <th></th>\n",
       "      <th></th>\n",
       "    </tr>\n",
       "  </thead>\n",
       "  <tbody>\n",
       "    <tr>\n",
       "      <th>Apartamento</th>\n",
       "      <td>2.919084e+06</td>\n",
       "      <td>2.881501e+06</td>\n",
       "      <td>2.520902e+06</td>\n",
       "      <td>1.574236e+06</td>\n",
       "      <td>3.860282e+06</td>\n",
       "      <td>1.860751e+06</td>\n",
       "      <td>1.945329e+06</td>\n",
       "      <td>1.671470e+06</td>\n",
       "      <td>1.940036e+06</td>\n",
       "      <td>2.336429e+06</td>\n",
       "    </tr>\n",
       "    <tr>\n",
       "      <th>Bodega comercial</th>\n",
       "      <td>4.272932e+06</td>\n",
       "      <td>2.749083e+06</td>\n",
       "      <td>2.310573e+06</td>\n",
       "      <td>2.480000e+06</td>\n",
       "      <td>2.233120e+06</td>\n",
       "      <td>2.482700e+06</td>\n",
       "      <td>2.013162e+06</td>\n",
       "      <td>2.001956e+06</td>\n",
       "      <td>1.856329e+06</td>\n",
       "      <td>1.541557e+06</td>\n",
       "    </tr>\n",
       "    <tr>\n",
       "      <th>Casa</th>\n",
       "      <td>4.037017e+06</td>\n",
       "      <td>2.792133e+06</td>\n",
       "      <td>2.325363e+06</td>\n",
       "      <td>2.595663e+06</td>\n",
       "      <td>2.568358e+06</td>\n",
       "      <td>2.391779e+06</td>\n",
       "      <td>2.309959e+06</td>\n",
       "      <td>2.032427e+06</td>\n",
       "      <td>1.921550e+06</td>\n",
       "      <td>1.992796e+06</td>\n",
       "    </tr>\n",
       "    <tr>\n",
       "      <th>Casa en condominio</th>\n",
       "      <td>4.811713e+06</td>\n",
       "      <td>2.484096e+06</td>\n",
       "      <td>2.627604e+06</td>\n",
       "      <td>1.801653e+06</td>\n",
       "      <td>2.701284e+06</td>\n",
       "      <td>2.692794e+06</td>\n",
       "      <td>2.120155e+06</td>\n",
       "      <td>2.266716e+06</td>\n",
       "      <td>1.488363e+06</td>\n",
       "      <td>2.633705e+06</td>\n",
       "    </tr>\n",
       "    <tr>\n",
       "      <th>Casa uso de suelo</th>\n",
       "      <td>5.321922e+06</td>\n",
       "      <td>3.135521e+06</td>\n",
       "      <td>2.729746e+06</td>\n",
       "      <td>3.292401e+06</td>\n",
       "      <td>2.585438e+06</td>\n",
       "      <td>2.668182e+06</td>\n",
       "      <td>3.235852e+06</td>\n",
       "      <td>2.444000e+06</td>\n",
       "      <td>3.675000e+06</td>\n",
       "      <td>2.488077e+06</td>\n",
       "    </tr>\n",
       "    <tr>\n",
       "      <th>Edificio</th>\n",
       "      <td>5.951535e+06</td>\n",
       "      <td>4.820201e+06</td>\n",
       "      <td>4.911477e+06</td>\n",
       "      <td>3.938667e+06</td>\n",
       "      <td>3.617602e+06</td>\n",
       "      <td>4.947077e+06</td>\n",
       "      <td>4.353530e+06</td>\n",
       "      <td>5.465400e+06</td>\n",
       "      <td>3.963292e+06</td>\n",
       "      <td>3.272906e+06</td>\n",
       "    </tr>\n",
       "    <tr>\n",
       "      <th>Local Comercial</th>\n",
       "      <td>3.178273e+06</td>\n",
       "      <td>2.764283e+06</td>\n",
       "      <td>2.349532e+06</td>\n",
       "      <td>2.512158e+06</td>\n",
       "      <td>2.440365e+06</td>\n",
       "      <td>2.293458e+06</td>\n",
       "      <td>1.898338e+06</td>\n",
       "      <td>2.032394e+06</td>\n",
       "      <td>2.521488e+06</td>\n",
       "      <td>2.081840e+06</td>\n",
       "    </tr>\n",
       "    <tr>\n",
       "      <th>Oficina comercial</th>\n",
       "      <td>3.647538e+06</td>\n",
       "      <td>3.334818e+06</td>\n",
       "      <td>3.837927e+06</td>\n",
       "      <td>2.064219e+06</td>\n",
       "      <td>3.231270e+06</td>\n",
       "      <td>2.708164e+06</td>\n",
       "      <td>2.277341e+06</td>\n",
       "      <td>1.888526e+06</td>\n",
       "      <td>2.696753e+06</td>\n",
       "      <td>1.945090e+06</td>\n",
       "    </tr>\n",
       "    <tr>\n",
       "      <th>Terreno</th>\n",
       "      <td>4.066719e+06</td>\n",
       "      <td>1.871082e+06</td>\n",
       "      <td>1.766575e+06</td>\n",
       "      <td>1.477136e+06</td>\n",
       "      <td>1.841704e+06</td>\n",
       "      <td>1.330743e+06</td>\n",
       "      <td>8.709473e+05</td>\n",
       "      <td>1.360701e+06</td>\n",
       "      <td>1.066838e+06</td>\n",
       "      <td>1.280037e+06</td>\n",
       "    </tr>\n",
       "    <tr>\n",
       "      <th>Terreno comercial</th>\n",
       "      <td>4.737601e+06</td>\n",
       "      <td>3.371196e+06</td>\n",
       "      <td>2.705533e+06</td>\n",
       "      <td>1.638892e+06</td>\n",
       "      <td>2.215208e+06</td>\n",
       "      <td>2.364212e+06</td>\n",
       "      <td>1.303558e+06</td>\n",
       "      <td>1.404880e+06</td>\n",
       "      <td>2.306546e+06</td>\n",
       "      <td>2.628089e+06</td>\n",
       "    </tr>\n",
       "  </tbody>\n",
       "</table>\n",
       "</div>"
      ],
      "text/plain": [
       "provincia           Distrito Federal  Edo. de México       Jalisco  \\\n",
       "tipodepropiedad                                                      \n",
       "Apartamento             2.919084e+06    2.881501e+06  2.520902e+06   \n",
       "Bodega comercial        4.272932e+06    2.749083e+06  2.310573e+06   \n",
       "Casa                    4.037017e+06    2.792133e+06  2.325363e+06   \n",
       "Casa en condominio      4.811713e+06    2.484096e+06  2.627604e+06   \n",
       "Casa uso de suelo       5.321922e+06    3.135521e+06  2.729746e+06   \n",
       "Edificio                5.951535e+06    4.820201e+06  4.911477e+06   \n",
       "Local Comercial         3.178273e+06    2.764283e+06  2.349532e+06   \n",
       "Oficina comercial       3.647538e+06    3.334818e+06  3.837927e+06   \n",
       "Terreno                 4.066719e+06    1.871082e+06  1.766575e+06   \n",
       "Terreno comercial       4.737601e+06    3.371196e+06  2.705533e+06   \n",
       "\n",
       "provincia                Morelos    Nuevo León        Puebla     Querétaro  \\\n",
       "tipodepropiedad                                                              \n",
       "Apartamento         1.574236e+06  3.860282e+06  1.860751e+06  1.945329e+06   \n",
       "Bodega comercial    2.480000e+06  2.233120e+06  2.482700e+06  2.013162e+06   \n",
       "Casa                2.595663e+06  2.568358e+06  2.391779e+06  2.309959e+06   \n",
       "Casa en condominio  1.801653e+06  2.701284e+06  2.692794e+06  2.120155e+06   \n",
       "Casa uso de suelo   3.292401e+06  2.585438e+06  2.668182e+06  3.235852e+06   \n",
       "Edificio            3.938667e+06  3.617602e+06  4.947077e+06  4.353530e+06   \n",
       "Local Comercial     2.512158e+06  2.440365e+06  2.293458e+06  1.898338e+06   \n",
       "Oficina comercial   2.064219e+06  3.231270e+06  2.708164e+06  2.277341e+06   \n",
       "Terreno             1.477136e+06  1.841704e+06  1.330743e+06  8.709473e+05   \n",
       "Terreno comercial   1.638892e+06  2.215208e+06  2.364212e+06  1.303558e+06   \n",
       "\n",
       "provincia           San luis Potosí      Veracruz       Yucatán  \n",
       "tipodepropiedad                                                  \n",
       "Apartamento            1.671470e+06  1.940036e+06  2.336429e+06  \n",
       "Bodega comercial       2.001956e+06  1.856329e+06  1.541557e+06  \n",
       "Casa                   2.032427e+06  1.921550e+06  1.992796e+06  \n",
       "Casa en condominio     2.266716e+06  1.488363e+06  2.633705e+06  \n",
       "Casa uso de suelo      2.444000e+06  3.675000e+06  2.488077e+06  \n",
       "Edificio               5.465400e+06  3.963292e+06  3.272906e+06  \n",
       "Local Comercial        2.032394e+06  2.521488e+06  2.081840e+06  \n",
       "Oficina comercial      1.888526e+06  2.696753e+06  1.945090e+06  \n",
       "Terreno                1.360701e+06  1.066838e+06  1.280037e+06  \n",
       "Terreno comercial      1.404880e+06  2.306546e+06  2.628089e+06  "
      ]
     },
     "execution_count": 19,
     "metadata": {},
     "output_type": "execute_result"
    }
   ],
   "source": [
    "tablaHeatMap = pd.pivot_table(tipoVSprecio_mas, values = 'precio', index = 'tipodepropiedad', columns = 'provincia')\n",
    "tablaHeatMap\n"
   ]
  },
  {
   "cell_type": "code",
   "execution_count": 20,
   "metadata": {},
   "outputs": [
    {
     "data": {
      "text/plain": [
       "Text(0.5,33,'Provincia')"
      ]
     },
     "execution_count": 20,
     "metadata": {},
     "output_type": "execute_result"
    },
    {
     "data": {
      "image/png": "[encoded data removed]",
      "text/plain": [
       "<matplotlib.figure.Figure at 0x7f5665bf2470>"
      ]
     },
     "metadata": {
      "needs_background": "light"
     },
     "output_type": "display_data"
    }
   ],
   "source": [
    "plt.figure(figsize = (12,6))\n",
    "graf = sns.heatmap(tablaHeatMap)\n",
    "graf.set_title('Precios según tipo de propiedad y provincias Más populares', fontsize =  22)\n",
    "graf.set_ylabel('Tipo de propiedad', fontsize = 18)\n",
    "graf.set_xlabel('Provincia', fontsize = 18)\n"
   ]
  },
  {
   "cell_type": "markdown",
   "metadata": {},
   "source": [
    "## ¿Cómo se distribuye el precio en las ciudades más populares?"
   ]
  },
  {
   "cell_type": "code",
   "execution_count": 21,
   "metadata": {},
   "outputs": [
    {
     "data": {
      "text/plain": [
       "Index(['Querétaro', 'Benito Juárez', 'Zapopan', 'San Luis Potosí', 'Mérida',\n",
       "       'Monterrey', 'Alvaro Obregón', 'Cuauhtémoc', 'Naucalpan de Juárez',\n",
       "       'Miguel Hidalgo', 'Atizapán de Zaragoza', 'Tlalpan', 'Huixquilucan',\n",
       "       'Coyoacán', 'Puebla', 'Guadalajara', 'San Andrés Cholula', 'Cancún',\n",
       "       'Cuernavaca', 'Chihuahua'],\n",
       "      dtype='object')"
      ]
     },
     "execution_count": 21,
     "metadata": {},
     "output_type": "execute_result"
    }
   ],
   "source": [
    "ciudades_populares = df.ciudad.value_counts().head(20).index\n",
    "ciudades_populares"
   ]
  },
  {
   "cell_type": "code",
   "execution_count": 22,
   "metadata": {},
   "outputs": [
    {
     "data": {
      "text/html": [
       "<div>\n",
       "<style scoped>\n",
       "    .dataframe tbody tr th:only-of-type {\n",
       "        vertical-align: middle;\n",
       "    }\n",
       "\n",
       "    .dataframe tbody tr th {\n",
       "        vertical-align: top;\n",
       "    }\n",
       "\n",
       "    .dataframe thead th {\n",
       "        text-align: right;\n",
       "    }\n",
       "</style>\n",
       "<table border=\"1\" class=\"dataframe\">\n",
       "  <thead>\n",
       "    <tr style=\"text-align: right;\">\n",
       "      <th></th>\n",
       "      <th>precio</th>\n",
       "      <th>ciudad</th>\n",
       "    </tr>\n",
       "  </thead>\n",
       "  <tbody>\n",
       "    <tr>\n",
       "      <th>0</th>\n",
       "      <td>2273000</td>\n",
       "      <td>Benito Juárez</td>\n",
       "    </tr>\n",
       "    <tr>\n",
       "      <th>4</th>\n",
       "      <td>1150000</td>\n",
       "      <td>Zapopan</td>\n",
       "    </tr>\n",
       "    <tr>\n",
       "      <th>5</th>\n",
       "      <td>1100000</td>\n",
       "      <td>Coyoacán</td>\n",
       "    </tr>\n",
       "    <tr>\n",
       "      <th>10</th>\n",
       "      <td>488000</td>\n",
       "      <td>San Luis Potosí</td>\n",
       "    </tr>\n",
       "    <tr>\n",
       "      <th>12</th>\n",
       "      <td>1500000</td>\n",
       "      <td>Querétaro</td>\n",
       "    </tr>\n",
       "  </tbody>\n",
       "</table>\n",
       "</div>"
      ],
      "text/plain": [
       "     precio           ciudad\n",
       "0   2273000    Benito Juárez\n",
       "4   1150000          Zapopan\n",
       "5   1100000         Coyoacán\n",
       "10   488000  San Luis Potosí\n",
       "12  1500000        Querétaro"
      ]
     },
     "execution_count": 22,
     "metadata": {},
     "output_type": "execute_result"
    }
   ],
   "source": [
    "precios_ciudades_pop = df.loc[df.ciudad.isin(ciudades_populares), ['precio', 'ciudad']]\n",
    "precios_ciudades_pop.head()"
   ]
  },
  {
   "cell_type": "code",
   "execution_count": 23,
   "metadata": {},
   "outputs": [
    {
     "data": {
      "text/plain": [
       "(array([-2000000.,        0.,  2000000.,  4000000.,  6000000.,  8000000.,\n",
       "        10000000., 12000000., 14000000.]),\n",
       " <a list of 9 Text yticklabel objects>)"
      ]
     },
     "execution_count": 23,
     "metadata": {},
     "output_type": "execute_result"
    },
    {
     "data": {
      "image/png": "[encoded data removed]",
      "text/plain": [
       "<matplotlib.figure.Figure at 0x7f5666c73e48>"
      ]
     },
     "metadata": {
      "needs_background": "light"
     },
     "output_type": "display_data"
    }
   ],
   "source": [
    "plt.figure(figsize = (18,7))\n",
    "grafico = sns.boxplot( x=precios_ciudades_pop[\"ciudad\"], y=precios_ciudades_pop[\"precio\"], palette=\"Paired\")\n",
    "grafico.set_xticklabels(grafico.get_xticklabels(),rotation=60)\n",
    "grafico.set_title('Distribución del valor del precio para las ciudades más populares', fontsize =  22)\n",
    "grafico.set_ylabel('Precio', fontsize = 18)\n",
    "grafico.set_xlabel('Ciudad', fontsize = 18)\n",
    "plt.xticks(fontsize=14)\n",
    "plt.yticks(fontsize=14)"
   ]
  },
  {
   "cell_type": "markdown",
   "metadata": {},
   "source": [
    "## ¿Qué pasa con el precio según las características de las casas?"
   ]
  },
  {
   "cell_type": "code",
   "execution_count": 24,
   "metadata": {
    "scrolled": true
   },
   "outputs": [
    {
     "data": {
      "text/html": [
       "<div>\n",
       "<style scoped>\n",
       "    .dataframe tbody tr th:only-of-type {\n",
       "        vertical-align: middle;\n",
       "    }\n",
       "\n",
       "    .dataframe tbody tr th {\n",
       "        vertical-align: top;\n",
       "    }\n",
       "\n",
       "    .dataframe thead th {\n",
       "        text-align: right;\n",
       "    }\n",
       "</style>\n",
       "<table border=\"1\" class=\"dataframe\">\n",
       "  <thead>\n",
       "    <tr style=\"text-align: right;\">\n",
       "      <th></th>\n",
       "      <th>id</th>\n",
       "      <th>precio</th>\n",
       "      <th>caracteristica</th>\n",
       "      <th>si/no</th>\n",
       "    </tr>\n",
       "  </thead>\n",
       "  <tbody>\n",
       "    <tr>\n",
       "      <th>0</th>\n",
       "      <td>53461</td>\n",
       "      <td>3600000</td>\n",
       "      <td>gimnasio</td>\n",
       "      <td>0</td>\n",
       "    </tr>\n",
       "    <tr>\n",
       "      <th>1</th>\n",
       "      <td>209067</td>\n",
       "      <td>650000</td>\n",
       "      <td>gimnasio</td>\n",
       "      <td>0</td>\n",
       "    </tr>\n",
       "    <tr>\n",
       "      <th>2</th>\n",
       "      <td>126147</td>\n",
       "      <td>1100000</td>\n",
       "      <td>gimnasio</td>\n",
       "      <td>0</td>\n",
       "    </tr>\n",
       "    <tr>\n",
       "      <th>3</th>\n",
       "      <td>5013</td>\n",
       "      <td>4200000</td>\n",
       "      <td>gimnasio</td>\n",
       "      <td>0</td>\n",
       "    </tr>\n",
       "    <tr>\n",
       "      <th>4</th>\n",
       "      <td>47890</td>\n",
       "      <td>1500000</td>\n",
       "      <td>gimnasio</td>\n",
       "      <td>0</td>\n",
       "    </tr>\n",
       "  </tbody>\n",
       "</table>\n",
       "</div>"
      ],
      "text/plain": [
       "       id   precio caracteristica  si/no\n",
       "0   53461  3600000       gimnasio      0\n",
       "1  209067   650000       gimnasio      0\n",
       "2  126147  1100000       gimnasio      0\n",
       "3    5013  4200000       gimnasio      0\n",
       "4   47890  1500000       gimnasio      0"
      ]
     },
     "execution_count": 24,
     "metadata": {},
     "output_type": "execute_result"
    }
   ],
   "source": [
    "data_con_caracteristicas = data.dropna().iloc[:, [0,17,18,19,20,21,22]]\n",
    "data_con_caracteristicas = data_con_caracteristicas.melt(id_vars = ['id', 'precio'], value_vars = ['gimnasio', 'usosmultiples', 'piscina', 'escuelascercanas', 'centroscomercialescercanos'], var_name = 'caracteristica', value_name = 'si/no')\n",
    "data_con_caracteristicas.head()"
   ]
  },
  {
   "cell_type": "code",
   "execution_count": 25,
   "metadata": {},
   "outputs": [
    {
     "data": {
      "text/plain": [
       "0    171753\n",
       "1     77652\n",
       "Name: si/no, dtype: int64"
      ]
     },
     "execution_count": 25,
     "metadata": {},
     "output_type": "execute_result"
    }
   ],
   "source": [
    "data_con_caracteristicas['si/no'].value_counts()"
   ]
  },
  {
   "cell_type": "code",
   "execution_count": 26,
   "metadata": {},
   "outputs": [
    {
     "data": {
      "text/html": [
       "<div>\n",
       "<style scoped>\n",
       "    .dataframe tbody tr th:only-of-type {\n",
       "        vertical-align: middle;\n",
       "    }\n",
       "\n",
       "    .dataframe tbody tr th {\n",
       "        vertical-align: top;\n",
       "    }\n",
       "\n",
       "    .dataframe thead th {\n",
       "        text-align: right;\n",
       "    }\n",
       "</style>\n",
       "<table border=\"1\" class=\"dataframe\">\n",
       "  <thead>\n",
       "    <tr style=\"text-align: right;\">\n",
       "      <th></th>\n",
       "      <th>id</th>\n",
       "      <th>precio</th>\n",
       "      <th>caracteristica</th>\n",
       "      <th>si/no</th>\n",
       "    </tr>\n",
       "  </thead>\n",
       "  <tbody>\n",
       "    <tr>\n",
       "      <th>10</th>\n",
       "      <td>171944</td>\n",
       "      <td>3500000</td>\n",
       "      <td>gimnasio</td>\n",
       "      <td>1</td>\n",
       "    </tr>\n",
       "    <tr>\n",
       "      <th>26</th>\n",
       "      <td>246928</td>\n",
       "      <td>2450000</td>\n",
       "      <td>gimnasio</td>\n",
       "      <td>1</td>\n",
       "    </tr>\n",
       "    <tr>\n",
       "      <th>32</th>\n",
       "      <td>4822</td>\n",
       "      <td>3100000</td>\n",
       "      <td>gimnasio</td>\n",
       "      <td>1</td>\n",
       "    </tr>\n",
       "    <tr>\n",
       "      <th>61</th>\n",
       "      <td>43801</td>\n",
       "      <td>1250000</td>\n",
       "      <td>gimnasio</td>\n",
       "      <td>1</td>\n",
       "    </tr>\n",
       "    <tr>\n",
       "      <th>83</th>\n",
       "      <td>9893</td>\n",
       "      <td>4300000</td>\n",
       "      <td>gimnasio</td>\n",
       "      <td>1</td>\n",
       "    </tr>\n",
       "  </tbody>\n",
       "</table>\n",
       "</div>"
      ],
      "text/plain": [
       "        id   precio caracteristica  si/no\n",
       "10  171944  3500000       gimnasio      1\n",
       "26  246928  2450000       gimnasio      1\n",
       "32    4822  3100000       gimnasio      1\n",
       "61   43801  1250000       gimnasio      1\n",
       "83    9893  4300000       gimnasio      1"
      ]
     },
     "execution_count": 26,
     "metadata": {},
     "output_type": "execute_result"
    }
   ],
   "source": [
    "data_con_caracteristicas = data_con_caracteristicas.loc[data_con_caracteristicas['si/no'] != 0]\n",
    "data_con_caracteristicas.head()"
   ]
  },
  {
   "cell_type": "code",
   "execution_count": 27,
   "metadata": {},
   "outputs": [
    {
     "data": {
      "text/html": [
       "<div>\n",
       "<style scoped>\n",
       "    .dataframe tbody tr th:only-of-type {\n",
       "        vertical-align: middle;\n",
       "    }\n",
       "\n",
       "    .dataframe tbody tr th {\n",
       "        vertical-align: top;\n",
       "    }\n",
       "\n",
       "    .dataframe thead th {\n",
       "        text-align: right;\n",
       "    }\n",
       "</style>\n",
       "<table border=\"1\" class=\"dataframe\">\n",
       "  <thead>\n",
       "    <tr style=\"text-align: right;\">\n",
       "      <th></th>\n",
       "      <th>id</th>\n",
       "      <th>precio</th>\n",
       "    </tr>\n",
       "    <tr>\n",
       "      <th>caracteristica</th>\n",
       "      <th></th>\n",
       "      <th></th>\n",
       "    </tr>\n",
       "  </thead>\n",
       "  <tbody>\n",
       "    <tr>\n",
       "      <th>centroscomercialescercanos</th>\n",
       "      <td>31948</td>\n",
       "      <td>2.272573e+06</td>\n",
       "    </tr>\n",
       "    <tr>\n",
       "      <th>escuelascercanas</th>\n",
       "      <td>33486</td>\n",
       "      <td>2.219112e+06</td>\n",
       "    </tr>\n",
       "    <tr>\n",
       "      <th>gimnasio</th>\n",
       "      <td>3494</td>\n",
       "      <td>3.731120e+06</td>\n",
       "    </tr>\n",
       "    <tr>\n",
       "      <th>piscina</th>\n",
       "      <td>4728</td>\n",
       "      <td>3.130244e+06</td>\n",
       "    </tr>\n",
       "    <tr>\n",
       "      <th>usosmultiples</th>\n",
       "      <td>3996</td>\n",
       "      <td>3.345267e+06</td>\n",
       "    </tr>\n",
       "  </tbody>\n",
       "</table>\n",
       "</div>"
      ],
      "text/plain": [
       "                               id        precio\n",
       "caracteristica                                 \n",
       "centroscomercialescercanos  31948  2.272573e+06\n",
       "escuelascercanas            33486  2.219112e+06\n",
       "gimnasio                     3494  3.731120e+06\n",
       "piscina                      4728  3.130244e+06\n",
       "usosmultiples                3996  3.345267e+06"
      ]
     },
     "execution_count": 27,
     "metadata": {},
     "output_type": "execute_result"
    }
   ],
   "source": [
    "data_con_caracteristicas.groupby('caracteristica').agg({'id':'count', 'precio':'mean'})"
   ]
  },
  {
   "cell_type": "code",
   "execution_count": 28,
   "metadata": {},
   "outputs": [
    {
     "data": {
      "text/html": [
       "<div>\n",
       "<style scoped>\n",
       "    .dataframe tbody tr th:only-of-type {\n",
       "        vertical-align: middle;\n",
       "    }\n",
       "\n",
       "    .dataframe tbody tr th {\n",
       "        vertical-align: top;\n",
       "    }\n",
       "\n",
       "    .dataframe thead th {\n",
       "        text-align: right;\n",
       "    }\n",
       "</style>\n",
       "<table border=\"1\" class=\"dataframe\">\n",
       "  <thead>\n",
       "    <tr style=\"text-align: right;\">\n",
       "      <th></th>\n",
       "      <th>id</th>\n",
       "      <th>precio</th>\n",
       "      <th>caracteristica</th>\n",
       "      <th>si/no</th>\n",
       "      <th>cantidad</th>\n",
       "    </tr>\n",
       "  </thead>\n",
       "  <tbody>\n",
       "    <tr>\n",
       "      <th>10</th>\n",
       "      <td>171944</td>\n",
       "      <td>3500000</td>\n",
       "      <td>gimnasio</td>\n",
       "      <td>1</td>\n",
       "      <td>44</td>\n",
       "    </tr>\n",
       "    <tr>\n",
       "      <th>26</th>\n",
       "      <td>246928</td>\n",
       "      <td>2450000</td>\n",
       "      <td>gimnasio</td>\n",
       "      <td>1</td>\n",
       "      <td>21</td>\n",
       "    </tr>\n",
       "    <tr>\n",
       "      <th>32</th>\n",
       "      <td>4822</td>\n",
       "      <td>3100000</td>\n",
       "      <td>gimnasio</td>\n",
       "      <td>1</td>\n",
       "      <td>30</td>\n",
       "    </tr>\n",
       "    <tr>\n",
       "      <th>61</th>\n",
       "      <td>43801</td>\n",
       "      <td>1250000</td>\n",
       "      <td>gimnasio</td>\n",
       "      <td>1</td>\n",
       "      <td>19</td>\n",
       "    </tr>\n",
       "    <tr>\n",
       "      <th>83</th>\n",
       "      <td>9893</td>\n",
       "      <td>4300000</td>\n",
       "      <td>gimnasio</td>\n",
       "      <td>1</td>\n",
       "      <td>23</td>\n",
       "    </tr>\n",
       "    <tr>\n",
       "      <th>91</th>\n",
       "      <td>176707</td>\n",
       "      <td>3500000</td>\n",
       "      <td>gimnasio</td>\n",
       "      <td>1</td>\n",
       "      <td>44</td>\n",
       "    </tr>\n",
       "    <tr>\n",
       "      <th>96</th>\n",
       "      <td>124699</td>\n",
       "      <td>680000</td>\n",
       "      <td>gimnasio</td>\n",
       "      <td>1</td>\n",
       "      <td>3</td>\n",
       "    </tr>\n",
       "    <tr>\n",
       "      <th>98</th>\n",
       "      <td>107307</td>\n",
       "      <td>2980000</td>\n",
       "      <td>gimnasio</td>\n",
       "      <td>1</td>\n",
       "      <td>6</td>\n",
       "    </tr>\n",
       "    <tr>\n",
       "      <th>143</th>\n",
       "      <td>114384</td>\n",
       "      <td>5600000</td>\n",
       "      <td>gimnasio</td>\n",
       "      <td>1</td>\n",
       "      <td>15</td>\n",
       "    </tr>\n",
       "    <tr>\n",
       "      <th>153</th>\n",
       "      <td>208808</td>\n",
       "      <td>3450000</td>\n",
       "      <td>gimnasio</td>\n",
       "      <td>1</td>\n",
       "      <td>19</td>\n",
       "    </tr>\n",
       "    <tr>\n",
       "      <th>157</th>\n",
       "      <td>173585</td>\n",
       "      <td>870000</td>\n",
       "      <td>gimnasio</td>\n",
       "      <td>1</td>\n",
       "      <td>3</td>\n",
       "    </tr>\n",
       "    <tr>\n",
       "      <th>192</th>\n",
       "      <td>141161</td>\n",
       "      <td>10700000</td>\n",
       "      <td>gimnasio</td>\n",
       "      <td>1</td>\n",
       "      <td>1</td>\n",
       "    </tr>\n",
       "    <tr>\n",
       "      <th>198</th>\n",
       "      <td>157604</td>\n",
       "      <td>3300000</td>\n",
       "      <td>gimnasio</td>\n",
       "      <td>1</td>\n",
       "      <td>33</td>\n",
       "    </tr>\n",
       "    <tr>\n",
       "      <th>199</th>\n",
       "      <td>137467</td>\n",
       "      <td>3500000</td>\n",
       "      <td>gimnasio</td>\n",
       "      <td>1</td>\n",
       "      <td>44</td>\n",
       "    </tr>\n",
       "    <tr>\n",
       "      <th>228</th>\n",
       "      <td>166516</td>\n",
       "      <td>2550000</td>\n",
       "      <td>gimnasio</td>\n",
       "      <td>1</td>\n",
       "      <td>12</td>\n",
       "    </tr>\n",
       "    <tr>\n",
       "      <th>237</th>\n",
       "      <td>162268</td>\n",
       "      <td>2700000</td>\n",
       "      <td>gimnasio</td>\n",
       "      <td>1</td>\n",
       "      <td>24</td>\n",
       "    </tr>\n",
       "    <tr>\n",
       "      <th>239</th>\n",
       "      <td>87818</td>\n",
       "      <td>4350000</td>\n",
       "      <td>gimnasio</td>\n",
       "      <td>1</td>\n",
       "      <td>11</td>\n",
       "    </tr>\n",
       "    <tr>\n",
       "      <th>240</th>\n",
       "      <td>25810</td>\n",
       "      <td>2200000</td>\n",
       "      <td>gimnasio</td>\n",
       "      <td>1</td>\n",
       "      <td>37</td>\n",
       "    </tr>\n",
       "    <tr>\n",
       "      <th>253</th>\n",
       "      <td>165014</td>\n",
       "      <td>4650000</td>\n",
       "      <td>gimnasio</td>\n",
       "      <td>1</td>\n",
       "      <td>12</td>\n",
       "    </tr>\n",
       "    <tr>\n",
       "      <th>258</th>\n",
       "      <td>156848</td>\n",
       "      <td>1300000</td>\n",
       "      <td>gimnasio</td>\n",
       "      <td>1</td>\n",
       "      <td>15</td>\n",
       "    </tr>\n",
       "    <tr>\n",
       "      <th>277</th>\n",
       "      <td>116649</td>\n",
       "      <td>1525000</td>\n",
       "      <td>gimnasio</td>\n",
       "      <td>1</td>\n",
       "      <td>2</td>\n",
       "    </tr>\n",
       "    <tr>\n",
       "      <th>295</th>\n",
       "      <td>178727</td>\n",
       "      <td>3900000</td>\n",
       "      <td>gimnasio</td>\n",
       "      <td>1</td>\n",
       "      <td>22</td>\n",
       "    </tr>\n",
       "    <tr>\n",
       "      <th>299</th>\n",
       "      <td>292924</td>\n",
       "      <td>980000</td>\n",
       "      <td>gimnasio</td>\n",
       "      <td>1</td>\n",
       "      <td>9</td>\n",
       "    </tr>\n",
       "    <tr>\n",
       "      <th>310</th>\n",
       "      <td>212804</td>\n",
       "      <td>1550000</td>\n",
       "      <td>gimnasio</td>\n",
       "      <td>1</td>\n",
       "      <td>14</td>\n",
       "    </tr>\n",
       "    <tr>\n",
       "      <th>325</th>\n",
       "      <td>197522</td>\n",
       "      <td>2950445</td>\n",
       "      <td>gimnasio</td>\n",
       "      <td>1</td>\n",
       "      <td>1</td>\n",
       "    </tr>\n",
       "    <tr>\n",
       "      <th>331</th>\n",
       "      <td>68962</td>\n",
       "      <td>4230000</td>\n",
       "      <td>gimnasio</td>\n",
       "      <td>1</td>\n",
       "      <td>1</td>\n",
       "    </tr>\n",
       "    <tr>\n",
       "      <th>338</th>\n",
       "      <td>180171</td>\n",
       "      <td>1988266</td>\n",
       "      <td>gimnasio</td>\n",
       "      <td>1</td>\n",
       "      <td>1</td>\n",
       "    </tr>\n",
       "    <tr>\n",
       "      <th>341</th>\n",
       "      <td>229514</td>\n",
       "      <td>5600000</td>\n",
       "      <td>gimnasio</td>\n",
       "      <td>1</td>\n",
       "      <td>15</td>\n",
       "    </tr>\n",
       "    <tr>\n",
       "      <th>351</th>\n",
       "      <td>173847</td>\n",
       "      <td>7500000</td>\n",
       "      <td>gimnasio</td>\n",
       "      <td>1</td>\n",
       "      <td>22</td>\n",
       "    </tr>\n",
       "    <tr>\n",
       "      <th>371</th>\n",
       "      <td>179811</td>\n",
       "      <td>4750000</td>\n",
       "      <td>gimnasio</td>\n",
       "      <td>1</td>\n",
       "      <td>10</td>\n",
       "    </tr>\n",
       "    <tr>\n",
       "      <th>...</th>\n",
       "      <td>...</td>\n",
       "      <td>...</td>\n",
       "      <td>...</td>\n",
       "      <td>...</td>\n",
       "      <td>...</td>\n",
       "    </tr>\n",
       "    <tr>\n",
       "      <th>249360</th>\n",
       "      <td>118451</td>\n",
       "      <td>3050000</td>\n",
       "      <td>centroscomercialescercanos</td>\n",
       "      <td>1</td>\n",
       "      <td>39</td>\n",
       "    </tr>\n",
       "    <tr>\n",
       "      <th>249361</th>\n",
       "      <td>68840</td>\n",
       "      <td>3080000</td>\n",
       "      <td>centroscomercialescercanos</td>\n",
       "      <td>1</td>\n",
       "      <td>17</td>\n",
       "    </tr>\n",
       "    <tr>\n",
       "      <th>249366</th>\n",
       "      <td>109556</td>\n",
       "      <td>1640000</td>\n",
       "      <td>centroscomercialescercanos</td>\n",
       "      <td>1</td>\n",
       "      <td>11</td>\n",
       "    </tr>\n",
       "    <tr>\n",
       "      <th>249367</th>\n",
       "      <td>202982</td>\n",
       "      <td>9700000</td>\n",
       "      <td>centroscomercialescercanos</td>\n",
       "      <td>1</td>\n",
       "      <td>5</td>\n",
       "    </tr>\n",
       "    <tr>\n",
       "      <th>249368</th>\n",
       "      <td>211428</td>\n",
       "      <td>399000</td>\n",
       "      <td>centroscomercialescercanos</td>\n",
       "      <td>1</td>\n",
       "      <td>16</td>\n",
       "    </tr>\n",
       "    <tr>\n",
       "      <th>249373</th>\n",
       "      <td>23419</td>\n",
       "      <td>4000000</td>\n",
       "      <td>centroscomercialescercanos</td>\n",
       "      <td>1</td>\n",
       "      <td>135</td>\n",
       "    </tr>\n",
       "    <tr>\n",
       "      <th>249374</th>\n",
       "      <td>122409</td>\n",
       "      <td>3200000</td>\n",
       "      <td>centroscomercialescercanos</td>\n",
       "      <td>1</td>\n",
       "      <td>288</td>\n",
       "    </tr>\n",
       "    <tr>\n",
       "      <th>249375</th>\n",
       "      <td>214020</td>\n",
       "      <td>580000</td>\n",
       "      <td>centroscomercialescercanos</td>\n",
       "      <td>1</td>\n",
       "      <td>134</td>\n",
       "    </tr>\n",
       "    <tr>\n",
       "      <th>249377</th>\n",
       "      <td>284806</td>\n",
       "      <td>1283000</td>\n",
       "      <td>centroscomercialescercanos</td>\n",
       "      <td>1</td>\n",
       "      <td>2</td>\n",
       "    </tr>\n",
       "    <tr>\n",
       "      <th>249378</th>\n",
       "      <td>134633</td>\n",
       "      <td>530000</td>\n",
       "      <td>centroscomercialescercanos</td>\n",
       "      <td>1</td>\n",
       "      <td>95</td>\n",
       "    </tr>\n",
       "    <tr>\n",
       "      <th>249381</th>\n",
       "      <td>164231</td>\n",
       "      <td>1950000</td>\n",
       "      <td>centroscomercialescercanos</td>\n",
       "      <td>1</td>\n",
       "      <td>288</td>\n",
       "    </tr>\n",
       "    <tr>\n",
       "      <th>249383</th>\n",
       "      <td>281601</td>\n",
       "      <td>2000000</td>\n",
       "      <td>centroscomercialescercanos</td>\n",
       "      <td>1</td>\n",
       "      <td>226</td>\n",
       "    </tr>\n",
       "    <tr>\n",
       "      <th>249384</th>\n",
       "      <td>80077</td>\n",
       "      <td>1780000</td>\n",
       "      <td>centroscomercialescercanos</td>\n",
       "      <td>1</td>\n",
       "      <td>46</td>\n",
       "    </tr>\n",
       "    <tr>\n",
       "      <th>249385</th>\n",
       "      <td>279303</td>\n",
       "      <td>620000</td>\n",
       "      <td>centroscomercialescercanos</td>\n",
       "      <td>1</td>\n",
       "      <td>69</td>\n",
       "    </tr>\n",
       "    <tr>\n",
       "      <th>249386</th>\n",
       "      <td>256508</td>\n",
       "      <td>470000</td>\n",
       "      <td>centroscomercialescercanos</td>\n",
       "      <td>1</td>\n",
       "      <td>73</td>\n",
       "    </tr>\n",
       "    <tr>\n",
       "      <th>249387</th>\n",
       "      <td>48555</td>\n",
       "      <td>595000</td>\n",
       "      <td>centroscomercialescercanos</td>\n",
       "      <td>1</td>\n",
       "      <td>37</td>\n",
       "    </tr>\n",
       "    <tr>\n",
       "      <th>249388</th>\n",
       "      <td>205041</td>\n",
       "      <td>1580000</td>\n",
       "      <td>centroscomercialescercanos</td>\n",
       "      <td>1</td>\n",
       "      <td>57</td>\n",
       "    </tr>\n",
       "    <tr>\n",
       "      <th>249389</th>\n",
       "      <td>141699</td>\n",
       "      <td>1200000</td>\n",
       "      <td>centroscomercialescercanos</td>\n",
       "      <td>1</td>\n",
       "      <td>415</td>\n",
       "    </tr>\n",
       "    <tr>\n",
       "      <th>249390</th>\n",
       "      <td>256840</td>\n",
       "      <td>1780000</td>\n",
       "      <td>centroscomercialescercanos</td>\n",
       "      <td>1</td>\n",
       "      <td>46</td>\n",
       "    </tr>\n",
       "    <tr>\n",
       "      <th>249392</th>\n",
       "      <td>129981</td>\n",
       "      <td>1700000</td>\n",
       "      <td>centroscomercialescercanos</td>\n",
       "      <td>1</td>\n",
       "      <td>242</td>\n",
       "    </tr>\n",
       "    <tr>\n",
       "      <th>249393</th>\n",
       "      <td>65725</td>\n",
       "      <td>715000</td>\n",
       "      <td>centroscomercialescercanos</td>\n",
       "      <td>1</td>\n",
       "      <td>17</td>\n",
       "    </tr>\n",
       "    <tr>\n",
       "      <th>249394</th>\n",
       "      <td>2747</td>\n",
       "      <td>3750000</td>\n",
       "      <td>centroscomercialescercanos</td>\n",
       "      <td>1</td>\n",
       "      <td>101</td>\n",
       "    </tr>\n",
       "    <tr>\n",
       "      <th>249395</th>\n",
       "      <td>130523</td>\n",
       "      <td>2400000</td>\n",
       "      <td>centroscomercialescercanos</td>\n",
       "      <td>1</td>\n",
       "      <td>233</td>\n",
       "    </tr>\n",
       "    <tr>\n",
       "      <th>249396</th>\n",
       "      <td>103355</td>\n",
       "      <td>3300000</td>\n",
       "      <td>centroscomercialescercanos</td>\n",
       "      <td>1</td>\n",
       "      <td>204</td>\n",
       "    </tr>\n",
       "    <tr>\n",
       "      <th>249397</th>\n",
       "      <td>199041</td>\n",
       "      <td>550000</td>\n",
       "      <td>centroscomercialescercanos</td>\n",
       "      <td>1</td>\n",
       "      <td>260</td>\n",
       "    </tr>\n",
       "    <tr>\n",
       "      <th>249398</th>\n",
       "      <td>262913</td>\n",
       "      <td>505000</td>\n",
       "      <td>centroscomercialescercanos</td>\n",
       "      <td>1</td>\n",
       "      <td>5</td>\n",
       "    </tr>\n",
       "    <tr>\n",
       "      <th>249399</th>\n",
       "      <td>175203</td>\n",
       "      <td>3850000</td>\n",
       "      <td>centroscomercialescercanos</td>\n",
       "      <td>1</td>\n",
       "      <td>73</td>\n",
       "    </tr>\n",
       "    <tr>\n",
       "      <th>249400</th>\n",
       "      <td>137337</td>\n",
       "      <td>1450000</td>\n",
       "      <td>centroscomercialescercanos</td>\n",
       "      <td>1</td>\n",
       "      <td>264</td>\n",
       "    </tr>\n",
       "    <tr>\n",
       "      <th>249403</th>\n",
       "      <td>259178</td>\n",
       "      <td>1940000</td>\n",
       "      <td>centroscomercialescercanos</td>\n",
       "      <td>1</td>\n",
       "      <td>9</td>\n",
       "    </tr>\n",
       "    <tr>\n",
       "      <th>249404</th>\n",
       "      <td>146867</td>\n",
       "      <td>2890000</td>\n",
       "      <td>centroscomercialescercanos</td>\n",
       "      <td>1</td>\n",
       "      <td>30</td>\n",
       "    </tr>\n",
       "  </tbody>\n",
       "</table>\n",
       "<p>77652 rows × 5 columns</p>\n",
       "</div>"
      ],
      "text/plain": [
       "            id    precio              caracteristica  si/no  cantidad\n",
       "10      171944   3500000                    gimnasio      1        44\n",
       "26      246928   2450000                    gimnasio      1        21\n",
       "32        4822   3100000                    gimnasio      1        30\n",
       "61       43801   1250000                    gimnasio      1        19\n",
       "83        9893   4300000                    gimnasio      1        23\n",
       "91      176707   3500000                    gimnasio      1        44\n",
       "96      124699    680000                    gimnasio      1         3\n",
       "98      107307   2980000                    gimnasio      1         6\n",
       "143     114384   5600000                    gimnasio      1        15\n",
       "153     208808   3450000                    gimnasio      1        19\n",
       "157     173585    870000                    gimnasio      1         3\n",
       "192     141161  10700000                    gimnasio      1         1\n",
       "198     157604   3300000                    gimnasio      1        33\n",
       "199     137467   3500000                    gimnasio      1        44\n",
       "228     166516   2550000                    gimnasio      1        12\n",
       "237     162268   2700000                    gimnasio      1        24\n",
       "239      87818   4350000                    gimnasio      1        11\n",
       "240      25810   2200000                    gimnasio      1        37\n",
       "253     165014   4650000                    gimnasio      1        12\n",
       "258     156848   1300000                    gimnasio      1        15\n",
       "277     116649   1525000                    gimnasio      1         2\n",
       "295     178727   3900000                    gimnasio      1        22\n",
       "299     292924    980000                    gimnasio      1         9\n",
       "310     212804   1550000                    gimnasio      1        14\n",
       "325     197522   2950445                    gimnasio      1         1\n",
       "331      68962   4230000                    gimnasio      1         1\n",
       "338     180171   1988266                    gimnasio      1         1\n",
       "341     229514   5600000                    gimnasio      1        15\n",
       "351     173847   7500000                    gimnasio      1        22\n",
       "371     179811   4750000                    gimnasio      1        10\n",
       "...        ...       ...                         ...    ...       ...\n",
       "249360  118451   3050000  centroscomercialescercanos      1        39\n",
       "249361   68840   3080000  centroscomercialescercanos      1        17\n",
       "249366  109556   1640000  centroscomercialescercanos      1        11\n",
       "249367  202982   9700000  centroscomercialescercanos      1         5\n",
       "249368  211428    399000  centroscomercialescercanos      1        16\n",
       "249373   23419   4000000  centroscomercialescercanos      1       135\n",
       "249374  122409   3200000  centroscomercialescercanos      1       288\n",
       "249375  214020    580000  centroscomercialescercanos      1       134\n",
       "249377  284806   1283000  centroscomercialescercanos      1         2\n",
       "249378  134633    530000  centroscomercialescercanos      1        95\n",
       "249381  164231   1950000  centroscomercialescercanos      1       288\n",
       "249383  281601   2000000  centroscomercialescercanos      1       226\n",
       "249384   80077   1780000  centroscomercialescercanos      1        46\n",
       "249385  279303    620000  centroscomercialescercanos      1        69\n",
       "249386  256508    470000  centroscomercialescercanos      1        73\n",
       "249387   48555    595000  centroscomercialescercanos      1        37\n",
       "249388  205041   1580000  centroscomercialescercanos      1        57\n",
       "249389  141699   1200000  centroscomercialescercanos      1       415\n",
       "249390  256840   1780000  centroscomercialescercanos      1        46\n",
       "249392  129981   1700000  centroscomercialescercanos      1       242\n",
       "249393   65725    715000  centroscomercialescercanos      1        17\n",
       "249394    2747   3750000  centroscomercialescercanos      1       101\n",
       "249395  130523   2400000  centroscomercialescercanos      1       233\n",
       "249396  103355   3300000  centroscomercialescercanos      1       204\n",
       "249397  199041    550000  centroscomercialescercanos      1       260\n",
       "249398  262913    505000  centroscomercialescercanos      1         5\n",
       "249399  175203   3850000  centroscomercialescercanos      1        73\n",
       "249400  137337   1450000  centroscomercialescercanos      1       264\n",
       "249403  259178   1940000  centroscomercialescercanos      1         9\n",
       "249404  146867   2890000  centroscomercialescercanos      1        30\n",
       "\n",
       "[77652 rows x 5 columns]"
      ]
     },
     "execution_count": 28,
     "metadata": {},
     "output_type": "execute_result"
    }
   ],
   "source": [
    "data_con_caracteristicas['cantidad'] = data_con_caracteristicas[['precio', 'caracteristica', 'si/no']].groupby(['precio', 'caracteristica']).transform(lambda x: x.sum())\n",
    "data_con_caracteristicas"
   ]
  },
  {
   "cell_type": "code",
   "execution_count": 29,
   "metadata": {},
   "outputs": [
    {
     "data": {
      "text/plain": [
       "array(['gimnasio', 'usosmultiples', 'piscina', 'escuelascercanas',\n",
       "       'centroscomercialescercanos'], dtype=object)"
      ]
     },
     "execution_count": 29,
     "metadata": {},
     "output_type": "execute_result"
    }
   ],
   "source": [
    "data_con_caracteristicas.caracteristica.unique()"
   ]
  },
  {
   "cell_type": "code",
   "execution_count": 30,
   "metadata": {},
   "outputs": [
    {
     "data": {
      "text/plain": [
       "Text(0,0.5,'Cantidad de Publicaciones')"
      ]
     },
     "execution_count": 30,
     "metadata": {},
     "output_type": "execute_result"
    },
    {
     "data": {
      "image/png": "[encoded data removed]",
      "text/plain": [
       "<matplotlib.figure.Figure at 0x7f565a7ab4a8>"
      ]
     },
     "metadata": {},
     "output_type": "display_data"
    }
   ],
   "source": [
    "sns.set(style=\"darkgrid\")\n",
    "f, ax = plt.subplots(figsize=(15, 7))\n",
    "sns.despine(f, left=True, bottom=True)\n",
    "g = sns.scatterplot(x=\"precio\", y=\"cantidad\",\n",
    "                hue=\"caracteristica\",\n",
    "                palette=\"Dark2\", linewidth=0.25,\n",
    "                data=data_con_caracteristicas, ax=ax, alpha = 0.75)\n",
    "g.set_title('N° de Publicaciones vs Precio según carácterísticas de las propiedades', fontsize = 19)\n",
    "g.set_xlabel('Precio', fontsize = 15)\n",
    "g.set_ylabel('Cantidad de Publicaciones', fontsize = 15)"
   ]
  },
  {
   "cell_type": "markdown",
   "metadata": {},
   "source": [
    "Vemos como las propiedades con centros comerciales cercanos y con escuelas cercanas tienen un comportamiento bastante parecido, esto también se debe a que sean las más populares, pero además son cualidades importantes a la hora de decidir sobre la adquisición de una propiedad.\n",
    "Vemos que hay una poca cantidad de publicaciones con precios super variados, desde bajos hasta muy altos, pero a medida que la cantidad de publicaciones aumenta el precio comienza a disminuir, por lo que parecen ser mucho más populares las publicaciones de propiedades que posean éstas características y se encuentren a un precio relativamente bajo."
   ]
  },
  {
   "cell_type": "markdown",
   "metadata": {},
   "source": [
    "## Comparo con respecto otras características"
   ]
  },
  {
   "cell_type": "markdown",
   "metadata": {},
   "source": [
    "## Antiguedad\n",
    "\n",
    "(uso la data original sin modificar los NaN)"
   ]
  },
  {
   "cell_type": "code",
   "execution_count": 37,
   "metadata": {},
   "outputs": [
    {
     "data": {
      "text/plain": [
       "0.0"
      ]
     },
     "execution_count": 37,
     "metadata": {},
     "output_type": "execute_result"
    }
   ],
   "source": [
    "data.antiguedad.min()"
   ]
  },
  {
   "cell_type": "code",
   "execution_count": 38,
   "metadata": {},
   "outputs": [
    {
     "data": {
      "text/plain": [
       "80.0"
      ]
     },
     "execution_count": 38,
     "metadata": {},
     "output_type": "execute_result"
    }
   ],
   "source": [
    "data.antiguedad.max()"
   ]
  },
  {
   "cell_type": "code",
   "execution_count": 45,
   "metadata": {},
   "outputs": [
    {
     "data": {
      "text/html": [
       "<div>\n",
       "<style scoped>\n",
       "    .dataframe tbody tr th:only-of-type {\n",
       "        vertical-align: middle;\n",
       "    }\n",
       "\n",
       "    .dataframe tbody tr th {\n",
       "        vertical-align: top;\n",
       "    }\n",
       "\n",
       "    .dataframe thead th {\n",
       "        text-align: right;\n",
       "    }\n",
       "</style>\n",
       "<table border=\"1\" class=\"dataframe\">\n",
       "  <thead>\n",
       "    <tr style=\"text-align: right;\">\n",
       "      <th></th>\n",
       "      <th>antiguedad</th>\n",
       "      <th>precio</th>\n",
       "      <th>id</th>\n",
       "    </tr>\n",
       "  </thead>\n",
       "  <tbody>\n",
       "    <tr>\n",
       "      <th>0</th>\n",
       "      <td>0.0</td>\n",
       "      <td>2.478479e+06</td>\n",
       "      <td>50335</td>\n",
       "    </tr>\n",
       "    <tr>\n",
       "      <th>1</th>\n",
       "      <td>1.0</td>\n",
       "      <td>2.635363e+06</td>\n",
       "      <td>12353</td>\n",
       "    </tr>\n",
       "    <tr>\n",
       "      <th>2</th>\n",
       "      <td>2.0</td>\n",
       "      <td>2.790816e+06</td>\n",
       "      <td>5059</td>\n",
       "    </tr>\n",
       "    <tr>\n",
       "      <th>3</th>\n",
       "      <td>3.0</td>\n",
       "      <td>2.616413e+06</td>\n",
       "      <td>5616</td>\n",
       "    </tr>\n",
       "    <tr>\n",
       "      <th>4</th>\n",
       "      <td>4.0</td>\n",
       "      <td>2.562077e+06</td>\n",
       "      <td>7944</td>\n",
       "    </tr>\n",
       "  </tbody>\n",
       "</table>\n",
       "</div>"
      ],
      "text/plain": [
       "   antiguedad        precio     id\n",
       "0         0.0  2.478479e+06  50335\n",
       "1         1.0  2.635363e+06  12353\n",
       "2         2.0  2.790816e+06   5059\n",
       "3         3.0  2.616413e+06   5616\n",
       "4         4.0  2.562077e+06   7944"
      ]
     },
     "execution_count": 45,
     "metadata": {},
     "output_type": "execute_result"
    }
   ],
   "source": [
    "precio_antiguedad = data[['precio', 'antiguedad', 'id']].loc[~(df.antiguedad.isnull())].groupby('antiguedad').agg({'precio': 'mean', 'id':'count'}).reset_index()\n",
    "precio_antiguedad.head()"
   ]
  },
  {
   "cell_type": "code",
   "execution_count": 46,
   "metadata": {},
   "outputs": [],
   "source": [
    "#Voy a filtrar las antiguedades que contengan menos de 100 publicaciones, así evitamos a la \"ecuación más peligros del mundo\"\n",
    "precio_antiguedad = precio_antiguedad.loc[precio_antiguedad.id >= 100]"
   ]
  },
  {
   "cell_type": "code",
   "execution_count": 61,
   "metadata": {
    "scrolled": false
   },
   "outputs": [
    {
     "data": {
      "text/plain": [
       "Text(0.5,1,'Precio Vs Antiguedad de las propiedades')"
      ]
     },
     "execution_count": 61,
     "metadata": {},
     "output_type": "execute_result"
    },
    {
     "data": {
      "image/png": "[encoded data removed]",
      "text/plain": [
       "<matplotlib.figure.Figure at 0x7f56619cbdd8>"
      ]
     },
     "metadata": {},
     "output_type": "display_data"
    }
   ],
   "source": [
    "plt.figure(figsize = (12,7))\n",
    "plt.style.use('seaborn-darkgrid')\n",
    "plt.scatter(precio_antiguedad['antiguedad'], precio_antiguedad['precio'], s = precio_antiguedad['id'], color = 'crimson', alpha = 0.45)\n",
    "plt.xlabel('Antiguedad', fontsize = 15)\n",
    "plt.ylabel('Precio', fontsize = 15)\n",
    "plt.yticks(range(0,5000000, 500000))\n",
    "plt.title('Precio Vs Antiguedad de las propiedades', fontsize = 20)"
   ]
  },
  {
   "cell_type": "markdown",
   "metadata": {},
   "source": [
    "Vemos como las propiedades con una antiguedad entre 0 y 10 años tienen una grán cantidad de publicaciones registradas y precios mucho más variables que se encuentran por debajo de los 4 millones de pesos mexicanos, aunque si observamos bien, tenemos un aglutinamiento de propiedades que se encuentran por debajo de los 20 años de antiguedad, cuyo precio escala sólo un poco por encima de los 3 millones. Luego si nos movemos a propiedades que se encuentran entre los 15 años hasta casi los 30 años de antiguedad, el precio varía un poco menos, pues son menos publicaciones y se encuentran entre un rango de 2 a 3.5 millones de pesos mexicacnos.\n",
    "Por ultimo observamos como a medida que se superan los 30 años de antiguedad el precio va en aumento, vemos que hay ciertas propiedades rondando los 50 años de antiguedad y que son bastante costosas, así tambien vemos que el número de publicaciones disminuye, por lo que las casas con mayor antiguedad son menos populares entre las publicaciones."
   ]
  },
  {
   "cell_type": "code",
   "execution_count": 36,
   "metadata": {},
   "outputs": [
    {
     "data": {
      "text/plain": [
       "Index(['id', 'titulo', 'descripcion', 'tipodepropiedad', 'direccion', 'ciudad',\n",
       "       'provincia', 'antiguedad', 'habitaciones', 'garages', 'banos',\n",
       "       'metroscubiertos', 'metrostotales', 'idzona', 'lat', 'lng', 'fecha',\n",
       "       'gimnasio', 'usosmultiples', 'piscina', 'escuelascercanas',\n",
       "       'centroscomercialescercanos', 'precio'],\n",
       "      dtype='object')"
      ]
     },
     "execution_count": 36,
     "metadata": {},
     "output_type": "execute_result"
    }
   ],
   "source": [
    "df.columns"
   ]
  },
  {
   "cell_type": "markdown",
   "metadata": {},
   "source": [
    "## ¿Qué pasa con el precio respecto de las ciudades y los idzona?"
   ]
  },
  {
   "cell_type": "code",
   "execution_count": 68,
   "metadata": {},
   "outputs": [
    {
     "data": {
      "text/html": [
       "<div>\n",
       "<style scoped>\n",
       "    .dataframe tbody tr th:only-of-type {\n",
       "        vertical-align: middle;\n",
       "    }\n",
       "\n",
       "    .dataframe tbody tr th {\n",
       "        vertical-align: top;\n",
       "    }\n",
       "\n",
       "    .dataframe thead th {\n",
       "        text-align: right;\n",
       "    }\n",
       "</style>\n",
       "<table border=\"1\" class=\"dataframe\">\n",
       "  <thead>\n",
       "    <tr style=\"text-align: right;\">\n",
       "      <th></th>\n",
       "      <th></th>\n",
       "      <th>precio</th>\n",
       "      <th>id</th>\n",
       "    </tr>\n",
       "    <tr>\n",
       "      <th>ciudad</th>\n",
       "      <th>idzona</th>\n",
       "      <th></th>\n",
       "      <th></th>\n",
       "    </tr>\n",
       "  </thead>\n",
       "  <tbody>\n",
       "    <tr>\n",
       "      <th>Abasolo</th>\n",
       "      <th>33537.0</th>\n",
       "      <td>1.600500e+06</td>\n",
       "      <td>1</td>\n",
       "    </tr>\n",
       "    <tr>\n",
       "      <th>Acambay</th>\n",
       "      <th>282627.0</th>\n",
       "      <td>4.500000e+05</td>\n",
       "      <td>1</td>\n",
       "    </tr>\n",
       "    <tr>\n",
       "      <th rowspan=\"3\" valign=\"top\">Acapulco de Juárez</th>\n",
       "      <th>37699.0</th>\n",
       "      <td>9.716667e+05</td>\n",
       "      <td>3</td>\n",
       "    </tr>\n",
       "    <tr>\n",
       "      <th>37703.0</th>\n",
       "      <td>8.200000e+05</td>\n",
       "      <td>1</td>\n",
       "    </tr>\n",
       "    <tr>\n",
       "      <th>37704.0</th>\n",
       "      <td>1.238333e+06</td>\n",
       "      <td>6</td>\n",
       "    </tr>\n",
       "  </tbody>\n",
       "</table>\n",
       "</div>"
      ],
      "text/plain": [
       "                                   precio  id\n",
       "ciudad             idzona                    \n",
       "Abasolo            33537.0   1.600500e+06   1\n",
       "Acambay            282627.0  4.500000e+05   1\n",
       "Acapulco de Juárez 37699.0   9.716667e+05   3\n",
       "                   37703.0   8.200000e+05   1\n",
       "                   37704.0   1.238333e+06   6"
      ]
     },
     "execution_count": 68,
     "metadata": {},
     "output_type": "execute_result"
    }
   ],
   "source": [
    "ciudadVSidzona = data.dropna()[['idzona', 'precio', 'id', 'ciudad']].groupby(['ciudad', 'idzona']).agg({'precio': 'mean', 'id':'count'})\n",
    "ciudadVSidzona.head()"
   ]
  },
  {
   "cell_type": "code",
   "execution_count": 79,
   "metadata": {},
   "outputs": [],
   "source": [
    "#Filtro los datos con pocas publicaciones\n",
    "ciudadVSidzonaFil = ciudadVSidzona.loc[ciudadVSidzona.id >= 10].reset_index()\n",
    "#Cuento las zonas que hay por ciudad\n",
    "ciudadVSidzonaFil['idzona_count'] = ciudadVSidzonaFil.loc[:, ['ciudad', 'idzona']].groupby('ciudad').transform(lambda x: x.count())"
   ]
  },
  {
   "cell_type": "code",
   "execution_count": 80,
   "metadata": {},
   "outputs": [
    {
     "data": {
      "text/html": [
       "<div>\n",
       "<style scoped>\n",
       "    .dataframe tbody tr th:only-of-type {\n",
       "        vertical-align: middle;\n",
       "    }\n",
       "\n",
       "    .dataframe tbody tr th {\n",
       "        vertical-align: top;\n",
       "    }\n",
       "\n",
       "    .dataframe thead th {\n",
       "        text-align: right;\n",
       "    }\n",
       "</style>\n",
       "<table border=\"1\" class=\"dataframe\">\n",
       "  <thead>\n",
       "    <tr style=\"text-align: right;\">\n",
       "      <th></th>\n",
       "      <th>ciudad</th>\n",
       "      <th>idzona</th>\n",
       "      <th>precio</th>\n",
       "      <th>id</th>\n",
       "      <th>idzona_count</th>\n",
       "    </tr>\n",
       "  </thead>\n",
       "  <tbody>\n",
       "    <tr>\n",
       "      <th>0</th>\n",
       "      <td>Acapulco de Juárez</td>\n",
       "      <td>37726.0</td>\n",
       "      <td>1.184905e+06</td>\n",
       "      <td>17</td>\n",
       "      <td>7</td>\n",
       "    </tr>\n",
       "    <tr>\n",
       "      <th>1</th>\n",
       "      <td>Acapulco de Juárez</td>\n",
       "      <td>37861.0</td>\n",
       "      <td>2.314964e+06</td>\n",
       "      <td>14</td>\n",
       "      <td>7</td>\n",
       "    </tr>\n",
       "    <tr>\n",
       "      <th>2</th>\n",
       "      <td>Acapulco de Juárez</td>\n",
       "      <td>38012.0</td>\n",
       "      <td>2.118889e+06</td>\n",
       "      <td>36</td>\n",
       "      <td>7</td>\n",
       "    </tr>\n",
       "    <tr>\n",
       "      <th>3</th>\n",
       "      <td>Acapulco de Juárez</td>\n",
       "      <td>38052.0</td>\n",
       "      <td>4.594861e+06</td>\n",
       "      <td>23</td>\n",
       "      <td>7</td>\n",
       "    </tr>\n",
       "    <tr>\n",
       "      <th>4</th>\n",
       "      <td>Acapulco de Juárez</td>\n",
       "      <td>38058.0</td>\n",
       "      <td>2.505417e+06</td>\n",
       "      <td>12</td>\n",
       "      <td>7</td>\n",
       "    </tr>\n",
       "  </tbody>\n",
       "</table>\n",
       "</div>"
      ],
      "text/plain": [
       "               ciudad   idzona        precio  id  idzona_count\n",
       "0  Acapulco de Juárez  37726.0  1.184905e+06  17             7\n",
       "1  Acapulco de Juárez  37861.0  2.314964e+06  14             7\n",
       "2  Acapulco de Juárez  38012.0  2.118889e+06  36             7\n",
       "3  Acapulco de Juárez  38052.0  4.594861e+06  23             7\n",
       "4  Acapulco de Juárez  38058.0  2.505417e+06  12             7"
      ]
     },
     "execution_count": 80,
     "metadata": {},
     "output_type": "execute_result"
    }
   ],
   "source": [
    "ciudadVSidzonaFil.head()"
   ]
  },
  {
   "cell_type": "code",
   "execution_count": 81,
   "metadata": {},
   "outputs": [
    {
     "data": {
      "text/plain": [
       "91"
      ]
     },
     "execution_count": 81,
     "metadata": {},
     "output_type": "execute_result"
    }
   ],
   "source": [
    "ciudadVSidzonaFil.idzona_count.max()"
   ]
  },
  {
   "cell_type": "code",
   "execution_count": 82,
   "metadata": {},
   "outputs": [
    {
     "data": {
      "text/plain": [
       "1"
      ]
     },
     "execution_count": 82,
     "metadata": {},
     "output_type": "execute_result"
    }
   ],
   "source": [
    "ciudadVSidzonaFil.idzona_count.min()"
   ]
  },
  {
   "cell_type": "code",
   "execution_count": null,
   "metadata": {},
   "outputs": [],
   "source": []
  }
 ],
 "metadata": {
  "colab": {
   "collapsed_sections": [],
   "name": "ValidezDeDatos.ipynb",
   "provenance": [],
   "version": "0.3.2"
  },
  "kernelspec": {
   "display_name": "Python 3",
   "language": "python",
   "name": "python3"
  },
  "language_info": {
   "codemirror_mode": {
    "name": "ipython",
    "version": 3
   },
   "file_extension": ".py",
   "mimetype": "text/x-python",
   "name": "python",
   "nbconvert_exporter": "python",
   "pygments_lexer": "ipython3",
   "version": "3.6.8"
  }
 },
 "nbformat": 4,
 "nbformat_minor": 1
}
