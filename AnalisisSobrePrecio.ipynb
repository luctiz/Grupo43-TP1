{
 "cells": [
  {
   "cell_type": "code",
   "execution_count": 2,
   "metadata": {
    "colab": {},
    "colab_type": "code",
    "id": "3N353lUK9JCG"
   },
   "outputs": [],
   "source": [
    "import pandas as pd\n",
    "from datetime import datetime\n",
    "import numpy as np\n",
    "import matplotlib.pyplot as plt\n",
    "import seaborn as sns"
   ]
  },
  {
   "cell_type": "code",
   "execution_count": 3,
   "metadata": {
    "colab": {},
    "colab_type": "code",
    "id": "8MBqVQ0t-fcY"
   },
   "outputs": [],
   "source": [
    "#import io\n",
    "#ruta = io.StringIO(uploaded['train.csv'].decode('utf-8'))\n",
    "df = pd.read_csv('data/train.csv', dtype = {'piscina':'int32', 'gimnasio':'int32', 'usosmultiples':'int32', 'escuelascercanas':'int32',\n",
    "                                         'centroscomercialescercanos':'int32', 'precio':'int32', 'id':'int32'},parse_dates = ['fecha'])"
   ]
  },
  {
   "cell_type": "code",
   "execution_count": 4,
   "metadata": {
    "colab": {
     "base_uri": "https://localhost:8080/",
     "height": 168
    },
    "colab_type": "code",
    "id": "dxWfhYj-NVLC",
    "outputId": "3f76c376-e256-4654-a080-49dc3aa4e2db"
   },
   "outputs": [
    {
     "data": {
      "text/html": [
       "<div>\n",
       "<style scoped>\n",
       "    .dataframe tbody tr th:only-of-type {\n",
       "        vertical-align: middle;\n",
       "    }\n",
       "\n",
       "    .dataframe tbody tr th {\n",
       "        vertical-align: top;\n",
       "    }\n",
       "\n",
       "    .dataframe thead th {\n",
       "        text-align: right;\n",
       "    }\n",
       "</style>\n",
       "<table border=\"1\" class=\"dataframe\">\n",
       "  <thead>\n",
       "    <tr style=\"text-align: right;\">\n",
       "      <th></th>\n",
       "      <th>id</th>\n",
       "      <th>titulo</th>\n",
       "      <th>descripcion</th>\n",
       "      <th>tipodepropiedad</th>\n",
       "      <th>direccion</th>\n",
       "      <th>ciudad</th>\n",
       "      <th>provincia</th>\n",
       "      <th>antiguedad</th>\n",
       "      <th>habitaciones</th>\n",
       "      <th>garages</th>\n",
       "      <th>...</th>\n",
       "      <th>idzona</th>\n",
       "      <th>lat</th>\n",
       "      <th>lng</th>\n",
       "      <th>fecha</th>\n",
       "      <th>gimnasio</th>\n",
       "      <th>usosmultiples</th>\n",
       "      <th>piscina</th>\n",
       "      <th>escuelascercanas</th>\n",
       "      <th>centroscomercialescercanos</th>\n",
       "      <th>precio</th>\n",
       "    </tr>\n",
       "  </thead>\n",
       "  <tbody>\n",
       "    <tr>\n",
       "      <th>0</th>\n",
       "      <td>254099</td>\n",
       "      <td>depto. tipo a-402</td>\n",
       "      <td>depto. interior de 80.15m2, consta de sala com...</td>\n",
       "      <td>Apartamento</td>\n",
       "      <td>Avenida Division del Norte 2005</td>\n",
       "      <td>Benito Juárez</td>\n",
       "      <td>Distrito Federal</td>\n",
       "      <td>NaN</td>\n",
       "      <td>2.0</td>\n",
       "      <td>1.0</td>\n",
       "      <td>...</td>\n",
       "      <td>23533.0</td>\n",
       "      <td>NaN</td>\n",
       "      <td>NaN</td>\n",
       "      <td>2015-08-23</td>\n",
       "      <td>0</td>\n",
       "      <td>0</td>\n",
       "      <td>0</td>\n",
       "      <td>0</td>\n",
       "      <td>0</td>\n",
       "      <td>2273000</td>\n",
       "    </tr>\n",
       "  </tbody>\n",
       "</table>\n",
       "<p>1 rows × 23 columns</p>\n",
       "</div>"
      ],
      "text/plain": [
       "       id             titulo  \\\n",
       "0  254099  depto. tipo a-402   \n",
       "\n",
       "                                         descripcion tipodepropiedad  \\\n",
       "0  depto. interior de 80.15m2, consta de sala com...     Apartamento   \n",
       "\n",
       "                         direccion         ciudad         provincia  \\\n",
       "0  Avenida Division del Norte 2005  Benito Juárez  Distrito Federal   \n",
       "\n",
       "   antiguedad  habitaciones  garages  ...   idzona  lat  lng      fecha  \\\n",
       "0         NaN           2.0      1.0  ...  23533.0  NaN  NaN 2015-08-23   \n",
       "\n",
       "   gimnasio  usosmultiples piscina  escuelascercanas  \\\n",
       "0         0              0       0                 0   \n",
       "\n",
       "   centroscomercialescercanos   precio  \n",
       "0                           0  2273000  \n",
       "\n",
       "[1 rows x 23 columns]"
      ]
     },
     "execution_count": 4,
     "metadata": {},
     "output_type": "execute_result"
    }
   ],
   "source": [
    "df.head(1)"
   ]
  },
  {
   "cell_type": "code",
   "execution_count": 5,
   "metadata": {
    "colab": {},
    "colab_type": "code",
    "id": "MScvhxKXNX8O"
   },
   "outputs": [],
   "source": [
    "#Quito todos los NaN y los pasa a valor 0\n",
    "df = df.replace(np.nan, 0)"
   ]
  },
  {
   "cell_type": "code",
   "execution_count": 6,
   "metadata": {
    "colab": {},
    "colab_type": "code",
    "id": "xTvY_0xzakaV"
   },
   "outputs": [],
   "source": [
    "#Continuar casteando valores que ocupan demasiada memoria (ahora puedo hacerlo en aquellos que tenian NaN)\n",
    "df = df.astype({'banos':'int32', 'antiguedad':'int32', 'garages':'int32', 'habitaciones':'int32', 'metroscubiertos':'int32', 'metrostotales':'int32',\n",
    "                    'idzona':'int32'})"
   ]
  },
  {
   "cell_type": "code",
   "execution_count": 7,
   "metadata": {
    "colab": {},
    "colab_type": "code",
    "id": "MV2bFLQiamNK"
   },
   "outputs": [],
   "source": [
    "#Establecer como category el tipo de propiedad\n",
    "categorias = df['tipodepropiedad']\n",
    "categorias = categorias.astype('category').dtypes\n",
    "df = df.astype({'tipodepropiedad':'category'})"
   ]
  },
  {
   "cell_type": "markdown",
   "metadata": {},
   "source": [
    "# Análisis según tipo de propiedad"
   ]
  },
  {
   "cell_type": "code",
   "execution_count": 13,
   "metadata": {
    "colab": {
     "base_uri": "https://localhost:8080/",
     "height": 459
    },
    "colab_type": "code",
    "id": "JtWdPztZbR2i",
    "outputId": "0dc5799d-3353-4d21-ef96-931669e4de42"
   },
   "outputs": [
    {
     "data": {
      "text/plain": [
       "Casa                             141717\n",
       "Apartamento                       57341\n",
       "Casa en condominio                19297\n",
       "Terreno                            9945\n",
       "Local Comercial                    3055\n",
       "Oficina comercial                  1741\n",
       "Bodega comercial                   1406\n",
       "Edificio                           1396\n",
       "Terreno comercial                  1326\n",
       "Casa uso de suelo                   708\n",
       "Quinta Vacacional                   395\n",
       "Duplex                              343\n",
       "Villa                               340\n",
       "Inmuebles productivos urbanos       200\n",
       "Rancho                              170\n",
       "Local en centro comercial           165\n",
       "Departamento Compartido             141\n",
       "Otros                               134\n",
       "Nave industrial                      76\n",
       "0                                    46\n",
       "Terreno industrial                   31\n",
       "Huerta                               20\n",
       "Lote                                  5\n",
       "Hospedaje                             1\n",
       "Garage                                1\n",
       "Name: tipodepropiedad, dtype: int64"
      ]
     },
     "execution_count": 13,
     "metadata": {},
     "output_type": "execute_result"
    }
   ],
   "source": [
    "#Analizo los tipos de propiedades\n",
    "df['tipodepropiedad'].value_counts()"
   ]
  },
  {
   "cell_type": "code",
   "execution_count": 14,
   "metadata": {
    "colab": {},
    "colab_type": "code",
    "id": "243NBYbjPJ3q"
   },
   "outputs": [],
   "source": [
    "result = df.groupby([\"tipodepropiedad\"])['precio'].aggregate(np.median).reset_index().sort_values('precio')"
   ]
  },
  {
   "cell_type": "code",
   "execution_count": 15,
   "metadata": {
    "colab": {},
    "colab_type": "code",
    "id": "McVTlnkyPU84"
   },
   "outputs": [],
   "source": [
    "result = result.drop([0],axis=0) #Elimino los tipos 0 que desconozco que clase de propiedad son (NO me sirven para comparar porque puede ser cualquier cosa)"
   ]
  },
  {
   "cell_type": "code",
   "execution_count": 16,
   "metadata": {
    "colab": {
     "base_uri": "https://localhost:8080/",
     "height": 322
    },
    "colab_type": "code",
    "id": "puQTdGNd5MLn",
    "outputId": "153b49a1-01b8-4986-ae3d-5c11900f93b0"
   },
   "outputs": [
    {
     "data": {
      "text/plain": [
       "Text(0,0.5,'Tipo de Propiedad')"
      ]
     },
     "execution_count": 16,
     "metadata": {},
     "output_type": "execute_result"
    },
    {
     "data": {
      "image/png": "[encoded data removed]",
      "text/plain": [
       "<matplotlib.figure.Figure at 0x7fa8d6396860>"
      ]
     },
     "metadata": {
      "needs_background": "light"
     },
     "output_type": "display_data"
    }
   ],
   "source": [
    "g = sns.barplot( x='precio', y= 'tipodepropiedad', data = result, order=result['tipodepropiedad'], orient = 'h',saturation = 1000)\n",
    "g.set_title(\"Precios Promedios segun Tipo de Propiedad\", fontsize=20)\n",
    "g.set_xlabel(\"Precio Promedio\", fontsize=15)\n",
    "g.set_ylabel(\"Tipo de Propiedad\", fontsize=15)"
   ]
  },
  {
   "cell_type": "markdown",
   "metadata": {
    "colab": {},
    "colab_type": "code",
    "id": "MWLqKd58Wn3j"
   },
   "source": [
    "## Precios de propiedades según la popularidad de las provincias y tipos de propiedades"
   ]
  },
  {
   "cell_type": "code",
   "execution_count": 17,
   "metadata": {},
   "outputs": [
    {
     "data": {
      "text/plain": [
       "Casa                  141717\n",
       "Apartamento            57341\n",
       "Casa en condominio     19297\n",
       "Terreno                 9945\n",
       "Local Comercial         3055\n",
       "Oficina comercial       1741\n",
       "Bodega comercial        1406\n",
       "Edificio                1396\n",
       "Terreno comercial       1326\n",
       "Casa uso de suelo        708\n",
       "Name: tipodepropiedad, dtype: int64"
      ]
     },
     "execution_count": 17,
     "metadata": {},
     "output_type": "execute_result"
    }
   ],
   "source": [
    "# Veo cuales son las propiedades más populares\n",
    "propiedadesXtipos = df.tipodepropiedad.value_counts().nlargest(10)\n",
    "propiedadesXtipos"
   ]
  },
  {
   "cell_type": "code",
   "execution_count": 18,
   "metadata": {},
   "outputs": [
    {
     "data": {
      "text/plain": [
       "CategoricalIndex(['Casa', 'Apartamento', 'Casa en condominio', 'Terreno',\n",
       "                  'Local Comercial', 'Oficina comercial', 'Bodega comercial',\n",
       "                  'Edificio', 'Terreno comercial', 'Casa uso de suelo'],\n",
       "                 categories=[0, 'Apartamento', 'Bodega comercial', 'Casa', 'Casa en condominio', 'Casa uso de suelo', 'Departamento Compartido', 'Duplex', ...], ordered=False, dtype='category')"
      ]
     },
     "execution_count": 18,
     "metadata": {},
     "output_type": "execute_result"
    }
   ],
   "source": [
    "tipos_populares = propiedadesXtipos.index\n",
    "tipos_populares"
   ]
  },
  {
   "cell_type": "code",
   "execution_count": 19,
   "metadata": {},
   "outputs": [
    {
     "data": {
      "text/plain": [
       "Distrito Federal    58790\n",
       "Edo. de México      41607\n",
       "Jalisco             21238\n",
       "Querétaro           16988\n",
       "Nuevo León          15324\n",
       "Puebla              10421\n",
       "San luis Potosí      8447\n",
       "Yucatán              7928\n",
       "Morelos              7337\n",
       "Veracruz             5762\n",
       "Name: provincia, dtype: int64"
      ]
     },
     "execution_count": 19,
     "metadata": {},
     "output_type": "execute_result"
    }
   ],
   "source": [
    "#Provincias más populares\n",
    "popiedadesXprovincia = df.provincia.value_counts().nlargest(10)\n",
    "popiedadesXprovincia"
   ]
  },
  {
   "cell_type": "code",
   "execution_count": 20,
   "metadata": {},
   "outputs": [
    {
     "data": {
      "text/plain": [
       "Index(['Distrito Federal', 'Edo. de México', 'Jalisco', 'Querétaro',\n",
       "       'Nuevo León', 'Puebla', 'San luis Potosí', 'Yucatán', 'Morelos',\n",
       "       'Veracruz'],\n",
       "      dtype='object')"
      ]
     },
     "execution_count": 20,
     "metadata": {},
     "output_type": "execute_result"
    }
   ],
   "source": [
    "provincias_populares = popiedadesXprovincia.index\n",
    "provincias_populares"
   ]
  },
  {
   "cell_type": "code",
   "execution_count": 53,
   "metadata": {},
   "outputs": [],
   "source": [
    "#Tipo de propiedad vs precios promedios\n",
    "tipoVSprecio = df[['id', 'tipodepropiedad', 'precio', 'provincia']].groupby(['provincia', 'tipodepropiedad']).agg({'id': 'count', 'precio': 'mean'}).reset_index().sort_values(by = ['id'], ascending = False)\n",
    "#Tomo sólo los 10 tipos de propiedad y provincias más populares\n",
    "tipoVSprecio_mas = tipoVSprecio.loc[(tipoVSprecio.provincia.isin(provincias_populares)) & (tipoVSprecio.tipodepropiedad.isin(tipos_populares))]"
   ]
  },
  {
   "cell_type": "code",
   "execution_count": 54,
   "metadata": {
    "colab": {},
    "colab_type": "code",
    "id": "9olidlqLshCs"
   },
   "outputs": [
    {
     "data": {
      "text/html": [
       "<div>\n",
       "<style scoped>\n",
       "    .dataframe tbody tr th:only-of-type {\n",
       "        vertical-align: middle;\n",
       "    }\n",
       "\n",
       "    .dataframe tbody tr th {\n",
       "        vertical-align: top;\n",
       "    }\n",
       "\n",
       "    .dataframe thead th {\n",
       "        text-align: right;\n",
       "    }\n",
       "</style>\n",
       "<table border=\"1\" class=\"dataframe\">\n",
       "  <thead>\n",
       "    <tr style=\"text-align: right;\">\n",
       "      <th></th>\n",
       "      <th>provincia</th>\n",
       "      <th>tipodepropiedad</th>\n",
       "      <th>id</th>\n",
       "      <th>precio</th>\n",
       "    </tr>\n",
       "  </thead>\n",
       "  <tbody>\n",
       "    <tr>\n",
       "      <th>129</th>\n",
       "      <td>Distrito Federal</td>\n",
       "      <td>Apartamento</td>\n",
       "      <td>33839</td>\n",
       "      <td>2.919084e+06</td>\n",
       "    </tr>\n",
       "    <tr>\n",
       "      <th>173</th>\n",
       "      <td>Edo. de México</td>\n",
       "      <td>Casa</td>\n",
       "      <td>25938</td>\n",
       "      <td>2.792133e+06</td>\n",
       "    </tr>\n",
       "    <tr>\n",
       "      <th>131</th>\n",
       "      <td>Distrito Federal</td>\n",
       "      <td>Casa</td>\n",
       "      <td>15812</td>\n",
       "      <td>4.037017e+06</td>\n",
       "    </tr>\n",
       "    <tr>\n",
       "      <th>247</th>\n",
       "      <td>Jalisco</td>\n",
       "      <td>Casa</td>\n",
       "      <td>14196</td>\n",
       "      <td>2.325363e+06</td>\n",
       "    </tr>\n",
       "    <tr>\n",
       "      <th>314</th>\n",
       "      <td>Nuevo León</td>\n",
       "      <td>Casa</td>\n",
       "      <td>11477</td>\n",
       "      <td>2.568358e+06</td>\n",
       "    </tr>\n",
       "  </tbody>\n",
       "</table>\n",
       "</div>"
      ],
      "text/plain": [
       "            provincia tipodepropiedad     id        precio\n",
       "129  Distrito Federal     Apartamento  33839  2.919084e+06\n",
       "173    Edo. de México            Casa  25938  2.792133e+06\n",
       "131  Distrito Federal            Casa  15812  4.037017e+06\n",
       "247           Jalisco            Casa  14196  2.325363e+06\n",
       "314        Nuevo León            Casa  11477  2.568358e+06"
      ]
     },
     "execution_count": 54,
     "metadata": {},
     "output_type": "execute_result"
    }
   ],
   "source": [
    "tipoVSprecio_mas.head()"
   ]
  },
  {
   "cell_type": "code",
   "execution_count": 23,
   "metadata": {},
   "outputs": [
    {
     "data": {
      "text/plain": [
       "10"
      ]
     },
     "execution_count": 23,
     "metadata": {},
     "output_type": "execute_result"
    }
   ],
   "source": [
    "tipoVSprecio_mas.provincia.nunique()"
   ]
  },
  {
   "cell_type": "code",
   "execution_count": 24,
   "metadata": {},
   "outputs": [
    {
     "data": {
      "text/plain": [
       "10"
      ]
     },
     "execution_count": 24,
     "metadata": {},
     "output_type": "execute_result"
    }
   ],
   "source": [
    "tipoVSprecio_mas.tipodepropiedad.nunique()"
   ]
  },
  {
   "cell_type": "code",
   "execution_count": 25,
   "metadata": {},
   "outputs": [
    {
     "data": {
      "text/html": [
       "<div>\n",
       "<style scoped>\n",
       "    .dataframe tbody tr th:only-of-type {\n",
       "        vertical-align: middle;\n",
       "    }\n",
       "\n",
       "    .dataframe tbody tr th {\n",
       "        vertical-align: top;\n",
       "    }\n",
       "\n",
       "    .dataframe thead th {\n",
       "        text-align: right;\n",
       "    }\n",
       "</style>\n",
       "<table border=\"1\" class=\"dataframe\">\n",
       "  <thead>\n",
       "    <tr style=\"text-align: right;\">\n",
       "      <th>provincia</th>\n",
       "      <th>Distrito Federal</th>\n",
       "      <th>Edo. de México</th>\n",
       "      <th>Jalisco</th>\n",
       "      <th>Morelos</th>\n",
       "      <th>Nuevo León</th>\n",
       "      <th>Puebla</th>\n",
       "      <th>Querétaro</th>\n",
       "      <th>San luis Potosí</th>\n",
       "      <th>Veracruz</th>\n",
       "      <th>Yucatán</th>\n",
       "    </tr>\n",
       "    <tr>\n",
       "      <th>tipodepropiedad</th>\n",
       "      <th></th>\n",
       "      <th></th>\n",
       "      <th></th>\n",
       "      <th></th>\n",
       "      <th></th>\n",
       "      <th></th>\n",
       "      <th></th>\n",
       "      <th></th>\n",
       "      <th></th>\n",
       "      <th></th>\n",
       "    </tr>\n",
       "  </thead>\n",
       "  <tbody>\n",
       "    <tr>\n",
       "      <th>Apartamento</th>\n",
       "      <td>2.919084e+06</td>\n",
       "      <td>2.881501e+06</td>\n",
       "      <td>2.520902e+06</td>\n",
       "      <td>1.574236e+06</td>\n",
       "      <td>3.860282e+06</td>\n",
       "      <td>1.860751e+06</td>\n",
       "      <td>1.945329e+06</td>\n",
       "      <td>1.671470e+06</td>\n",
       "      <td>1.940036e+06</td>\n",
       "      <td>2.336429e+06</td>\n",
       "    </tr>\n",
       "    <tr>\n",
       "      <th>Bodega comercial</th>\n",
       "      <td>4.272932e+06</td>\n",
       "      <td>2.749083e+06</td>\n",
       "      <td>2.310573e+06</td>\n",
       "      <td>2.480000e+06</td>\n",
       "      <td>2.233120e+06</td>\n",
       "      <td>2.482700e+06</td>\n",
       "      <td>2.013162e+06</td>\n",
       "      <td>2.001956e+06</td>\n",
       "      <td>1.856329e+06</td>\n",
       "      <td>1.541557e+06</td>\n",
       "    </tr>\n",
       "    <tr>\n",
       "      <th>Casa</th>\n",
       "      <td>4.037017e+06</td>\n",
       "      <td>2.792133e+06</td>\n",
       "      <td>2.325363e+06</td>\n",
       "      <td>2.595663e+06</td>\n",
       "      <td>2.568358e+06</td>\n",
       "      <td>2.391779e+06</td>\n",
       "      <td>2.309959e+06</td>\n",
       "      <td>2.032427e+06</td>\n",
       "      <td>1.921550e+06</td>\n",
       "      <td>1.992796e+06</td>\n",
       "    </tr>\n",
       "    <tr>\n",
       "      <th>Casa en condominio</th>\n",
       "      <td>4.811713e+06</td>\n",
       "      <td>2.484096e+06</td>\n",
       "      <td>2.627604e+06</td>\n",
       "      <td>1.801653e+06</td>\n",
       "      <td>2.701284e+06</td>\n",
       "      <td>2.692794e+06</td>\n",
       "      <td>2.120155e+06</td>\n",
       "      <td>2.266716e+06</td>\n",
       "      <td>1.488363e+06</td>\n",
       "      <td>2.633705e+06</td>\n",
       "    </tr>\n",
       "    <tr>\n",
       "      <th>Casa uso de suelo</th>\n",
       "      <td>5.321922e+06</td>\n",
       "      <td>3.135521e+06</td>\n",
       "      <td>2.729746e+06</td>\n",
       "      <td>3.292401e+06</td>\n",
       "      <td>2.585438e+06</td>\n",
       "      <td>2.668182e+06</td>\n",
       "      <td>3.235852e+06</td>\n",
       "      <td>2.444000e+06</td>\n",
       "      <td>3.675000e+06</td>\n",
       "      <td>2.488077e+06</td>\n",
       "    </tr>\n",
       "    <tr>\n",
       "      <th>Edificio</th>\n",
       "      <td>5.951535e+06</td>\n",
       "      <td>4.820201e+06</td>\n",
       "      <td>4.911477e+06</td>\n",
       "      <td>3.938667e+06</td>\n",
       "      <td>3.617602e+06</td>\n",
       "      <td>4.947077e+06</td>\n",
       "      <td>4.353530e+06</td>\n",
       "      <td>5.465400e+06</td>\n",
       "      <td>3.963292e+06</td>\n",
       "      <td>3.272906e+06</td>\n",
       "    </tr>\n",
       "    <tr>\n",
       "      <th>Local Comercial</th>\n",
       "      <td>3.178273e+06</td>\n",
       "      <td>2.764283e+06</td>\n",
       "      <td>2.349532e+06</td>\n",
       "      <td>2.512158e+06</td>\n",
       "      <td>2.440365e+06</td>\n",
       "      <td>2.293458e+06</td>\n",
       "      <td>1.898338e+06</td>\n",
       "      <td>2.032394e+06</td>\n",
       "      <td>2.521488e+06</td>\n",
       "      <td>2.081840e+06</td>\n",
       "    </tr>\n",
       "    <tr>\n",
       "      <th>Oficina comercial</th>\n",
       "      <td>3.647538e+06</td>\n",
       "      <td>3.334818e+06</td>\n",
       "      <td>3.837927e+06</td>\n",
       "      <td>2.064219e+06</td>\n",
       "      <td>3.231270e+06</td>\n",
       "      <td>2.708164e+06</td>\n",
       "      <td>2.277341e+06</td>\n",
       "      <td>1.888526e+06</td>\n",
       "      <td>2.696753e+06</td>\n",
       "      <td>1.945090e+06</td>\n",
       "    </tr>\n",
       "    <tr>\n",
       "      <th>Terreno</th>\n",
       "      <td>4.066719e+06</td>\n",
       "      <td>1.871082e+06</td>\n",
       "      <td>1.766575e+06</td>\n",
       "      <td>1.477136e+06</td>\n",
       "      <td>1.841704e+06</td>\n",
       "      <td>1.330743e+06</td>\n",
       "      <td>8.709473e+05</td>\n",
       "      <td>1.360701e+06</td>\n",
       "      <td>1.066838e+06</td>\n",
       "      <td>1.280037e+06</td>\n",
       "    </tr>\n",
       "    <tr>\n",
       "      <th>Terreno comercial</th>\n",
       "      <td>4.737601e+06</td>\n",
       "      <td>3.371196e+06</td>\n",
       "      <td>2.705533e+06</td>\n",
       "      <td>1.638892e+06</td>\n",
       "      <td>2.215208e+06</td>\n",
       "      <td>2.364212e+06</td>\n",
       "      <td>1.303558e+06</td>\n",
       "      <td>1.404880e+06</td>\n",
       "      <td>2.306546e+06</td>\n",
       "      <td>2.628089e+06</td>\n",
       "    </tr>\n",
       "  </tbody>\n",
       "</table>\n",
       "</div>"
      ],
      "text/plain": [
       "provincia           Distrito Federal  Edo. de México       Jalisco  \\\n",
       "tipodepropiedad                                                      \n",
       "Apartamento             2.919084e+06    2.881501e+06  2.520902e+06   \n",
       "Bodega comercial        4.272932e+06    2.749083e+06  2.310573e+06   \n",
       "Casa                    4.037017e+06    2.792133e+06  2.325363e+06   \n",
       "Casa en condominio      4.811713e+06    2.484096e+06  2.627604e+06   \n",
       "Casa uso de suelo       5.321922e+06    3.135521e+06  2.729746e+06   \n",
       "Edificio                5.951535e+06    4.820201e+06  4.911477e+06   \n",
       "Local Comercial         3.178273e+06    2.764283e+06  2.349532e+06   \n",
       "Oficina comercial       3.647538e+06    3.334818e+06  3.837927e+06   \n",
       "Terreno                 4.066719e+06    1.871082e+06  1.766575e+06   \n",
       "Terreno comercial       4.737601e+06    3.371196e+06  2.705533e+06   \n",
       "\n",
       "provincia                Morelos    Nuevo León        Puebla     Querétaro  \\\n",
       "tipodepropiedad                                                              \n",
       "Apartamento         1.574236e+06  3.860282e+06  1.860751e+06  1.945329e+06   \n",
       "Bodega comercial    2.480000e+06  2.233120e+06  2.482700e+06  2.013162e+06   \n",
       "Casa                2.595663e+06  2.568358e+06  2.391779e+06  2.309959e+06   \n",
       "Casa en condominio  1.801653e+06  2.701284e+06  2.692794e+06  2.120155e+06   \n",
       "Casa uso de suelo   3.292401e+06  2.585438e+06  2.668182e+06  3.235852e+06   \n",
       "Edificio            3.938667e+06  3.617602e+06  4.947077e+06  4.353530e+06   \n",
       "Local Comercial     2.512158e+06  2.440365e+06  2.293458e+06  1.898338e+06   \n",
       "Oficina comercial   2.064219e+06  3.231270e+06  2.708164e+06  2.277341e+06   \n",
       "Terreno             1.477136e+06  1.841704e+06  1.330743e+06  8.709473e+05   \n",
       "Terreno comercial   1.638892e+06  2.215208e+06  2.364212e+06  1.303558e+06   \n",
       "\n",
       "provincia           San luis Potosí      Veracruz       Yucatán  \n",
       "tipodepropiedad                                                  \n",
       "Apartamento            1.671470e+06  1.940036e+06  2.336429e+06  \n",
       "Bodega comercial       2.001956e+06  1.856329e+06  1.541557e+06  \n",
       "Casa                   2.032427e+06  1.921550e+06  1.992796e+06  \n",
       "Casa en condominio     2.266716e+06  1.488363e+06  2.633705e+06  \n",
       "Casa uso de suelo      2.444000e+06  3.675000e+06  2.488077e+06  \n",
       "Edificio               5.465400e+06  3.963292e+06  3.272906e+06  \n",
       "Local Comercial        2.032394e+06  2.521488e+06  2.081840e+06  \n",
       "Oficina comercial      1.888526e+06  2.696753e+06  1.945090e+06  \n",
       "Terreno                1.360701e+06  1.066838e+06  1.280037e+06  \n",
       "Terreno comercial      1.404880e+06  2.306546e+06  2.628089e+06  "
      ]
     },
     "execution_count": 25,
     "metadata": {},
     "output_type": "execute_result"
    }
   ],
   "source": [
    "tablaHeatMap = pd.pivot_table(tipoVSprecio_mas, values = 'precio', index = 'tipodepropiedad', columns = 'provincia')\n",
    "tablaHeatMap\n"
   ]
  },
  {
   "cell_type": "code",
   "execution_count": 35,
   "metadata": {},
   "outputs": [
    {
     "data": {
      "text/plain": [
       "Text(0.5,33,'Provincia')"
      ]
     },
     "execution_count": 35,
     "metadata": {},
     "output_type": "execute_result"
    },
    {
     "data": {
      "image/png": "[encoded data removed]",
      "text/plain": [
       "<matplotlib.figure.Figure at 0x7fa8d9b59ba8>"
      ]
     },
     "metadata": {
      "needs_background": "light"
     },
     "output_type": "display_data"
    }
   ],
   "source": [
    "plt.figure(figsize = (12,6))\n",
    "graf = sns.heatmap(tablaHeatMap)\n",
    "graf.set_title('Precios según tipo de propiedad y provincias Más populares', fontsize =  22)\n",
    "graf.set_ylabel('Tipo de propiedad', fontsize = 18)\n",
    "graf.set_xlabel('Provincia', fontsize = 18)"
   ]
  },
  {
   "cell_type": "markdown",
   "metadata": {},
   "source": []
  },
  {
   "cell_type": "code",
   "execution_count": null,
   "metadata": {},
   "outputs": [],
   "source": []
  },
  {
   "cell_type": "code",
   "execution_count": null,
   "metadata": {},
   "outputs": [],
   "source": []
  },
  {
   "cell_type": "code",
   "execution_count": null,
   "metadata": {},
   "outputs": [],
   "source": []
  }
 ],
 "metadata": {
  "colab": {
   "collapsed_sections": [],
   "name": "ValidezDeDatos.ipynb",
   "provenance": [],
   "version": "0.3.2"
  },
  "kernelspec": {
   "display_name": "Python 3",
   "language": "python",
   "name": "python3"
  },
  "language_info": {
   "codemirror_mode": {
    "name": "ipython",
    "version": 3
   },
   "file_extension": ".py",
   "mimetype": "text/x-python",
   "name": "python",
   "nbconvert_exporter": "python",
   "pygments_lexer": "ipython3",
   "version": "3.6.8"
  }
 },
 "nbformat": 4,
 "nbformat_minor": 1
}
