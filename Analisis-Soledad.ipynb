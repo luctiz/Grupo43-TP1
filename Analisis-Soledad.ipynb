{
 "cells": [
  {
   "cell_type": "code",
   "execution_count": 4,
   "metadata": {
    "colab": {},
    "colab_type": "code",
    "id": "3N353lUK9JCG"
   },
   "outputs": [],
   "source": [
    "import pandas as pd\n",
    "from datetime import datetime\n",
    "import numpy as np\n",
    "import matplotlib.pyplot as plt\n",
    "import seaborn as sns"
   ]
  },
  {
   "cell_type": "code",
   "execution_count": 5,
   "metadata": {
    "colab": {},
    "colab_type": "code",
    "id": "8MBqVQ0t-fcY"
   },
   "outputs": [],
   "source": [
    "#import io\n",
    "#ruta = io.StringIO(uploaded['train.csv'].decode('utf-8'))\n",
    "df = pd.read_csv('data/train.csv', dtype = {'piscina':'int32', 'gimnasio':'int32', 'usosmultiples':'int32', 'escuelascercanas':'int32',\n",
    "                                         'centroscomercialescercanos':'int32', 'precio':'int32', 'id':'int32'},parse_dates = ['fecha'])"
   ]
  },
  {
   "cell_type": "code",
   "execution_count": 6,
   "metadata": {
    "colab": {
     "base_uri": "https://localhost:8080/",
     "height": 168
    },
    "colab_type": "code",
    "id": "dxWfhYj-NVLC",
    "outputId": "3f76c376-e256-4654-a080-49dc3aa4e2db"
   },
   "outputs": [
    {
     "data": {
      "text/html": [
       "<div>\n",
       "<style scoped>\n",
       "    .dataframe tbody tr th:only-of-type {\n",
       "        vertical-align: middle;\n",
       "    }\n",
       "\n",
       "    .dataframe tbody tr th {\n",
       "        vertical-align: top;\n",
       "    }\n",
       "\n",
       "    .dataframe thead th {\n",
       "        text-align: right;\n",
       "    }\n",
       "</style>\n",
       "<table border=\"1\" class=\"dataframe\">\n",
       "  <thead>\n",
       "    <tr style=\"text-align: right;\">\n",
       "      <th></th>\n",
       "      <th>id</th>\n",
       "      <th>titulo</th>\n",
       "      <th>descripcion</th>\n",
       "      <th>tipodepropiedad</th>\n",
       "      <th>direccion</th>\n",
       "      <th>ciudad</th>\n",
       "      <th>provincia</th>\n",
       "      <th>antiguedad</th>\n",
       "      <th>habitaciones</th>\n",
       "      <th>garages</th>\n",
       "      <th>...</th>\n",
       "      <th>idzona</th>\n",
       "      <th>lat</th>\n",
       "      <th>lng</th>\n",
       "      <th>fecha</th>\n",
       "      <th>gimnasio</th>\n",
       "      <th>usosmultiples</th>\n",
       "      <th>piscina</th>\n",
       "      <th>escuelascercanas</th>\n",
       "      <th>centroscomercialescercanos</th>\n",
       "      <th>precio</th>\n",
       "    </tr>\n",
       "  </thead>\n",
       "  <tbody>\n",
       "    <tr>\n",
       "      <th>0</th>\n",
       "      <td>254099</td>\n",
       "      <td>depto. tipo a-402</td>\n",
       "      <td>depto. interior de 80.15m2, consta de sala com...</td>\n",
       "      <td>Apartamento</td>\n",
       "      <td>Avenida Division del Norte 2005</td>\n",
       "      <td>Benito Juárez</td>\n",
       "      <td>Distrito Federal</td>\n",
       "      <td>NaN</td>\n",
       "      <td>2.0</td>\n",
       "      <td>1.0</td>\n",
       "      <td>...</td>\n",
       "      <td>23533.0</td>\n",
       "      <td>NaN</td>\n",
       "      <td>NaN</td>\n",
       "      <td>2015-08-23</td>\n",
       "      <td>0</td>\n",
       "      <td>0</td>\n",
       "      <td>0</td>\n",
       "      <td>0</td>\n",
       "      <td>0</td>\n",
       "      <td>2273000</td>\n",
       "    </tr>\n",
       "  </tbody>\n",
       "</table>\n",
       "<p>1 rows × 23 columns</p>\n",
       "</div>"
      ],
      "text/plain": [
       "       id             titulo  \\\n",
       "0  254099  depto. tipo a-402   \n",
       "\n",
       "                                         descripcion tipodepropiedad  \\\n",
       "0  depto. interior de 80.15m2, consta de sala com...     Apartamento   \n",
       "\n",
       "                         direccion         ciudad         provincia  \\\n",
       "0  Avenida Division del Norte 2005  Benito Juárez  Distrito Federal   \n",
       "\n",
       "   antiguedad  habitaciones  garages  ...   idzona  lat  lng      fecha  \\\n",
       "0         NaN           2.0      1.0  ...  23533.0  NaN  NaN 2015-08-23   \n",
       "\n",
       "   gimnasio  usosmultiples piscina  escuelascercanas  \\\n",
       "0         0              0       0                 0   \n",
       "\n",
       "   centroscomercialescercanos   precio  \n",
       "0                           0  2273000  \n",
       "\n",
       "[1 rows x 23 columns]"
      ]
     },
     "execution_count": 6,
     "metadata": {},
     "output_type": "execute_result"
    }
   ],
   "source": [
    "df.head(1)"
   ]
  },
  {
   "cell_type": "code",
   "execution_count": 7,
   "metadata": {
    "colab": {},
    "colab_type": "code",
    "id": "MScvhxKXNX8O"
   },
   "outputs": [],
   "source": [
    "#Quito todos los NaN y los pasa a valor 0\n",
    "df = df.replace(np.nan, 0)"
   ]
  },
  {
   "cell_type": "code",
   "execution_count": 8,
   "metadata": {
    "colab": {},
    "colab_type": "code",
    "id": "xTvY_0xzakaV"
   },
   "outputs": [],
   "source": [
    "#Continuar casteando valores que ocupan demasiada memoria (ahora puedo hacerlo en aquellos que tenian NaN)\n",
    "df = df.astype({'banos':'int32', 'antiguedad':'int32', 'garages':'int32', 'habitaciones':'int32', 'metroscubiertos':'int32', 'metrostotales':'int32',\n",
    "                    'idzona':'int32'})"
   ]
  },
  {
   "cell_type": "code",
   "execution_count": 9,
   "metadata": {
    "colab": {},
    "colab_type": "code",
    "id": "MV2bFLQiamNK"
   },
   "outputs": [],
   "source": [
    "#Establecer como category el tipo de propiedad\n",
    "categorias = df['tipodepropiedad']\n",
    "categorias = categorias.astype('category').dtypes\n",
    "df = df.astype({'tipodepropiedad':'category'})"
   ]
  },
  {
   "cell_type": "code",
   "execution_count": 10,
   "metadata": {
    "colab": {
     "base_uri": "https://localhost:8080/",
     "height": 34
    },
    "colab_type": "code",
    "id": "ufkFl5F5apzg",
    "outputId": "9051285e-a272-4d5e-fb85-f7e3c20ab17e"
   },
   "outputs": [
    {
     "name": "stdout",
     "output_type": "stream",
     "text": [
      "Numero de columnas (240000, 23)\n"
     ]
    }
   ],
   "source": [
    "print('Numero de columnas',df.shape)"
   ]
  },
  {
   "cell_type": "code",
   "execution_count": 11,
   "metadata": {
    "colab": {
     "base_uri": "https://localhost:8080/",
     "height": 34
    },
    "colab_type": "code",
    "id": "hA59xUdiayEY",
    "outputId": "cd60d729-2498-4bc7-8b9d-d7c98ed7383c"
   },
   "outputs": [
    {
     "name": "stdout",
     "output_type": "stream",
     "text": [
      "Numero de filas por columnas 5520000\n"
     ]
    }
   ],
   "source": [
    "print('Numero de filas por columnas',df.size)"
   ]
  },
  {
   "cell_type": "code",
   "execution_count": 12,
   "metadata": {
    "colab": {
     "base_uri": "https://localhost:8080/",
     "height": 425
    },
    "colab_type": "code",
    "id": "LTGXPpb1a1I7",
    "outputId": "20ef3397-0675-434e-83d2-0c2869aad036"
   },
   "outputs": [
    {
     "name": "stdout",
     "output_type": "stream",
     "text": [
      "Numero de Elementos id                            240000\n",
      "titulo                        240000\n",
      "descripcion                   240000\n",
      "tipodepropiedad               240000\n",
      "direccion                     240000\n",
      "ciudad                        240000\n",
      "provincia                     240000\n",
      "antiguedad                    240000\n",
      "habitaciones                  240000\n",
      "garages                       240000\n",
      "banos                         240000\n",
      "metroscubiertos               240000\n",
      "metrostotales                 240000\n",
      "idzona                        240000\n",
      "lat                           240000\n",
      "lng                           240000\n",
      "fecha                         240000\n",
      "gimnasio                      240000\n",
      "usosmultiples                 240000\n",
      "piscina                       240000\n",
      "escuelascercanas              240000\n",
      "centroscomercialescercanos    240000\n",
      "precio                        240000\n",
      "dtype: int64\n"
     ]
    }
   ],
   "source": [
    "print('Numero de Elementos',df.count())"
   ]
  },
  {
   "cell_type": "code",
   "execution_count": 13,
   "metadata": {
    "colab": {
     "base_uri": "https://localhost:8080/",
     "height": 425
    },
    "colab_type": "code",
    "id": "avVVGwhfa7zZ",
    "outputId": "41297acf-1b2c-4285-9e95-ab025303d40a"
   },
   "outputs": [
    {
     "name": "stdout",
     "output_type": "stream",
     "text": [
      "Analisis de tipos id                                     int32\n",
      "titulo                                object\n",
      "descripcion                           object\n",
      "tipodepropiedad                     category\n",
      "direccion                             object\n",
      "ciudad                                object\n",
      "provincia                             object\n",
      "antiguedad                             int32\n",
      "habitaciones                           int32\n",
      "garages                                int32\n",
      "banos                                  int32\n",
      "metroscubiertos                        int32\n",
      "metrostotales                          int32\n",
      "idzona                                 int32\n",
      "lat                                  float64\n",
      "lng                                  float64\n",
      "fecha                         datetime64[ns]\n",
      "gimnasio                               int32\n",
      "usosmultiples                          int32\n",
      "piscina                                int32\n",
      "escuelascercanas                       int32\n",
      "centroscomercialescercanos             int32\n",
      "precio                                 int32\n",
      "dtype: object\n"
     ]
    }
   ],
   "source": [
    "print('Analisis de tipos',df.dtypes)"
   ]
  },
  {
   "cell_type": "code",
   "execution_count": 14,
   "metadata": {
    "colab": {
     "base_uri": "https://localhost:8080/",
     "height": 510
    },
    "colab_type": "code",
    "id": "9A-LFbxDa-C7",
    "outputId": "64682832-e120-42d0-84bc-83f81a93e134"
   },
   "outputs": [
    {
     "name": "stdout",
     "output_type": "stream",
     "text": [
      "<class 'pandas.core.frame.DataFrame'>\n",
      "RangeIndex: 240000 entries, 0 to 239999\n",
      "Data columns (total 23 columns):\n",
      "id                            240000 non-null int32\n",
      "titulo                        240000 non-null object\n",
      "descripcion                   240000 non-null object\n",
      "tipodepropiedad               240000 non-null category\n",
      "direccion                     240000 non-null object\n",
      "ciudad                        240000 non-null object\n",
      "provincia                     240000 non-null object\n",
      "antiguedad                    240000 non-null int32\n",
      "habitaciones                  240000 non-null int32\n",
      "garages                       240000 non-null int32\n",
      "banos                         240000 non-null int32\n",
      "metroscubiertos               240000 non-null int32\n",
      "metrostotales                 240000 non-null int32\n",
      "idzona                        240000 non-null int32\n",
      "lat                           240000 non-null float64\n",
      "lng                           240000 non-null float64\n",
      "fecha                         240000 non-null datetime64[ns]\n",
      "gimnasio                      240000 non-null int32\n",
      "usosmultiples                 240000 non-null int32\n",
      "piscina                       240000 non-null int32\n",
      "escuelascercanas              240000 non-null int32\n",
      "centroscomercialescercanos    240000 non-null int32\n",
      "precio                        240000 non-null int32\n",
      "dtypes: category(1), datetime64[ns](1), float64(2), int32(14), object(5)\n",
      "memory usage: 27.7+ MB\n",
      "None\n"
     ]
    }
   ],
   "source": [
    "#Se redujo el uso de memoria de 45MB a 27MB aproximadamente\n",
    "print(df.info())"
   ]
  },
  {
   "cell_type": "markdown",
   "metadata": {},
   "source": [
    "# Análisis según tipo de propiedad"
   ]
  },
  {
   "cell_type": "code",
   "execution_count": 15,
   "metadata": {
    "colab": {
     "base_uri": "https://localhost:8080/",
     "height": 459
    },
    "colab_type": "code",
    "id": "JtWdPztZbR2i",
    "outputId": "0dc5799d-3353-4d21-ef96-931669e4de42"
   },
   "outputs": [
    {
     "data": {
      "text/plain": [
       "Casa                             141717\n",
       "Apartamento                       57341\n",
       "Casa en condominio                19297\n",
       "Terreno                            9945\n",
       "Local Comercial                    3055\n",
       "Oficina comercial                  1741\n",
       "Bodega comercial                   1406\n",
       "Edificio                           1396\n",
       "Terreno comercial                  1326\n",
       "Casa uso de suelo                   708\n",
       "Quinta Vacacional                   395\n",
       "Duplex                              343\n",
       "Villa                               340\n",
       "Inmuebles productivos urbanos       200\n",
       "Rancho                              170\n",
       "Local en centro comercial           165\n",
       "Departamento Compartido             141\n",
       "Otros                               134\n",
       "Nave industrial                      76\n",
       "0                                    46\n",
       "Terreno industrial                   31\n",
       "Huerta                               20\n",
       "Lote                                  5\n",
       "Hospedaje                             1\n",
       "Garage                                1\n",
       "Name: tipodepropiedad, dtype: int64"
      ]
     },
     "execution_count": 15,
     "metadata": {},
     "output_type": "execute_result"
    }
   ],
   "source": [
    "#Analizo los tipos de propiedades\n",
    "df['tipodepropiedad'].value_counts()"
   ]
  },
  {
   "cell_type": "code",
   "execution_count": 16,
   "metadata": {
    "colab": {},
    "colab_type": "code",
    "id": "243NBYbjPJ3q"
   },
   "outputs": [],
   "source": [
    "result = df.groupby([\"tipodepropiedad\"])['precio'].aggregate(np.median).reset_index().sort_values('precio')"
   ]
  },
  {
   "cell_type": "code",
   "execution_count": 17,
   "metadata": {
    "colab": {},
    "colab_type": "code",
    "id": "McVTlnkyPU84"
   },
   "outputs": [],
   "source": [
    "result = result.drop([0],axis=0) #Elimino los tipos 0 que desconozco que clase de propiedad son (NO me sirven para comparar porque puede ser cualquier cosa)"
   ]
  },
  {
   "cell_type": "code",
   "execution_count": 18,
   "metadata": {
    "colab": {
     "base_uri": "https://localhost:8080/",
     "height": 322
    },
    "colab_type": "code",
    "id": "puQTdGNd5MLn",
    "outputId": "153b49a1-01b8-4986-ae3d-5c11900f93b0"
   },
   "outputs": [
    {
     "data": {
      "text/plain": [
       "Text(0,0.5,'Tipo de Propiedad')"
      ]
     },
     "execution_count": 18,
     "metadata": {},
     "output_type": "execute_result"
    },
    {
     "data": {
      "image/png": "[encoded data removed]",
      "text/plain": [
       "<Figure size 432x288 with 1 Axes>"
      ]
     },
     "metadata": {
      "needs_background": "light"
     },
     "output_type": "display_data"
    }
   ],
   "source": [
    "g = sns.barplot( x='precio', y= 'tipodepropiedad', data = result, order=result['tipodepropiedad'], orient = 'h',saturation = 1000)\n",
    "g.set_title(\"Precios Promedios segun Tipo de Propiedad\", fontsize=20)\n",
    "g.set_xlabel(\"Precio Promedio\", fontsize=15)\n",
    "g.set_ylabel(\"Tipo de Propiedad\", fontsize=15)"
   ]
  },
  {
   "cell_type": "markdown",
   "metadata": {
    "colab": {},
    "colab_type": "code",
    "id": "MWLqKd58Wn3j"
   },
   "source": [
    "## Precios de propiedades según la popularidad de las provincias y tipos de propiedades"
   ]
  },
  {
   "cell_type": "code",
   "execution_count": 65,
   "metadata": {},
   "outputs": [
    {
     "data": {
      "text/plain": [
       "Casa                  141717\n",
       "Apartamento            57341\n",
       "Casa en condominio     19297\n",
       "Terreno                 9945\n",
       "Local Comercial         3055\n",
       "Oficina comercial       1741\n",
       "Bodega comercial        1406\n",
       "Edificio                1396\n",
       "Terreno comercial       1326\n",
       "Casa uso de suelo        708\n",
       "Name: tipodepropiedad, dtype: int64"
      ]
     },
     "execution_count": 65,
     "metadata": {},
     "output_type": "execute_result"
    }
   ],
   "source": [
    "# Veo cuales son las propiedades más populares\n",
    "propiedadesXtipos = df.tipodepropiedad.value_counts().nlargest(10)\n",
    "propiedadesXtipos"
   ]
  },
  {
   "cell_type": "code",
   "execution_count": 66,
   "metadata": {},
   "outputs": [
    {
     "data": {
      "text/plain": [
       "CategoricalIndex(['Casa', 'Apartamento', 'Casa en condominio', 'Terreno',\n",
       "                  'Local Comercial', 'Oficina comercial', 'Bodega comercial',\n",
       "                  'Edificio', 'Terreno comercial', 'Casa uso de suelo'],\n",
       "                 categories=[0, 'Apartamento', 'Bodega comercial', 'Casa', 'Casa en condominio', 'Casa uso de suelo', 'Departamento Compartido', 'Duplex', ...], ordered=False, dtype='category')"
      ]
     },
     "execution_count": 66,
     "metadata": {},
     "output_type": "execute_result"
    }
   ],
   "source": [
    "tipos_populares = propiedadesXtipos.index\n",
    "tipos_populares"
   ]
  },
  {
   "cell_type": "code",
   "execution_count": 68,
   "metadata": {},
   "outputs": [
    {
     "data": {
      "text/plain": [
       "Distrito Federal    58790\n",
       "Edo. de México      41607\n",
       "Jalisco             21238\n",
       "Querétaro           16988\n",
       "Nuevo León          15324\n",
       "Puebla              10421\n",
       "San luis Potosí      8447\n",
       "Yucatán              7928\n",
       "Morelos              7337\n",
       "Veracruz             5762\n",
       "Name: provincia, dtype: int64"
      ]
     },
     "execution_count": 68,
     "metadata": {},
     "output_type": "execute_result"
    }
   ],
   "source": [
    "#Provincias más populares\n",
    "popiedadesXprovincia = df.provincia.value_counts().nlargest(10)\n",
    "popiedadesXprovincia"
   ]
  },
  {
   "cell_type": "code",
   "execution_count": 69,
   "metadata": {},
   "outputs": [
    {
     "data": {
      "text/plain": [
       "Index(['Distrito Federal', 'Edo. de México', 'Jalisco', 'Querétaro',\n",
       "       'Nuevo León', 'Puebla', 'San luis Potosí', 'Yucatán', 'Morelos',\n",
       "       'Veracruz'],\n",
       "      dtype='object')"
      ]
     },
     "execution_count": 69,
     "metadata": {},
     "output_type": "execute_result"
    }
   ],
   "source": [
    "provincias_populares = popiedadesXprovincia.index\n",
    "provincias_populares"
   ]
  },
  {
   "cell_type": "code",
   "execution_count": 70,
   "metadata": {},
   "outputs": [],
   "source": [
    "#Tipo de propiedad vs precios promedios\n",
    "tipoVSprecio = df[['id', 'tipodepropiedad', 'precio', 'provincia']].groupby(['provincia', 'tipodepropiedad']).agg({'id': 'count', 'precio': 'mean'}).reset_index().sort_values(by = ['id'], ascending = False)\n",
    "#Tomo sólo los 10 tipos de propiedad y provincias más populares\n",
    "tipoVSprecio = tipoVSprecio.loc[(tipoVSprecio.provincia.isin(provincias_populares)) & (tipoVSprecio.tipodepropiedad.isin(tipos_populares))]"
   ]
  },
  {
   "cell_type": "code",
   "execution_count": 71,
   "metadata": {
    "colab": {},
    "colab_type": "code",
    "id": "9olidlqLshCs"
   },
   "outputs": [
    {
     "data": {
      "text/html": [
       "<div>\n",
       "<style scoped>\n",
       "    .dataframe tbody tr th:only-of-type {\n",
       "        vertical-align: middle;\n",
       "    }\n",
       "\n",
       "    .dataframe tbody tr th {\n",
       "        vertical-align: top;\n",
       "    }\n",
       "\n",
       "    .dataframe thead th {\n",
       "        text-align: right;\n",
       "    }\n",
       "</style>\n",
       "<table border=\"1\" class=\"dataframe\">\n",
       "  <thead>\n",
       "    <tr style=\"text-align: right;\">\n",
       "      <th></th>\n",
       "      <th>provincia</th>\n",
       "      <th>tipodepropiedad</th>\n",
       "      <th>id</th>\n",
       "      <th>precio</th>\n",
       "    </tr>\n",
       "  </thead>\n",
       "  <tbody>\n",
       "    <tr>\n",
       "      <th>129</th>\n",
       "      <td>Distrito Federal</td>\n",
       "      <td>Apartamento</td>\n",
       "      <td>33839</td>\n",
       "      <td>2.919084e+06</td>\n",
       "    </tr>\n",
       "    <tr>\n",
       "      <th>173</th>\n",
       "      <td>Edo. de México</td>\n",
       "      <td>Casa</td>\n",
       "      <td>25938</td>\n",
       "      <td>2.792133e+06</td>\n",
       "    </tr>\n",
       "    <tr>\n",
       "      <th>131</th>\n",
       "      <td>Distrito Federal</td>\n",
       "      <td>Casa</td>\n",
       "      <td>15812</td>\n",
       "      <td>4.037017e+06</td>\n",
       "    </tr>\n",
       "    <tr>\n",
       "      <th>247</th>\n",
       "      <td>Jalisco</td>\n",
       "      <td>Casa</td>\n",
       "      <td>14196</td>\n",
       "      <td>2.325363e+06</td>\n",
       "    </tr>\n",
       "    <tr>\n",
       "      <th>314</th>\n",
       "      <td>Nuevo León</td>\n",
       "      <td>Casa</td>\n",
       "      <td>11477</td>\n",
       "      <td>2.568358e+06</td>\n",
       "    </tr>\n",
       "    <tr>\n",
       "      <th>367</th>\n",
       "      <td>Querétaro</td>\n",
       "      <td>Casa</td>\n",
       "      <td>11396</td>\n",
       "      <td>2.309959e+06</td>\n",
       "    </tr>\n",
       "    <tr>\n",
       "      <th>171</th>\n",
       "      <td>Edo. de México</td>\n",
       "      <td>Apartamento</td>\n",
       "      <td>8297</td>\n",
       "      <td>2.881501e+06</td>\n",
       "    </tr>\n",
       "    <tr>\n",
       "      <th>348</th>\n",
       "      <td>Puebla</td>\n",
       "      <td>Casa</td>\n",
       "      <td>6577</td>\n",
       "      <td>2.391779e+06</td>\n",
       "    </tr>\n",
       "    <tr>\n",
       "      <th>511</th>\n",
       "      <td>Yucatán</td>\n",
       "      <td>Casa</td>\n",
       "      <td>6472</td>\n",
       "      <td>1.992796e+06</td>\n",
       "    </tr>\n",
       "    <tr>\n",
       "      <th>404</th>\n",
       "      <td>San luis Potosí</td>\n",
       "      <td>Casa</td>\n",
       "      <td>5612</td>\n",
       "      <td>2.032427e+06</td>\n",
       "    </tr>\n",
       "    <tr>\n",
       "      <th>174</th>\n",
       "      <td>Edo. de México</td>\n",
       "      <td>Casa en condominio</td>\n",
       "      <td>4717</td>\n",
       "      <td>2.484096e+06</td>\n",
       "    </tr>\n",
       "    <tr>\n",
       "      <th>284</th>\n",
       "      <td>Morelos</td>\n",
       "      <td>Casa</td>\n",
       "      <td>4626</td>\n",
       "      <td>2.595663e+06</td>\n",
       "    </tr>\n",
       "    <tr>\n",
       "      <th>132</th>\n",
       "      <td>Distrito Federal</td>\n",
       "      <td>Casa en condominio</td>\n",
       "      <td>4596</td>\n",
       "      <td>4.811713e+06</td>\n",
       "    </tr>\n",
       "    <tr>\n",
       "      <th>493</th>\n",
       "      <td>Veracruz</td>\n",
       "      <td>Casa</td>\n",
       "      <td>4445</td>\n",
       "      <td>1.921550e+06</td>\n",
       "    </tr>\n",
       "    <tr>\n",
       "      <th>245</th>\n",
       "      <td>Jalisco</td>\n",
       "      <td>Apartamento</td>\n",
       "      <td>2638</td>\n",
       "      <td>2.520902e+06</td>\n",
       "    </tr>\n",
       "    <tr>\n",
       "      <th>368</th>\n",
       "      <td>Querétaro</td>\n",
       "      <td>Casa en condominio</td>\n",
       "      <td>2537</td>\n",
       "      <td>2.120155e+06</td>\n",
       "    </tr>\n",
       "    <tr>\n",
       "      <th>248</th>\n",
       "      <td>Jalisco</td>\n",
       "      <td>Casa en condominio</td>\n",
       "      <td>1905</td>\n",
       "      <td>2.627604e+06</td>\n",
       "    </tr>\n",
       "    <tr>\n",
       "      <th>312</th>\n",
       "      <td>Nuevo León</td>\n",
       "      <td>Apartamento</td>\n",
       "      <td>1847</td>\n",
       "      <td>3.860282e+06</td>\n",
       "    </tr>\n",
       "    <tr>\n",
       "      <th>402</th>\n",
       "      <td>San luis Potosí</td>\n",
       "      <td>Apartamento</td>\n",
       "      <td>1686</td>\n",
       "      <td>1.671470e+06</td>\n",
       "    </tr>\n",
       "    <tr>\n",
       "      <th>147</th>\n",
       "      <td>Distrito Federal</td>\n",
       "      <td>Terreno</td>\n",
       "      <td>1677</td>\n",
       "      <td>4.066719e+06</td>\n",
       "    </tr>\n",
       "    <tr>\n",
       "      <th>346</th>\n",
       "      <td>Puebla</td>\n",
       "      <td>Apartamento</td>\n",
       "      <td>1522</td>\n",
       "      <td>1.860751e+06</td>\n",
       "    </tr>\n",
       "    <tr>\n",
       "      <th>285</th>\n",
       "      <td>Morelos</td>\n",
       "      <td>Casa en condominio</td>\n",
       "      <td>1505</td>\n",
       "      <td>1.801653e+06</td>\n",
       "    </tr>\n",
       "    <tr>\n",
       "      <th>349</th>\n",
       "      <td>Puebla</td>\n",
       "      <td>Casa en condominio</td>\n",
       "      <td>1338</td>\n",
       "      <td>2.692794e+06</td>\n",
       "    </tr>\n",
       "    <tr>\n",
       "      <th>261</th>\n",
       "      <td>Jalisco</td>\n",
       "      <td>Terreno</td>\n",
       "      <td>1237</td>\n",
       "      <td>1.766575e+06</td>\n",
       "    </tr>\n",
       "    <tr>\n",
       "      <th>380</th>\n",
       "      <td>Querétaro</td>\n",
       "      <td>Terreno</td>\n",
       "      <td>1223</td>\n",
       "      <td>8.709473e+05</td>\n",
       "    </tr>\n",
       "    <tr>\n",
       "      <th>189</th>\n",
       "      <td>Edo. de México</td>\n",
       "      <td>Terreno</td>\n",
       "      <td>1156</td>\n",
       "      <td>1.871082e+06</td>\n",
       "    </tr>\n",
       "    <tr>\n",
       "      <th>365</th>\n",
       "      <td>Querétaro</td>\n",
       "      <td>Apartamento</td>\n",
       "      <td>1084</td>\n",
       "      <td>1.945329e+06</td>\n",
       "    </tr>\n",
       "    <tr>\n",
       "      <th>282</th>\n",
       "      <td>Morelos</td>\n",
       "      <td>Apartamento</td>\n",
       "      <td>859</td>\n",
       "      <td>1.574236e+06</td>\n",
       "    </tr>\n",
       "    <tr>\n",
       "      <th>143</th>\n",
       "      <td>Distrito Federal</td>\n",
       "      <td>Oficina comercial</td>\n",
       "      <td>736</td>\n",
       "      <td>3.647538e+06</td>\n",
       "    </tr>\n",
       "    <tr>\n",
       "      <th>329</th>\n",
       "      <td>Nuevo León</td>\n",
       "      <td>Terreno</td>\n",
       "      <td>624</td>\n",
       "      <td>1.841704e+06</td>\n",
       "    </tr>\n",
       "    <tr>\n",
       "      <th>...</th>\n",
       "      <td>...</td>\n",
       "      <td>...</td>\n",
       "      <td>...</td>\n",
       "      <td>...</td>\n",
       "    </tr>\n",
       "    <tr>\n",
       "      <th>252</th>\n",
       "      <td>Jalisco</td>\n",
       "      <td>Edificio</td>\n",
       "      <td>65</td>\n",
       "      <td>4.911477e+06</td>\n",
       "    </tr>\n",
       "    <tr>\n",
       "      <th>414</th>\n",
       "      <td>San luis Potosí</td>\n",
       "      <td>Oficina comercial</td>\n",
       "      <td>62</td>\n",
       "      <td>1.888526e+06</td>\n",
       "    </tr>\n",
       "    <tr>\n",
       "      <th>519</th>\n",
       "      <td>Yucatán</td>\n",
       "      <td>Oficina comercial</td>\n",
       "      <td>62</td>\n",
       "      <td>1.945090e+06</td>\n",
       "    </tr>\n",
       "    <tr>\n",
       "      <th>291</th>\n",
       "      <td>Morelos</td>\n",
       "      <td>Local Comercial</td>\n",
       "      <td>59</td>\n",
       "      <td>2.512158e+06</td>\n",
       "    </tr>\n",
       "    <tr>\n",
       "      <th>249</th>\n",
       "      <td>Jalisco</td>\n",
       "      <td>Casa uso de suelo</td>\n",
       "      <td>59</td>\n",
       "      <td>2.729746e+06</td>\n",
       "    </tr>\n",
       "    <tr>\n",
       "      <th>498</th>\n",
       "      <td>Veracruz</td>\n",
       "      <td>Local Comercial</td>\n",
       "      <td>58</td>\n",
       "      <td>2.521488e+06</td>\n",
       "    </tr>\n",
       "    <tr>\n",
       "      <th>496</th>\n",
       "      <td>Veracruz</td>\n",
       "      <td>Edificio</td>\n",
       "      <td>56</td>\n",
       "      <td>3.963292e+06</td>\n",
       "    </tr>\n",
       "    <tr>\n",
       "      <th>319</th>\n",
       "      <td>Nuevo León</td>\n",
       "      <td>Edificio</td>\n",
       "      <td>52</td>\n",
       "      <td>3.617602e+06</td>\n",
       "    </tr>\n",
       "    <tr>\n",
       "      <th>316</th>\n",
       "      <td>Nuevo León</td>\n",
       "      <td>Casa uso de suelo</td>\n",
       "      <td>48</td>\n",
       "      <td>2.585438e+06</td>\n",
       "    </tr>\n",
       "    <tr>\n",
       "      <th>347</th>\n",
       "      <td>Puebla</td>\n",
       "      <td>Bodega comercial</td>\n",
       "      <td>44</td>\n",
       "      <td>2.482700e+06</td>\n",
       "    </tr>\n",
       "    <tr>\n",
       "      <th>506</th>\n",
       "      <td>Veracruz</td>\n",
       "      <td>Terreno comercial</td>\n",
       "      <td>37</td>\n",
       "      <td>2.306546e+06</td>\n",
       "    </tr>\n",
       "    <tr>\n",
       "      <th>371</th>\n",
       "      <td>Querétaro</td>\n",
       "      <td>Edificio</td>\n",
       "      <td>34</td>\n",
       "      <td>4.353530e+06</td>\n",
       "    </tr>\n",
       "    <tr>\n",
       "      <th>502</th>\n",
       "      <td>Veracruz</td>\n",
       "      <td>Oficina comercial</td>\n",
       "      <td>31</td>\n",
       "      <td>2.696753e+06</td>\n",
       "    </tr>\n",
       "    <tr>\n",
       "      <th>523</th>\n",
       "      <td>Yucatán</td>\n",
       "      <td>Terreno comercial</td>\n",
       "      <td>31</td>\n",
       "      <td>2.628089e+06</td>\n",
       "    </tr>\n",
       "    <tr>\n",
       "      <th>369</th>\n",
       "      <td>Querétaro</td>\n",
       "      <td>Casa uso de suelo</td>\n",
       "      <td>27</td>\n",
       "      <td>3.235852e+06</td>\n",
       "    </tr>\n",
       "    <tr>\n",
       "      <th>353</th>\n",
       "      <td>Puebla</td>\n",
       "      <td>Edificio</td>\n",
       "      <td>26</td>\n",
       "      <td>4.947077e+06</td>\n",
       "    </tr>\n",
       "    <tr>\n",
       "      <th>513</th>\n",
       "      <td>Yucatán</td>\n",
       "      <td>Casa uso de suelo</td>\n",
       "      <td>26</td>\n",
       "      <td>2.488077e+06</td>\n",
       "    </tr>\n",
       "    <tr>\n",
       "      <th>363</th>\n",
       "      <td>Puebla</td>\n",
       "      <td>Terreno comercial</td>\n",
       "      <td>25</td>\n",
       "      <td>2.364212e+06</td>\n",
       "    </tr>\n",
       "    <tr>\n",
       "      <th>286</th>\n",
       "      <td>Morelos</td>\n",
       "      <td>Casa uso de suelo</td>\n",
       "      <td>21</td>\n",
       "      <td>3.292401e+06</td>\n",
       "    </tr>\n",
       "    <tr>\n",
       "      <th>492</th>\n",
       "      <td>Veracruz</td>\n",
       "      <td>Bodega comercial</td>\n",
       "      <td>21</td>\n",
       "      <td>1.856329e+06</td>\n",
       "    </tr>\n",
       "    <tr>\n",
       "      <th>293</th>\n",
       "      <td>Morelos</td>\n",
       "      <td>Oficina comercial</td>\n",
       "      <td>16</td>\n",
       "      <td>2.064219e+06</td>\n",
       "    </tr>\n",
       "    <tr>\n",
       "      <th>516</th>\n",
       "      <td>Yucatán</td>\n",
       "      <td>Edificio</td>\n",
       "      <td>16</td>\n",
       "      <td>3.272906e+06</td>\n",
       "    </tr>\n",
       "    <tr>\n",
       "      <th>289</th>\n",
       "      <td>Morelos</td>\n",
       "      <td>Edificio</td>\n",
       "      <td>15</td>\n",
       "      <td>3.938667e+06</td>\n",
       "    </tr>\n",
       "    <tr>\n",
       "      <th>510</th>\n",
       "      <td>Yucatán</td>\n",
       "      <td>Bodega comercial</td>\n",
       "      <td>14</td>\n",
       "      <td>1.541557e+06</td>\n",
       "    </tr>\n",
       "    <tr>\n",
       "      <th>298</th>\n",
       "      <td>Morelos</td>\n",
       "      <td>Terreno comercial</td>\n",
       "      <td>13</td>\n",
       "      <td>1.638892e+06</td>\n",
       "    </tr>\n",
       "    <tr>\n",
       "      <th>350</th>\n",
       "      <td>Puebla</td>\n",
       "      <td>Casa uso de suelo</td>\n",
       "      <td>11</td>\n",
       "      <td>2.668182e+06</td>\n",
       "    </tr>\n",
       "    <tr>\n",
       "      <th>409</th>\n",
       "      <td>San luis Potosí</td>\n",
       "      <td>Edificio</td>\n",
       "      <td>10</td>\n",
       "      <td>5.465400e+06</td>\n",
       "    </tr>\n",
       "    <tr>\n",
       "      <th>495</th>\n",
       "      <td>Veracruz</td>\n",
       "      <td>Casa uso de suelo</td>\n",
       "      <td>6</td>\n",
       "      <td>3.675000e+06</td>\n",
       "    </tr>\n",
       "    <tr>\n",
       "      <th>283</th>\n",
       "      <td>Morelos</td>\n",
       "      <td>Bodega comercial</td>\n",
       "      <td>5</td>\n",
       "      <td>2.480000e+06</td>\n",
       "    </tr>\n",
       "    <tr>\n",
       "      <th>406</th>\n",
       "      <td>San luis Potosí</td>\n",
       "      <td>Casa uso de suelo</td>\n",
       "      <td>5</td>\n",
       "      <td>2.444000e+06</td>\n",
       "    </tr>\n",
       "  </tbody>\n",
       "</table>\n",
       "<p>100 rows × 4 columns</p>\n",
       "</div>"
      ],
      "text/plain": [
       "            provincia     tipodepropiedad     id        precio\n",
       "129  Distrito Federal         Apartamento  33839  2.919084e+06\n",
       "173    Edo. de México                Casa  25938  2.792133e+06\n",
       "131  Distrito Federal                Casa  15812  4.037017e+06\n",
       "247           Jalisco                Casa  14196  2.325363e+06\n",
       "314        Nuevo León                Casa  11477  2.568358e+06\n",
       "367         Querétaro                Casa  11396  2.309959e+06\n",
       "171    Edo. de México         Apartamento   8297  2.881501e+06\n",
       "348            Puebla                Casa   6577  2.391779e+06\n",
       "511           Yucatán                Casa   6472  1.992796e+06\n",
       "404   San luis Potosí                Casa   5612  2.032427e+06\n",
       "174    Edo. de México  Casa en condominio   4717  2.484096e+06\n",
       "284           Morelos                Casa   4626  2.595663e+06\n",
       "132  Distrito Federal  Casa en condominio   4596  4.811713e+06\n",
       "493          Veracruz                Casa   4445  1.921550e+06\n",
       "245           Jalisco         Apartamento   2638  2.520902e+06\n",
       "368         Querétaro  Casa en condominio   2537  2.120155e+06\n",
       "248           Jalisco  Casa en condominio   1905  2.627604e+06\n",
       "312        Nuevo León         Apartamento   1847  3.860282e+06\n",
       "402   San luis Potosí         Apartamento   1686  1.671470e+06\n",
       "147  Distrito Federal             Terreno   1677  4.066719e+06\n",
       "346            Puebla         Apartamento   1522  1.860751e+06\n",
       "285           Morelos  Casa en condominio   1505  1.801653e+06\n",
       "349            Puebla  Casa en condominio   1338  2.692794e+06\n",
       "261           Jalisco             Terreno   1237  1.766575e+06\n",
       "380         Querétaro             Terreno   1223  8.709473e+05\n",
       "189    Edo. de México             Terreno   1156  1.871082e+06\n",
       "365         Querétaro         Apartamento   1084  1.945329e+06\n",
       "282           Morelos         Apartamento    859  1.574236e+06\n",
       "143  Distrito Federal   Oficina comercial    736  3.647538e+06\n",
       "329        Nuevo León             Terreno    624  1.841704e+06\n",
       "..                ...                 ...    ...           ...\n",
       "252           Jalisco            Edificio     65  4.911477e+06\n",
       "414   San luis Potosí   Oficina comercial     62  1.888526e+06\n",
       "519           Yucatán   Oficina comercial     62  1.945090e+06\n",
       "291           Morelos     Local Comercial     59  2.512158e+06\n",
       "249           Jalisco   Casa uso de suelo     59  2.729746e+06\n",
       "498          Veracruz     Local Comercial     58  2.521488e+06\n",
       "496          Veracruz            Edificio     56  3.963292e+06\n",
       "319        Nuevo León            Edificio     52  3.617602e+06\n",
       "316        Nuevo León   Casa uso de suelo     48  2.585438e+06\n",
       "347            Puebla    Bodega comercial     44  2.482700e+06\n",
       "506          Veracruz   Terreno comercial     37  2.306546e+06\n",
       "371         Querétaro            Edificio     34  4.353530e+06\n",
       "502          Veracruz   Oficina comercial     31  2.696753e+06\n",
       "523           Yucatán   Terreno comercial     31  2.628089e+06\n",
       "369         Querétaro   Casa uso de suelo     27  3.235852e+06\n",
       "353            Puebla            Edificio     26  4.947077e+06\n",
       "513           Yucatán   Casa uso de suelo     26  2.488077e+06\n",
       "363            Puebla   Terreno comercial     25  2.364212e+06\n",
       "286           Morelos   Casa uso de suelo     21  3.292401e+06\n",
       "492          Veracruz    Bodega comercial     21  1.856329e+06\n",
       "293           Morelos   Oficina comercial     16  2.064219e+06\n",
       "516           Yucatán            Edificio     16  3.272906e+06\n",
       "289           Morelos            Edificio     15  3.938667e+06\n",
       "510           Yucatán    Bodega comercial     14  1.541557e+06\n",
       "298           Morelos   Terreno comercial     13  1.638892e+06\n",
       "350            Puebla   Casa uso de suelo     11  2.668182e+06\n",
       "409   San luis Potosí            Edificio     10  5.465400e+06\n",
       "495          Veracruz   Casa uso de suelo      6  3.675000e+06\n",
       "283           Morelos    Bodega comercial      5  2.480000e+06\n",
       "406   San luis Potosí   Casa uso de suelo      5  2.444000e+06\n",
       "\n",
       "[100 rows x 4 columns]"
      ]
     },
     "execution_count": 71,
     "metadata": {},
     "output_type": "execute_result"
    }
   ],
   "source": [
    "tipoVSprecio"
   ]
  },
  {
   "cell_type": "code",
   "execution_count": 72,
   "metadata": {},
   "outputs": [
    {
     "data": {
      "text/plain": [
       "10"
      ]
     },
     "execution_count": 72,
     "metadata": {},
     "output_type": "execute_result"
    }
   ],
   "source": [
    "tipoVSprecio.provincia.nunique()"
   ]
  },
  {
   "cell_type": "code",
   "execution_count": 73,
   "metadata": {},
   "outputs": [
    {
     "data": {
      "text/plain": [
       "10"
      ]
     },
     "execution_count": 73,
     "metadata": {},
     "output_type": "execute_result"
    }
   ],
   "source": [
    "tipoVSprecio.tipodepropiedad.nunique()"
   ]
  },
  {
   "cell_type": "code",
   "execution_count": 77,
   "metadata": {},
   "outputs": [
    {
     "data": {
      "text/html": [
       "<div>\n",
       "<style scoped>\n",
       "    .dataframe tbody tr th:only-of-type {\n",
       "        vertical-align: middle;\n",
       "    }\n",
       "\n",
       "    .dataframe tbody tr th {\n",
       "        vertical-align: top;\n",
       "    }\n",
       "\n",
       "    .dataframe thead th {\n",
       "        text-align: right;\n",
       "    }\n",
       "</style>\n",
       "<table border=\"1\" class=\"dataframe\">\n",
       "  <thead>\n",
       "    <tr style=\"text-align: right;\">\n",
       "      <th>provincia</th>\n",
       "      <th>Distrito Federal</th>\n",
       "      <th>Edo. de México</th>\n",
       "      <th>Jalisco</th>\n",
       "      <th>Morelos</th>\n",
       "      <th>Nuevo León</th>\n",
       "      <th>Puebla</th>\n",
       "      <th>Querétaro</th>\n",
       "      <th>San luis Potosí</th>\n",
       "      <th>Veracruz</th>\n",
       "      <th>Yucatán</th>\n",
       "    </tr>\n",
       "    <tr>\n",
       "      <th>tipodepropiedad</th>\n",
       "      <th></th>\n",
       "      <th></th>\n",
       "      <th></th>\n",
       "      <th></th>\n",
       "      <th></th>\n",
       "      <th></th>\n",
       "      <th></th>\n",
       "      <th></th>\n",
       "      <th></th>\n",
       "      <th></th>\n",
       "    </tr>\n",
       "  </thead>\n",
       "  <tbody>\n",
       "    <tr>\n",
       "      <th>Apartamento</th>\n",
       "      <td>2.919084e+06</td>\n",
       "      <td>2.881501e+06</td>\n",
       "      <td>2.520902e+06</td>\n",
       "      <td>1.574236e+06</td>\n",
       "      <td>3.860282e+06</td>\n",
       "      <td>1.860751e+06</td>\n",
       "      <td>1.945329e+06</td>\n",
       "      <td>1.671470e+06</td>\n",
       "      <td>1.940036e+06</td>\n",
       "      <td>2.336429e+06</td>\n",
       "    </tr>\n",
       "    <tr>\n",
       "      <th>Bodega comercial</th>\n",
       "      <td>4.272932e+06</td>\n",
       "      <td>2.749083e+06</td>\n",
       "      <td>2.310573e+06</td>\n",
       "      <td>2.480000e+06</td>\n",
       "      <td>2.233120e+06</td>\n",
       "      <td>2.482700e+06</td>\n",
       "      <td>2.013162e+06</td>\n",
       "      <td>2.001956e+06</td>\n",
       "      <td>1.856329e+06</td>\n",
       "      <td>1.541557e+06</td>\n",
       "    </tr>\n",
       "    <tr>\n",
       "      <th>Casa</th>\n",
       "      <td>4.037017e+06</td>\n",
       "      <td>2.792133e+06</td>\n",
       "      <td>2.325363e+06</td>\n",
       "      <td>2.595663e+06</td>\n",
       "      <td>2.568358e+06</td>\n",
       "      <td>2.391779e+06</td>\n",
       "      <td>2.309959e+06</td>\n",
       "      <td>2.032427e+06</td>\n",
       "      <td>1.921550e+06</td>\n",
       "      <td>1.992796e+06</td>\n",
       "    </tr>\n",
       "    <tr>\n",
       "      <th>Casa en condominio</th>\n",
       "      <td>4.811713e+06</td>\n",
       "      <td>2.484096e+06</td>\n",
       "      <td>2.627604e+06</td>\n",
       "      <td>1.801653e+06</td>\n",
       "      <td>2.701284e+06</td>\n",
       "      <td>2.692794e+06</td>\n",
       "      <td>2.120155e+06</td>\n",
       "      <td>2.266716e+06</td>\n",
       "      <td>1.488363e+06</td>\n",
       "      <td>2.633705e+06</td>\n",
       "    </tr>\n",
       "    <tr>\n",
       "      <th>Casa uso de suelo</th>\n",
       "      <td>5.321922e+06</td>\n",
       "      <td>3.135521e+06</td>\n",
       "      <td>2.729746e+06</td>\n",
       "      <td>3.292401e+06</td>\n",
       "      <td>2.585438e+06</td>\n",
       "      <td>2.668182e+06</td>\n",
       "      <td>3.235852e+06</td>\n",
       "      <td>2.444000e+06</td>\n",
       "      <td>3.675000e+06</td>\n",
       "      <td>2.488077e+06</td>\n",
       "    </tr>\n",
       "    <tr>\n",
       "      <th>Edificio</th>\n",
       "      <td>5.951535e+06</td>\n",
       "      <td>4.820201e+06</td>\n",
       "      <td>4.911477e+06</td>\n",
       "      <td>3.938667e+06</td>\n",
       "      <td>3.617602e+06</td>\n",
       "      <td>4.947077e+06</td>\n",
       "      <td>4.353530e+06</td>\n",
       "      <td>5.465400e+06</td>\n",
       "      <td>3.963292e+06</td>\n",
       "      <td>3.272906e+06</td>\n",
       "    </tr>\n",
       "    <tr>\n",
       "      <th>Local Comercial</th>\n",
       "      <td>3.178273e+06</td>\n",
       "      <td>2.764283e+06</td>\n",
       "      <td>2.349532e+06</td>\n",
       "      <td>2.512158e+06</td>\n",
       "      <td>2.440365e+06</td>\n",
       "      <td>2.293458e+06</td>\n",
       "      <td>1.898338e+06</td>\n",
       "      <td>2.032394e+06</td>\n",
       "      <td>2.521488e+06</td>\n",
       "      <td>2.081840e+06</td>\n",
       "    </tr>\n",
       "    <tr>\n",
       "      <th>Oficina comercial</th>\n",
       "      <td>3.647538e+06</td>\n",
       "      <td>3.334818e+06</td>\n",
       "      <td>3.837927e+06</td>\n",
       "      <td>2.064219e+06</td>\n",
       "      <td>3.231270e+06</td>\n",
       "      <td>2.708164e+06</td>\n",
       "      <td>2.277341e+06</td>\n",
       "      <td>1.888526e+06</td>\n",
       "      <td>2.696753e+06</td>\n",
       "      <td>1.945090e+06</td>\n",
       "    </tr>\n",
       "    <tr>\n",
       "      <th>Terreno</th>\n",
       "      <td>4.066719e+06</td>\n",
       "      <td>1.871082e+06</td>\n",
       "      <td>1.766575e+06</td>\n",
       "      <td>1.477136e+06</td>\n",
       "      <td>1.841704e+06</td>\n",
       "      <td>1.330743e+06</td>\n",
       "      <td>8.709473e+05</td>\n",
       "      <td>1.360701e+06</td>\n",
       "      <td>1.066838e+06</td>\n",
       "      <td>1.280037e+06</td>\n",
       "    </tr>\n",
       "    <tr>\n",
       "      <th>Terreno comercial</th>\n",
       "      <td>4.737601e+06</td>\n",
       "      <td>3.371196e+06</td>\n",
       "      <td>2.705533e+06</td>\n",
       "      <td>1.638892e+06</td>\n",
       "      <td>2.215208e+06</td>\n",
       "      <td>2.364212e+06</td>\n",
       "      <td>1.303558e+06</td>\n",
       "      <td>1.404880e+06</td>\n",
       "      <td>2.306546e+06</td>\n",
       "      <td>2.628089e+06</td>\n",
       "    </tr>\n",
       "  </tbody>\n",
       "</table>\n",
       "</div>"
      ],
      "text/plain": [
       "provincia           Distrito Federal  Edo. de México       Jalisco  \\\n",
       "tipodepropiedad                                                      \n",
       "Apartamento             2.919084e+06    2.881501e+06  2.520902e+06   \n",
       "Bodega comercial        4.272932e+06    2.749083e+06  2.310573e+06   \n",
       "Casa                    4.037017e+06    2.792133e+06  2.325363e+06   \n",
       "Casa en condominio      4.811713e+06    2.484096e+06  2.627604e+06   \n",
       "Casa uso de suelo       5.321922e+06    3.135521e+06  2.729746e+06   \n",
       "Edificio                5.951535e+06    4.820201e+06  4.911477e+06   \n",
       "Local Comercial         3.178273e+06    2.764283e+06  2.349532e+06   \n",
       "Oficina comercial       3.647538e+06    3.334818e+06  3.837927e+06   \n",
       "Terreno                 4.066719e+06    1.871082e+06  1.766575e+06   \n",
       "Terreno comercial       4.737601e+06    3.371196e+06  2.705533e+06   \n",
       "\n",
       "provincia                Morelos    Nuevo León        Puebla     Querétaro  \\\n",
       "tipodepropiedad                                                              \n",
       "Apartamento         1.574236e+06  3.860282e+06  1.860751e+06  1.945329e+06   \n",
       "Bodega comercial    2.480000e+06  2.233120e+06  2.482700e+06  2.013162e+06   \n",
       "Casa                2.595663e+06  2.568358e+06  2.391779e+06  2.309959e+06   \n",
       "Casa en condominio  1.801653e+06  2.701284e+06  2.692794e+06  2.120155e+06   \n",
       "Casa uso de suelo   3.292401e+06  2.585438e+06  2.668182e+06  3.235852e+06   \n",
       "Edificio            3.938667e+06  3.617602e+06  4.947077e+06  4.353530e+06   \n",
       "Local Comercial     2.512158e+06  2.440365e+06  2.293458e+06  1.898338e+06   \n",
       "Oficina comercial   2.064219e+06  3.231270e+06  2.708164e+06  2.277341e+06   \n",
       "Terreno             1.477136e+06  1.841704e+06  1.330743e+06  8.709473e+05   \n",
       "Terreno comercial   1.638892e+06  2.215208e+06  2.364212e+06  1.303558e+06   \n",
       "\n",
       "provincia           San luis Potosí      Veracruz       Yucatán  \n",
       "tipodepropiedad                                                  \n",
       "Apartamento            1.671470e+06  1.940036e+06  2.336429e+06  \n",
       "Bodega comercial       2.001956e+06  1.856329e+06  1.541557e+06  \n",
       "Casa                   2.032427e+06  1.921550e+06  1.992796e+06  \n",
       "Casa en condominio     2.266716e+06  1.488363e+06  2.633705e+06  \n",
       "Casa uso de suelo      2.444000e+06  3.675000e+06  2.488077e+06  \n",
       "Edificio               5.465400e+06  3.963292e+06  3.272906e+06  \n",
       "Local Comercial        2.032394e+06  2.521488e+06  2.081840e+06  \n",
       "Oficina comercial      1.888526e+06  2.696753e+06  1.945090e+06  \n",
       "Terreno                1.360701e+06  1.066838e+06  1.280037e+06  \n",
       "Terreno comercial      1.404880e+06  2.306546e+06  2.628089e+06  "
      ]
     },
     "execution_count": 77,
     "metadata": {},
     "output_type": "execute_result"
    }
   ],
   "source": [
    "tablaHeatMap = pd.pivot_table(tipoVSprecio, values = 'precio', index = 'tipodepropiedad', columns = 'provincia')\n",
    "tablaHeatMap\n"
   ]
  },
  {
   "cell_type": "code",
   "execution_count": 76,
   "metadata": {},
   "outputs": [
    {
     "data": {
      "text/plain": [
       "Text(0.5,33,'Provincia')"
      ]
     },
     "execution_count": 76,
     "metadata": {},
     "output_type": "execute_result"
    },
    {
     "data": {
      "image/png": "[encoded data removed]",
      "text/plain": [
       "<Figure size 864x432 with 2 Axes>"
      ]
     },
     "metadata": {
      "needs_background": "light"
     },
     "output_type": "display_data"
    }
   ],
   "source": [
    "plt.figure(figsize = (12,6))\n",
    "graf = sns.heatmap(tablaHeatMap, )\n",
    "graf.set_title('Valor de propiedades según tipo de propiedad y provincia en la que se ubica', fontsize =  22)\n",
    "graf.set_ylabel('Tipo de propiedad', fontsize = 18)\n",
    "graf.set_xlabel('Provincia', fontsize = 18)"
   ]
  },
  {
   "cell_type": "markdown",
   "metadata": {},
   "source": [
    "## Distribución de metros que abarcan las propiedades en las provincias más populares"
   ]
  },
  {
   "cell_type": "code",
   "execution_count": 118,
   "metadata": {},
   "outputs": [
    {
     "data": {
      "text/html": [
       "<div>\n",
       "<style scoped>\n",
       "    .dataframe tbody tr th:only-of-type {\n",
       "        vertical-align: middle;\n",
       "    }\n",
       "\n",
       "    .dataframe tbody tr th {\n",
       "        vertical-align: top;\n",
       "    }\n",
       "\n",
       "    .dataframe thead th {\n",
       "        text-align: right;\n",
       "    }\n",
       "</style>\n",
       "<table border=\"1\" class=\"dataframe\">\n",
       "  <thead>\n",
       "    <tr style=\"text-align: right;\">\n",
       "      <th></th>\n",
       "      <th>provincia</th>\n",
       "      <th>metrostotales</th>\n",
       "    </tr>\n",
       "  </thead>\n",
       "  <tbody>\n",
       "    <tr>\n",
       "      <th>0</th>\n",
       "      <td>Distrito Federal</td>\n",
       "      <td>80</td>\n",
       "    </tr>\n",
       "    <tr>\n",
       "      <th>1</th>\n",
       "      <td>Distrito Federal</td>\n",
       "      <td>180</td>\n",
       "    </tr>\n",
       "    <tr>\n",
       "      <th>2</th>\n",
       "      <td>Jalisco</td>\n",
       "      <td>166</td>\n",
       "    </tr>\n",
       "    <tr>\n",
       "      <th>3</th>\n",
       "      <td>Edo. de México</td>\n",
       "      <td>67</td>\n",
       "    </tr>\n",
       "    <tr>\n",
       "      <th>4</th>\n",
       "      <td>Jalisco</td>\n",
       "      <td>95</td>\n",
       "    </tr>\n",
       "  </tbody>\n",
       "</table>\n",
       "</div>"
      ],
      "text/plain": [
       "          provincia  metrostotales\n",
       "0  Distrito Federal             80\n",
       "1  Distrito Federal            180\n",
       "2           Jalisco            166\n",
       "3    Edo. de México             67\n",
       "4           Jalisco             95"
      ]
     },
     "execution_count": 118,
     "metadata": {},
     "output_type": "execute_result"
    }
   ],
   "source": [
    "# Como voy a analizar los datos con metros, \n",
    "#no me interesan las propiedades que no especifican el tamaño de la propiedad\n",
    "dataMetros = df.loc[~(df['metrostotales'].isnull()), ['provincia', 'metrostotales']]\n",
    "dataMetros.head()"
   ]
  },
  {
   "cell_type": "code",
   "execution_count": 119,
   "metadata": {},
   "outputs": [],
   "source": [
    "# filtro por las provincias más populares\n",
    "dataMetros = dataMetros.loc[dataMetros.provincia.isin(provincias_populares)]"
   ]
  },
  {
   "cell_type": "code",
   "execution_count": 120,
   "metadata": {},
   "outputs": [
    {
     "data": {
      "text/plain": [
       "provincia        193842\n",
       "metrostotales    193842\n",
       "dtype: int64"
      ]
     },
     "execution_count": 120,
     "metadata": {},
     "output_type": "execute_result"
    }
   ],
   "source": [
    "dataMetros.count()"
   ]
  },
  {
   "cell_type": "code",
   "execution_count": 123,
   "metadata": {},
   "outputs": [
    {
     "data": {
      "text/plain": [
       "Text(0.5,0,'Provincia')"
      ]
     },
     "execution_count": 123,
     "metadata": {},
     "output_type": "execute_result"
    },
    {
     "data": {
      "image/png": "[encoded data removed]",
      "text/plain": [
       "<Figure size 864x432 with 1 Axes>"
      ]
     },
     "metadata": {
      "needs_background": "light"
     },
     "output_type": "display_data"
    }
   ],
   "source": [
    "plt.figure(figsize = (12,6))\n",
    "grafico = sns.boxplot( x=dataMetros[\"provincia\"], y=dataMetros[\"metrostotales\"], palette=\"Paired\")\n",
    "grafico.set_xticklabels(grafico.get_xticklabels(),rotation=60)\n",
    "grafico.set_title('Distribución de metros totales de propiedad para las provincias más populares', fontsize =  22)\n",
    "grafico.set_ylabel('Metros totales', fontsize = 18)\n",
    "grafico.set_xlabel('Provincia', fontsize = 18)"
   ]
  },
  {
   "cell_type": "code",
   "execution_count": null,
   "metadata": {},
   "outputs": [],
   "source": []
  }
 ],
 "metadata": {
  "colab": {
   "collapsed_sections": [],
   "name": "ValidezDeDatos.ipynb",
   "provenance": [],
   "version": "0.3.2"
  },
  "kernelspec": {
   "display_name": "Python 3",
   "language": "python",
   "name": "python3"
  },
  "language_info": {
   "codemirror_mode": {
    "name": "ipython",
    "version": 3
   },
   "file_extension": ".py",
   "mimetype": "text/x-python",
   "name": "python",
   "nbconvert_exporter": "python",
   "pygments_lexer": "ipython3",
   "version": "3.6.9"
  }
 },
 "nbformat": 4,
 "nbformat_minor": 1
}
