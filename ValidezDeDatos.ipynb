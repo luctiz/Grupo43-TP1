{
  "nbformat": 4,
  "nbformat_minor": 0,
  "metadata": {
    "colab": {
      "name": "ValidezDeDatos.ipynb",
      "version": "0.3.2",
      "provenance": [],
      "collapsed_sections": []
    },
    "kernelspec": {
      "name": "python3",
      "display_name": "Python 3"
    }
  },
  "cells": [
    {
      "cell_type": "code",
      "metadata": {
        "id": "3N353lUK9JCG",
        "colab_type": "code",
        "colab": {}
      },
      "source": [
        "import pandas as pd\n",
        "from datetime import datetime\n",
        "import numpy as np\n",
        "import matplotlib.pyplot as plt\n",
        "import seaborn as sns"
      ],
      "execution_count": 0,
      "outputs": []
    },
    {
      "cell_type": "code",
      "metadata": {
        "id": "oA6RWLUK-eSG",
        "colab_type": "code",
        "colab": {}
      },
      "source": [
        "from google.colab import files\n",
        "uploaded = files.upload()"
      ],
      "execution_count": 0,
      "outputs": []
    },
    {
      "cell_type": "code",
      "metadata": {
        "id": "8MBqVQ0t-fcY",
        "colab_type": "code",
        "colab": {}
      },
      "source": [
        "import io\n",
        "ruta = io.StringIO(uploaded['train.csv'].decode('utf-8'))\n",
        "df = pd.read_csv(ruta, dtype = {'piscina':'int32', 'gimnasio':'int32', 'usosmultiples':'int32', 'escuelascercanas':'int32',\n",
        "                                         'centroscomercialescercanos':'int32', 'precio':'int32', 'id':'int32'},parse_dates = ['fecha'])"
      ],
      "execution_count": 0,
      "outputs": []
    },
    {
      "cell_type": "code",
      "metadata": {
        "id": "dxWfhYj-NVLC",
        "colab_type": "code",
        "outputId": "7ea5023d-50db-4d67-95a2-d458fd5d0e81",
        "colab": {
          "base_uri": "https://localhost:8080/",
          "height": 168
        }
      },
      "source": [
        "df.head(1)"
      ],
      "execution_count": 155,
      "outputs": [
        {
          "output_type": "execute_result",
          "data": {
            "text/html": [
              "<div>\n",
              "<style scoped>\n",
              "    .dataframe tbody tr th:only-of-type {\n",
              "        vertical-align: middle;\n",
              "    }\n",
              "\n",
              "    .dataframe tbody tr th {\n",
              "        vertical-align: top;\n",
              "    }\n",
              "\n",
              "    .dataframe thead th {\n",
              "        text-align: right;\n",
              "    }\n",
              "</style>\n",
              "<table border=\"1\" class=\"dataframe\">\n",
              "  <thead>\n",
              "    <tr style=\"text-align: right;\">\n",
              "      <th></th>\n",
              "      <th>id</th>\n",
              "      <th>titulo</th>\n",
              "      <th>descripcion</th>\n",
              "      <th>tipodepropiedad</th>\n",
              "      <th>direccion</th>\n",
              "      <th>ciudad</th>\n",
              "      <th>provincia</th>\n",
              "      <th>antiguedad</th>\n",
              "      <th>habitaciones</th>\n",
              "      <th>garages</th>\n",
              "      <th>banos</th>\n",
              "      <th>metroscubiertos</th>\n",
              "      <th>metrostotales</th>\n",
              "      <th>idzona</th>\n",
              "      <th>lat</th>\n",
              "      <th>lng</th>\n",
              "      <th>fecha</th>\n",
              "      <th>gimnasio</th>\n",
              "      <th>usosmultiples</th>\n",
              "      <th>piscina</th>\n",
              "      <th>escuelascercanas</th>\n",
              "      <th>centroscomercialescercanos</th>\n",
              "      <th>precio</th>\n",
              "    </tr>\n",
              "  </thead>\n",
              "  <tbody>\n",
              "    <tr>\n",
              "      <th>0</th>\n",
              "      <td>254099</td>\n",
              "      <td>depto. tipo a-402</td>\n",
              "      <td>depto. interior de 80.15m2, consta de sala com...</td>\n",
              "      <td>Apartamento</td>\n",
              "      <td>Avenida Division del Norte 2005</td>\n",
              "      <td>Benito Juárez</td>\n",
              "      <td>Distrito Federal</td>\n",
              "      <td>NaN</td>\n",
              "      <td>2.0</td>\n",
              "      <td>1.0</td>\n",
              "      <td>2.0</td>\n",
              "      <td>80.0</td>\n",
              "      <td>80.0</td>\n",
              "      <td>23533.0</td>\n",
              "      <td>NaN</td>\n",
              "      <td>NaN</td>\n",
              "      <td>2015-08-23</td>\n",
              "      <td>0</td>\n",
              "      <td>0</td>\n",
              "      <td>0</td>\n",
              "      <td>0</td>\n",
              "      <td>0</td>\n",
              "      <td>2273000</td>\n",
              "    </tr>\n",
              "  </tbody>\n",
              "</table>\n",
              "</div>"
            ],
            "text/plain": [
              "       id             titulo  ... centroscomercialescercanos   precio\n",
              "0  254099  depto. tipo a-402  ...                          0  2273000\n",
              "\n",
              "[1 rows x 23 columns]"
            ]
          },
          "metadata": {
            "tags": []
          },
          "execution_count": 155
        }
      ]
    },
    {
      "cell_type": "code",
      "metadata": {
        "id": "MScvhxKXNX8O",
        "colab_type": "code",
        "colab": {}
      },
      "source": [
        "#Quito todos los NaN y los pasa a valor 0\n",
        "df = df.replace(np.nan, 0)"
      ],
      "execution_count": 0,
      "outputs": []
    },
    {
      "cell_type": "code",
      "metadata": {
        "id": "xTvY_0xzakaV",
        "colab_type": "code",
        "colab": {}
      },
      "source": [
        "#Continuar casteando valores que ocupan demasiada memoria (ahora puedo hacerlo en aquellos que tenian NaN)\n",
        "df = df.astype({'banos':'int32', 'antiguedad':'int32', 'garages':'int32', 'habitaciones':'int32', 'metroscubiertos':'int32', 'metrostotales':'int32',\n",
        "                    'idzona':'int32'})"
      ],
      "execution_count": 0,
      "outputs": []
    },
    {
      "cell_type": "code",
      "metadata": {
        "id": "MV2bFLQiamNK",
        "colab_type": "code",
        "colab": {}
      },
      "source": [
        "#Establecer como category el tipo de propiedad\n",
        "categorias = df['tipodepropiedad']\n",
        "categorias = categorias.astype('category').dtypes\n",
        "df = df.astype({'tipodepropiedad':'category'})"
      ],
      "execution_count": 0,
      "outputs": []
    },
    {
      "cell_type": "code",
      "metadata": {
        "id": "ufkFl5F5apzg",
        "colab_type": "code",
        "outputId": "1699d7aa-dc9a-48af-86d3-d0d7a5c08c28",
        "colab": {
          "base_uri": "https://localhost:8080/",
          "height": 34
        }
      },
      "source": [
        "print('Numero de columnas',df.shape)"
      ],
      "execution_count": 159,
      "outputs": [
        {
          "output_type": "stream",
          "text": [
            "Numero de columnas (240000, 23)\n"
          ],
          "name": "stdout"
        }
      ]
    },
    {
      "cell_type": "code",
      "metadata": {
        "id": "hA59xUdiayEY",
        "colab_type": "code",
        "outputId": "9338e5ad-ccc7-49e1-8470-4e9367d32428",
        "colab": {
          "base_uri": "https://localhost:8080/",
          "height": 34
        }
      },
      "source": [
        "print('Numero de filas por columnas',df.size)"
      ],
      "execution_count": 160,
      "outputs": [
        {
          "output_type": "stream",
          "text": [
            "Numero de filas por columnas 5520000\n"
          ],
          "name": "stdout"
        }
      ]
    },
    {
      "cell_type": "code",
      "metadata": {
        "id": "LTGXPpb1a1I7",
        "colab_type": "code",
        "outputId": "34422b93-4d54-4dcd-98eb-6b2e7c919de8",
        "colab": {
          "base_uri": "https://localhost:8080/",
          "height": 425
        }
      },
      "source": [
        "print('Numero de Elementos',df.count())"
      ],
      "execution_count": 161,
      "outputs": [
        {
          "output_type": "stream",
          "text": [
            "Numero de Elementos id                            240000\n",
            "titulo                        240000\n",
            "descripcion                   240000\n",
            "tipodepropiedad               240000\n",
            "direccion                     240000\n",
            "ciudad                        240000\n",
            "provincia                     240000\n",
            "antiguedad                    240000\n",
            "habitaciones                  240000\n",
            "garages                       240000\n",
            "banos                         240000\n",
            "metroscubiertos               240000\n",
            "metrostotales                 240000\n",
            "idzona                        240000\n",
            "lat                           240000\n",
            "lng                           240000\n",
            "fecha                         240000\n",
            "gimnasio                      240000\n",
            "usosmultiples                 240000\n",
            "piscina                       240000\n",
            "escuelascercanas              240000\n",
            "centroscomercialescercanos    240000\n",
            "precio                        240000\n",
            "dtype: int64\n"
          ],
          "name": "stdout"
        }
      ]
    },
    {
      "cell_type": "code",
      "metadata": {
        "id": "avVVGwhfa7zZ",
        "colab_type": "code",
        "outputId": "d9e4c36c-d8aa-4d13-b7ad-d69d3eea963a",
        "colab": {
          "base_uri": "https://localhost:8080/",
          "height": 425
        }
      },
      "source": [
        "print('Analisis de tipos',df.dtypes)"
      ],
      "execution_count": 162,
      "outputs": [
        {
          "output_type": "stream",
          "text": [
            "Analisis de tipos id                                     int32\n",
            "titulo                                object\n",
            "descripcion                           object\n",
            "tipodepropiedad                     category\n",
            "direccion                             object\n",
            "ciudad                                object\n",
            "provincia                             object\n",
            "antiguedad                             int32\n",
            "habitaciones                           int32\n",
            "garages                                int32\n",
            "banos                                  int32\n",
            "metroscubiertos                        int32\n",
            "metrostotales                          int32\n",
            "idzona                                 int32\n",
            "lat                                  float64\n",
            "lng                                  float64\n",
            "fecha                         datetime64[ns]\n",
            "gimnasio                               int32\n",
            "usosmultiples                          int32\n",
            "piscina                                int32\n",
            "escuelascercanas                       int32\n",
            "centroscomercialescercanos             int32\n",
            "precio                                 int32\n",
            "dtype: object\n"
          ],
          "name": "stdout"
        }
      ]
    },
    {
      "cell_type": "code",
      "metadata": {
        "id": "9A-LFbxDa-C7",
        "colab_type": "code",
        "outputId": "13254008-233e-4ea0-9488-05eaba1391b9",
        "colab": {
          "base_uri": "https://localhost:8080/",
          "height": 510
        }
      },
      "source": [
        "#Se redujo el uso de memoria de 45MB a 27MB aproximadamente\n",
        "print(df.info())"
      ],
      "execution_count": 163,
      "outputs": [
        {
          "output_type": "stream",
          "text": [
            "<class 'pandas.core.frame.DataFrame'>\n",
            "RangeIndex: 240000 entries, 0 to 239999\n",
            "Data columns (total 23 columns):\n",
            "id                            240000 non-null int32\n",
            "titulo                        240000 non-null object\n",
            "descripcion                   240000 non-null object\n",
            "tipodepropiedad               240000 non-null category\n",
            "direccion                     240000 non-null object\n",
            "ciudad                        240000 non-null object\n",
            "provincia                     240000 non-null object\n",
            "antiguedad                    240000 non-null int32\n",
            "habitaciones                  240000 non-null int32\n",
            "garages                       240000 non-null int32\n",
            "banos                         240000 non-null int32\n",
            "metroscubiertos               240000 non-null int32\n",
            "metrostotales                 240000 non-null int32\n",
            "idzona                        240000 non-null int32\n",
            "lat                           240000 non-null float64\n",
            "lng                           240000 non-null float64\n",
            "fecha                         240000 non-null datetime64[ns]\n",
            "gimnasio                      240000 non-null int32\n",
            "usosmultiples                 240000 non-null int32\n",
            "piscina                       240000 non-null int32\n",
            "escuelascercanas              240000 non-null int32\n",
            "centroscomercialescercanos    240000 non-null int32\n",
            "precio                        240000 non-null int32\n",
            "dtypes: category(1), datetime64[ns](1), float64(2), int32(14), object(5)\n",
            "memory usage: 27.7+ MB\n",
            "None\n"
          ],
          "name": "stdout"
        }
      ]
    },
    {
      "cell_type": "code",
      "metadata": {
        "id": "JtWdPztZbR2i",
        "colab_type": "code",
        "outputId": "99b7a8ca-7244-42b0-f178-bb9a75974e74",
        "colab": {
          "base_uri": "https://localhost:8080/",
          "height": 459
        }
      },
      "source": [
        "#Analizo los tipos de propiedades\n",
        "df['tipodepropiedad'].value_counts()"
      ],
      "execution_count": 276,
      "outputs": [
        {
          "output_type": "execute_result",
          "data": {
            "text/plain": [
              "Casa                             141717\n",
              "Apartamento                       57341\n",
              "Casa en condominio                19297\n",
              "Terreno                            9945\n",
              "Local Comercial                    3055\n",
              "Oficina comercial                  1741\n",
              "Bodega comercial                   1406\n",
              "Edificio                           1396\n",
              "Terreno comercial                  1326\n",
              "Casa uso de suelo                   708\n",
              "Quinta Vacacional                   395\n",
              "Duplex                              343\n",
              "Villa                               340\n",
              "Inmuebles productivos urbanos       200\n",
              "Rancho                              170\n",
              "Local en centro comercial           165\n",
              "Departamento Compartido             141\n",
              "Otros                               134\n",
              "Nave industrial                      76\n",
              "0                                    46\n",
              "Terreno industrial                   31\n",
              "Huerta                               20\n",
              "Lote                                  5\n",
              "Hospedaje                             1\n",
              "Garage                                1\n",
              "Name: tipodepropiedad, dtype: int64"
            ]
          },
          "metadata": {
            "tags": []
          },
          "execution_count": 276
        }
      ]
    },
    {
      "cell_type": "code",
      "metadata": {
        "id": "-o_HjGzErj8P",
        "colab_type": "code",
        "colab": {}
      },
      "source": [
        "grupo_tipo_precio = df.groupby('tipodepropiedad').agg({'precio':['mean']}) #Agrupación segun el tipo y el precio"
      ],
      "execution_count": 0,
      "outputs": []
    },
    {
      "cell_type": "code",
      "metadata": {
        "id": "LMKD9U0_r9FT",
        "colab_type": "code",
        "colab": {}
      },
      "source": [
        "grupo_tipo_precio = grupo_tipo_precio['precio'].astype({'mean':'int64'}) #Formato de entero el promedio"
      ],
      "execution_count": 0,
      "outputs": []
    },
    {
      "cell_type": "code",
      "metadata": {
        "id": "XEg1CBtPsfUI",
        "colab_type": "code",
        "colab": {}
      },
      "source": [
        "grupo_tipo_precio = grupo_tipo_precio.drop([0],axis=0) #Elimino los tipos 0 que desconozco que clase de propiedad son (NO me sirven para comparar porque puede ser cualquier cosa)"
      ],
      "execution_count": 0,
      "outputs": []
    },
    {
      "cell_type": "code",
      "metadata": {
        "id": "puQTdGNd5MLn",
        "colab_type": "code",
        "colab": {
          "base_uri": "https://localhost:8080/",
          "height": 322
        },
        "outputId": "bc439b35-c1fc-44b6-8066-5e2739736e13"
      },
      "source": [
        "g = sns.barplot(x= grupo_tipo_precio['mean'], y= grupo_tipo_precio.index, orient='h')\n",
        "g.set_title(\"Precios Promedios segun Tipo de Propiedad\", fontsize=20)\n",
        "g.set_xlabel(\"Precio Promedio\", fontsize=15)\n",
        "g.set_ylabel(\"Tipo de Propiedad\", fontsize=15)"
      ],
      "execution_count": 305,
      "outputs": [
        {
          "output_type": "execute_result",
          "data": {
            "text/plain": [
              "Text(0, 0.5, 'Tipo de Propiedad')"
            ]
          },
          "metadata": {
            "tags": []
          },
          "execution_count": 305
        },
        {
          "output_type": "display_data",
          "data": {
            "image/png": "[encoded data removed]",
            "text/plain": [
              "<Figure size 432x288 with 1 Axes>"
            ]
          },
          "metadata": {
            "tags": []
          }
        }
      ]
    },
    {
      "cell_type": "code",
      "metadata": {
        "id": "9olidlqLshCs",
        "colab_type": "code",
        "colab": {}
      },
      "source": [
        ""
      ],
      "execution_count": 0,
      "outputs": []
    }
  ]
}