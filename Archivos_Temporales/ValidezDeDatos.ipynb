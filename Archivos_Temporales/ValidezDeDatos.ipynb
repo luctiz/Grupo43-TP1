{
 "cells": [
  {
   "cell_type": "code",
   "execution_count": 0,
   "metadata": {
    "colab": {},
    "colab_type": "code",
    "id": "3N353lUK9JCG"
   },
   "outputs": [],
   "source": [
    "import pandas as pd\n",
    "from datetime import datetime\n",
    "import numpy as np\n",
    "import matplotlib.pyplot as plt\n",
    "import seaborn as sns"
   ]
  },
  {
   "cell_type": "code",
   "execution_count": 0,
   "metadata": {
    "colab": {},
    "colab_type": "code",
    "id": "8MBqVQ0t-fcY"
   },
   "outputs": [],
   "source": [
    "#import io\n",
    "#ruta = io.StringIO(uploaded['train.csv'].decode('utf-8'))\n",
    "df = pd.read_csv('train.csv', dtype = {'piscina':'int32', 'gimnasio':'int32', 'usosmultiples':'int32', 'escuelascercanas':'int32',\n",
    "                                         'centroscomercialescercanos':'int32', 'precio':'int32', 'id':'int32'},parse_dates = ['fecha'])"
   ]
  },
  {
   "cell_type": "code",
   "execution_count": 17,
   "metadata": {
    "colab": {
     "base_uri": "https://localhost:8080/",
     "height": 168
    },
    "colab_type": "code",
    "id": "dxWfhYj-NVLC",
    "outputId": "3f76c376-e256-4654-a080-49dc3aa4e2db"
   },
   "outputs": [
    {
     "data": {
      "text/html": [
       "<div>\n",
       "<style scoped>\n",
       "    .dataframe tbody tr th:only-of-type {\n",
       "        vertical-align: middle;\n",
       "    }\n",
       "\n",
       "    .dataframe tbody tr th {\n",
       "        vertical-align: top;\n",
       "    }\n",
       "\n",
       "    .dataframe thead th {\n",
       "        text-align: right;\n",
       "    }\n",
       "</style>\n",
       "<table border=\"1\" class=\"dataframe\">\n",
       "  <thead>\n",
       "    <tr style=\"text-align: right;\">\n",
       "      <th></th>\n",
       "      <th>id</th>\n",
       "      <th>titulo</th>\n",
       "      <th>descripcion</th>\n",
       "      <th>tipodepropiedad</th>\n",
       "      <th>direccion</th>\n",
       "      <th>ciudad</th>\n",
       "      <th>provincia</th>\n",
       "      <th>antiguedad</th>\n",
       "      <th>habitaciones</th>\n",
       "      <th>garages</th>\n",
       "      <th>banos</th>\n",
       "      <th>metroscubiertos</th>\n",
       "      <th>metrostotales</th>\n",
       "      <th>idzona</th>\n",
       "      <th>lat</th>\n",
       "      <th>lng</th>\n",
       "      <th>fecha</th>\n",
       "      <th>gimnasio</th>\n",
       "      <th>usosmultiples</th>\n",
       "      <th>piscina</th>\n",
       "      <th>escuelascercanas</th>\n",
       "      <th>centroscomercialescercanos</th>\n",
       "      <th>precio</th>\n",
       "    </tr>\n",
       "  </thead>\n",
       "  <tbody>\n",
       "    <tr>\n",
       "      <th>0</th>\n",
       "      <td>254099</td>\n",
       "      <td>depto. tipo a-402</td>\n",
       "      <td>depto. interior de 80.15m2, consta de sala com...</td>\n",
       "      <td>Apartamento</td>\n",
       "      <td>Avenida Division del Norte 2005</td>\n",
       "      <td>Benito Juárez</td>\n",
       "      <td>Distrito Federal</td>\n",
       "      <td>NaN</td>\n",
       "      <td>2.0</td>\n",
       "      <td>1.0</td>\n",
       "      <td>2.0</td>\n",
       "      <td>80.0</td>\n",
       "      <td>80.0</td>\n",
       "      <td>23533.0</td>\n",
       "      <td>NaN</td>\n",
       "      <td>NaN</td>\n",
       "      <td>2015-08-23</td>\n",
       "      <td>0</td>\n",
       "      <td>0</td>\n",
       "      <td>0</td>\n",
       "      <td>0</td>\n",
       "      <td>0</td>\n",
       "      <td>2273000</td>\n",
       "    </tr>\n",
       "  </tbody>\n",
       "</table>\n",
       "</div>"
      ],
      "text/plain": [
       "       id             titulo  ... centroscomercialescercanos   precio\n",
       "0  254099  depto. tipo a-402  ...                          0  2273000\n",
       "\n",
       "[1 rows x 23 columns]"
      ]
     },
     "execution_count": 17,
     "metadata": {
      "tags": []
     },
     "output_type": "execute_result"
    }
   ],
   "source": [
    "df.head(1)"
   ]
  },
  {
   "cell_type": "code",
   "execution_count": 0,
   "metadata": {
    "colab": {},
    "colab_type": "code",
    "id": "MScvhxKXNX8O"
   },
   "outputs": [],
   "source": [
    "#Quito todos los NaN y los pasa a valor 0\n",
    "df = df.replace(np.nan, 0)"
   ]
  },
  {
   "cell_type": "code",
   "execution_count": 0,
   "metadata": {
    "colab": {},
    "colab_type": "code",
    "id": "xTvY_0xzakaV"
   },
   "outputs": [],
   "source": [
    "#Continuar casteando valores que ocupan demasiada memoria (ahora puedo hacerlo en aquellos que tenian NaN)\n",
    "df = df.astype({'banos':'int32', 'antiguedad':'int32', 'garages':'int32', 'habitaciones':'int32', 'metroscubiertos':'int32', 'metrostotales':'int32',\n",
    "                    'idzona':'int32'})"
   ]
  },
  {
   "cell_type": "code",
   "execution_count": 0,
   "metadata": {
    "colab": {},
    "colab_type": "code",
    "id": "MV2bFLQiamNK"
   },
   "outputs": [],
   "source": [
    "#Establecer como category el tipo de propiedad\n",
    "categorias = df['tipodepropiedad']\n",
    "categorias = categorias.astype('category').dtypes\n",
    "df = df.astype({'tipodepropiedad':'category'})"
   ]
  },
  {
   "cell_type": "code",
   "execution_count": 21,
   "metadata": {
    "colab": {
     "base_uri": "https://localhost:8080/",
     "height": 34
    },
    "colab_type": "code",
    "id": "ufkFl5F5apzg",
    "outputId": "9051285e-a272-4d5e-fb85-f7e3c20ab17e"
   },
   "outputs": [
    {
     "name": "stdout",
     "output_type": "stream",
     "text": [
      "Numero de columnas (240000, 23)\n"
     ]
    }
   ],
   "source": [
    "print('Numero de columnas',df.shape)"
   ]
  },
  {
   "cell_type": "code",
   "execution_count": 22,
   "metadata": {
    "colab": {
     "base_uri": "https://localhost:8080/",
     "height": 34
    },
    "colab_type": "code",
    "id": "hA59xUdiayEY",
    "outputId": "cd60d729-2498-4bc7-8b9d-d7c98ed7383c"
   },
   "outputs": [
    {
     "name": "stdout",
     "output_type": "stream",
     "text": [
      "Numero de filas por columnas 5520000\n"
     ]
    }
   ],
   "source": [
    "print('Numero de filas por columnas',df.size)"
   ]
  },
  {
   "cell_type": "code",
   "execution_count": 23,
   "metadata": {
    "colab": {
     "base_uri": "https://localhost:8080/",
     "height": 425
    },
    "colab_type": "code",
    "id": "LTGXPpb1a1I7",
    "outputId": "20ef3397-0675-434e-83d2-0c2869aad036"
   },
   "outputs": [
    {
     "name": "stdout",
     "output_type": "stream",
     "text": [
      "Numero de Elementos id                            240000\n",
      "titulo                        240000\n",
      "descripcion                   240000\n",
      "tipodepropiedad               240000\n",
      "direccion                     240000\n",
      "ciudad                        240000\n",
      "provincia                     240000\n",
      "antiguedad                    240000\n",
      "habitaciones                  240000\n",
      "garages                       240000\n",
      "banos                         240000\n",
      "metroscubiertos               240000\n",
      "metrostotales                 240000\n",
      "idzona                        240000\n",
      "lat                           240000\n",
      "lng                           240000\n",
      "fecha                         240000\n",
      "gimnasio                      240000\n",
      "usosmultiples                 240000\n",
      "piscina                       240000\n",
      "escuelascercanas              240000\n",
      "centroscomercialescercanos    240000\n",
      "precio                        240000\n",
      "dtype: int64\n"
     ]
    }
   ],
   "source": [
    "print('Numero de Elementos',df.count())"
   ]
  },
  {
   "cell_type": "code",
   "execution_count": 24,
   "metadata": {
    "colab": {
     "base_uri": "https://localhost:8080/",
     "height": 425
    },
    "colab_type": "code",
    "id": "avVVGwhfa7zZ",
    "outputId": "41297acf-1b2c-4285-9e95-ab025303d40a"
   },
   "outputs": [
    {
     "name": "stdout",
     "output_type": "stream",
     "text": [
      "Analisis de tipos id                                     int32\n",
      "titulo                                object\n",
      "descripcion                           object\n",
      "tipodepropiedad                     category\n",
      "direccion                             object\n",
      "ciudad                                object\n",
      "provincia                             object\n",
      "antiguedad                             int32\n",
      "habitaciones                           int32\n",
      "garages                                int32\n",
      "banos                                  int32\n",
      "metroscubiertos                        int32\n",
      "metrostotales                          int32\n",
      "idzona                                 int32\n",
      "lat                                  float64\n",
      "lng                                  float64\n",
      "fecha                         datetime64[ns]\n",
      "gimnasio                               int32\n",
      "usosmultiples                          int32\n",
      "piscina                                int32\n",
      "escuelascercanas                       int32\n",
      "centroscomercialescercanos             int32\n",
      "precio                                 int32\n",
      "dtype: object\n"
     ]
    }
   ],
   "source": [
    "print('Analisis de tipos',df.dtypes)"
   ]
  },
  {
   "cell_type": "code",
   "execution_count": 25,
   "metadata": {
    "colab": {
     "base_uri": "https://localhost:8080/",
     "height": 510
    },
    "colab_type": "code",
    "id": "9A-LFbxDa-C7",
    "outputId": "64682832-e120-42d0-84bc-83f81a93e134"
   },
   "outputs": [
    {
     "name": "stdout",
     "output_type": "stream",
     "text": [
      "<class 'pandas.core.frame.DataFrame'>\n",
      "RangeIndex: 240000 entries, 0 to 239999\n",
      "Data columns (total 23 columns):\n",
      "id                            240000 non-null int32\n",
      "titulo                        240000 non-null object\n",
      "descripcion                   240000 non-null object\n",
      "tipodepropiedad               240000 non-null category\n",
      "direccion                     240000 non-null object\n",
      "ciudad                        240000 non-null object\n",
      "provincia                     240000 non-null object\n",
      "antiguedad                    240000 non-null int32\n",
      "habitaciones                  240000 non-null int32\n",
      "garages                       240000 non-null int32\n",
      "banos                         240000 non-null int32\n",
      "metroscubiertos               240000 non-null int32\n",
      "metrostotales                 240000 non-null int32\n",
      "idzona                        240000 non-null int32\n",
      "lat                           240000 non-null float64\n",
      "lng                           240000 non-null float64\n",
      "fecha                         240000 non-null datetime64[ns]\n",
      "gimnasio                      240000 non-null int32\n",
      "usosmultiples                 240000 non-null int32\n",
      "piscina                       240000 non-null int32\n",
      "escuelascercanas              240000 non-null int32\n",
      "centroscomercialescercanos    240000 non-null int32\n",
      "precio                        240000 non-null int32\n",
      "dtypes: category(1), datetime64[ns](1), float64(2), int32(14), object(5)\n",
      "memory usage: 27.7+ MB\n",
      "None\n"
     ]
    }
   ],
   "source": [
    "#Se redujo el uso de memoria de 45MB a 27MB aproximadamente\n",
    "print(df.info())"
   ]
  },
  {
   "cell_type": "code",
   "execution_count": 26,
   "metadata": {
    "colab": {
     "base_uri": "https://localhost:8080/",
     "height": 459
    },
    "colab_type": "code",
    "id": "JtWdPztZbR2i",
    "outputId": "0dc5799d-3353-4d21-ef96-931669e4de42"
   },
   "outputs": [
    {
     "data": {
      "text/plain": [
       "Casa                             141717\n",
       "Apartamento                       57341\n",
       "Casa en condominio                19297\n",
       "Terreno                            9945\n",
       "Local Comercial                    3055\n",
       "Oficina comercial                  1741\n",
       "Bodega comercial                   1406\n",
       "Edificio                           1396\n",
       "Terreno comercial                  1326\n",
       "Casa uso de suelo                   708\n",
       "Quinta Vacacional                   395\n",
       "Duplex                              343\n",
       "Villa                               340\n",
       "Inmuebles productivos urbanos       200\n",
       "Rancho                              170\n",
       "Local en centro comercial           165\n",
       "Departamento Compartido             141\n",
       "Otros                               134\n",
       "Nave industrial                      76\n",
       "0                                    46\n",
       "Terreno industrial                   31\n",
       "Huerta                               20\n",
       "Lote                                  5\n",
       "Hospedaje                             1\n",
       "Garage                                1\n",
       "Name: tipodepropiedad, dtype: int64"
      ]
     },
     "execution_count": 26,
     "metadata": {
      "tags": []
     },
     "output_type": "execute_result"
    }
   ],
   "source": [
    "#Analizo los tipos de propiedades\n",
    "df['tipodepropiedad'].value_counts()"
   ]
  },
  {
   "cell_type": "code",
   "execution_count": 0,
   "metadata": {
    "colab": {},
    "colab_type": "code",
    "id": "243NBYbjPJ3q"
   },
   "outputs": [],
   "source": [
    "result = df.groupby([\"tipodepropiedad\"])['precio'].aggregate(np.median).reset_index().sort_values('precio')"
   ]
  },
  {
   "cell_type": "code",
   "execution_count": 0,
   "metadata": {
    "colab": {},
    "colab_type": "code",
    "id": "McVTlnkyPU84"
   },
   "outputs": [],
   "source": [
    "result = result.drop([0],axis=0) #Elimino los tipos 0 que desconozco que clase de propiedad son (NO me sirven para comparar porque puede ser cualquier cosa)"
   ]
  },
  {
   "cell_type": "code",
   "execution_count": 77,
   "metadata": {
    "colab": {
     "base_uri": "https://localhost:8080/",
     "height": 322
    },
    "colab_type": "code",
    "id": "puQTdGNd5MLn",
    "outputId": "153b49a1-01b8-4986-ae3d-5c11900f93b0"
   },
   "outputs": [
    {
     "data": {
      "text/plain": [
       "Text(0, 0.5, 'Tipo de Propiedad')"
      ]
     },
     "execution_count": 77,
     "metadata": {
      "tags": []
     },
     "output_type": "execute_result"
    },
    {
     "data": {
      "image/png": "[encoded data removed]",
      "text/plain": [
       "<Figure size 432x288 with 1 Axes>"
      ]
     },
     "metadata": {
      "tags": []
     },
     "output_type": "display_data"
    }
   ],
   "source": [
    "g = sns.barplot( x='precio', y= 'tipodepropiedad', data = result, order=result['tipodepropiedad'], orient = 'h',saturation = 1000)\n",
    "g.set_title(\"Precios Promedios segun Tipo de Propiedad\", fontsize=20)\n",
    "g.set_xlabel(\"Precio Promedio\", fontsize=15)\n",
    "g.set_ylabel(\"Tipo de Propiedad\", fontsize=15)"
   ]
  },
  {
   "cell_type": "code",
   "execution_count": 0,
   "metadata": {
    "colab": {},
    "colab_type": "code",
    "id": "MWLqKd58Wn3j"
   },
   "outputs": [],
   "source": []
  },
  {
   "cell_type": "code",
   "execution_count": 0,
   "metadata": {
    "colab": {},
    "colab_type": "code",
    "id": "9olidlqLshCs"
   },
   "outputs": [],
   "source": []
  }
 ],
 "metadata": {
  "colab": {
   "collapsed_sections": [],
   "name": "ValidezDeDatos.ipynb",
   "provenance": [],
   "version": "0.3.2"
  },
  "kernelspec": {
   "display_name": "Python 3",
   "language": "python",
   "name": "python3"
  },
  "language_info": {
   "codemirror_mode": {
    "name": "ipython",
    "version": 3
   },
   "file_extension": ".py",
   "mimetype": "text/x-python",
   "name": "python",
   "nbconvert_exporter": "python",
   "pygments_lexer": "ipython3",
   "version": "3.6.8"
  }
 },
 "nbformat": 4,
 "nbformat_minor": 1
}
