{
 "cells": [
  {
   "cell_type": "code",
   "execution_count": 2,
   "metadata": {
    "colab": {
     "base_uri": "https://localhost:8080/",
     "height": 1000
    },
    "colab_type": "code",
    "id": "N4sVFwmeptTJ",
    "outputId": "b6d4c467-c159-44ed-b2f6-6ddc42a7e817"
   },
   "outputs": [
    {
     "name": "stdout",
     "output_type": "stream",
     "text": [
      "Reading package lists... Done\n",
      "Building dependency tree       \n",
      "Reading state information... Done\n",
      "E: Unable to locate package libgeos-3.5.0\n",
      "E: Couldn't find any package by glob 'libgeos-3.5.0'\n",
      "E: Couldn't find any package by regex 'libgeos-3.5.0'\n",
      "Reading package lists... Done\n",
      "Building dependency tree       \n",
      "Reading state information... Done\n",
      "Suggested packages:\n",
      "  libgdal-doc\n",
      "The following NEW packages will be installed:\n",
      "  libgeos-dev\n",
      "0 upgraded, 1 newly installed, 0 to remove and 8 not upgraded.\n",
      "Need to get 73.1 kB of archives.\n",
      "After this operation, 486 kB of additional disk space will be used.\n",
      "Get:1 http://archive.ubuntu.com/ubuntu bionic/universe amd64 libgeos-dev amd64 3.6.2-1build2 [73.1 kB]\n",
      "Fetched 73.1 kB in 0s (177 kB/s)\n",
      "Selecting previously unselected package libgeos-dev.\n",
      "(Reading database ... 131183 files and directories currently installed.)\n",
      "Preparing to unpack .../libgeos-dev_3.6.2-1build2_amd64.deb ...\n",
      "Unpacking libgeos-dev (3.6.2-1build2) ...\n",
      "Setting up libgeos-dev (3.6.2-1build2) ...\n",
      "Processing triggers for man-db (2.8.3-2ubuntu0.1) ...\n",
      "Collecting https://github.com/matplotlib/basemap/archive/master.zip\n",
      "\u001b[?25l  Downloading https://github.com/matplotlib/basemap/archive/master.zip\n",
      "\u001b[K     - 192.0MB 221.4MB/s\n",
      "\u001b[?25hRequirement already satisfied: matplotlib!=3.0.1,>=1.0.0 in /usr/local/lib/python3.6/dist-packages (from basemap==1.2.1) (3.0.3)\n",
      "Requirement already satisfied: numpy>=1.2.1 in /usr/local/lib/python3.6/dist-packages (from basemap==1.2.1) (1.16.5)\n",
      "Collecting pyproj>=1.9.3 (from basemap==1.2.1)\n",
      "\u001b[?25l  Downloading https://files.pythonhosted.org/packages/7a/b1/ab67ad924770e1c1432fa0953a665b8ea193b60c7494457b69da052d6e83/pyproj-2.4.0-cp36-cp36m-manylinux1_x86_64.whl (10.1MB)\n",
      "\u001b[K     |████████████████████████████████| 10.1MB 2.9MB/s \n",
      "\u001b[?25hCollecting pyshp>=1.2.0 (from basemap==1.2.1)\n",
      "\u001b[?25l  Downloading https://files.pythonhosted.org/packages/27/16/3bf15aa864fb77845fab8007eda22c2bd67bd6c1fd13496df452c8c43621/pyshp-2.1.0.tar.gz (215kB)\n",
      "\u001b[K     |████████████████████████████████| 225kB 46.7MB/s \n",
      "\u001b[?25hRequirement already satisfied: six in /usr/local/lib/python3.6/dist-packages (from basemap==1.2.1) (1.12.0)\n",
      "Requirement already satisfied: pyparsing!=2.0.4,!=2.1.2,!=2.1.6,>=2.0.1 in /usr/local/lib/python3.6/dist-packages (from matplotlib!=3.0.1,>=1.0.0->basemap==1.2.1) (2.4.2)\n",
      "Requirement already satisfied: cycler>=0.10 in /usr/local/lib/python3.6/dist-packages (from matplotlib!=3.0.1,>=1.0.0->basemap==1.2.1) (0.10.0)\n",
      "Requirement already satisfied: kiwisolver>=1.0.1 in /usr/local/lib/python3.6/dist-packages (from matplotlib!=3.0.1,>=1.0.0->basemap==1.2.1) (1.1.0)\n",
      "Requirement already satisfied: python-dateutil>=2.1 in /usr/local/lib/python3.6/dist-packages (from matplotlib!=3.0.1,>=1.0.0->basemap==1.2.1) (2.5.3)\n",
      "Requirement already satisfied: setuptools in /usr/local/lib/python3.6/dist-packages (from kiwisolver>=1.0.1->matplotlib!=3.0.1,>=1.0.0->basemap==1.2.1) (41.2.0)\n",
      "Building wheels for collected packages: basemap, pyshp\n",
      "  Building wheel for basemap (setup.py) ... \u001b[?25l\u001b[?25hdone\n",
      "  Created wheel for basemap: filename=basemap-1.2.1-cp36-cp36m-linux_x86_64.whl size=121756027 sha256=fd87428672216300f1abe2ddb883096c241d40d0a31570bd0ffd9ca5e685e3c2\n",
      "  Stored in directory: /tmp/pip-ephem-wheel-cache-9z0uuz2o/wheels/98/4a/fc/ce719b75d97e646645c225f3332b1b217536100314922e9572\n",
      "  Building wheel for pyshp (setup.py) ... \u001b[?25l\u001b[?25hdone\n",
      "  Created wheel for pyshp: filename=pyshp-2.1.0-cp36-none-any.whl size=32607 sha256=060d4157e7a6add7e8375ed18dc0809747ac9ee2bb0262ebc641f08c682a2ad2\n",
      "  Stored in directory: /root/.cache/pip/wheels/a6/0c/de/321b5192ad416b328975a2f0385f72c64db4656501eba7cc1a\n",
      "Successfully built basemap pyshp\n",
      "Installing collected packages: pyproj, pyshp, basemap\n",
      "Successfully installed basemap-1.2.1 pyproj-2.4.0 pyshp-2.1.0\n"
     ]
    },
    {
     "data": {
      "application/vnd.colab-display-data+json": {
       "pip_warning": {
        "packages": [
         "mpl_toolkits"
        ]
       }
      }
     },
     "metadata": {
      "tags": []
     },
     "output_type": "display_data"
    },
    {
     "name": "stdout",
     "output_type": "stream",
     "text": [
      "Collecting geopandas\n",
      "\u001b[?25l  Downloading https://files.pythonhosted.org/packages/51/10/9b2f2f6e35cc0e427f43faf59c56931709996ad2ffe4440fda2f5c53554f/geopandas-0.6.0-py2.py3-none-any.whl (918kB)\n",
      "\u001b[K     |████████████████████████████████| 921kB 2.9MB/s \n",
      "\u001b[?25hCollecting fiona (from geopandas)\n",
      "\u001b[?25l  Downloading https://files.pythonhosted.org/packages/1e/cf/a1f22d87223cb4f48beecf4de6eb59e5261a7d0d073489bbe7cfe6514ae3/Fiona-1.8.8-1-cp36-cp36m-manylinux1_x86_64.whl (11.9MB)\n",
      "\u001b[K     |████████████████████████████████| 11.9MB 40.4MB/s \n",
      "\u001b[?25hRequirement already satisfied: pyproj in /usr/local/lib/python3.6/dist-packages (from geopandas) (2.4.0)\n",
      "Requirement already satisfied: pandas>=0.23.0 in /usr/local/lib/python3.6/dist-packages (from geopandas) (0.24.2)\n",
      "Requirement already satisfied: shapely in /usr/local/lib/python3.6/dist-packages (from geopandas) (1.6.4.post2)\n",
      "Requirement already satisfied: click<8,>=4.0 in /usr/local/lib/python3.6/dist-packages (from fiona->geopandas) (7.0)\n",
      "Requirement already satisfied: attrs>=17 in /usr/local/lib/python3.6/dist-packages (from fiona->geopandas) (19.1.0)\n",
      "Collecting munch (from fiona->geopandas)\n",
      "  Downloading https://files.pythonhosted.org/packages/68/f4/260ec98ea840757a0da09e0ed8135333d59b8dfebe9752a365b04857660a/munch-2.3.2.tar.gz\n",
      "Collecting cligj>=0.5 (from fiona->geopandas)\n",
      "  Downloading https://files.pythonhosted.org/packages/e4/be/30a58b4b0733850280d01f8bd132591b4668ed5c7046761098d665ac2174/cligj-0.5.0-py3-none-any.whl\n",
      "Requirement already satisfied: six>=1.7 in /usr/local/lib/python3.6/dist-packages (from fiona->geopandas) (1.12.0)\n",
      "Collecting click-plugins>=1.0 (from fiona->geopandas)\n",
      "  Downloading https://files.pythonhosted.org/packages/e9/da/824b92d9942f4e472702488857914bdd50f73021efea15b4cad9aca8ecef/click_plugins-1.1.1-py2.py3-none-any.whl\n",
      "Requirement already satisfied: python-dateutil>=2.5.0 in /usr/local/lib/python3.6/dist-packages (from pandas>=0.23.0->geopandas) (2.5.3)\n",
      "Requirement already satisfied: pytz>=2011k in /usr/local/lib/python3.6/dist-packages (from pandas>=0.23.0->geopandas) (2018.9)\n",
      "Requirement already satisfied: numpy>=1.12.0 in /usr/local/lib/python3.6/dist-packages (from pandas>=0.23.0->geopandas) (1.16.5)\n",
      "Building wheels for collected packages: munch\n",
      "  Building wheel for munch (setup.py) ... \u001b[?25l\u001b[?25hdone\n",
      "  Created wheel for munch: filename=munch-2.3.2-py2.py3-none-any.whl size=6614 sha256=697909694d07f2483ed8f100bc87f9e86c77f006d058c95808c1e0c922e472ee\n",
      "  Stored in directory: /root/.cache/pip/wheels/db/bf/bc/06a3e1bfe0ab27d2e720ceb3cff3159398d92644c0cec2c125\n",
      "Successfully built munch\n",
      "Installing collected packages: munch, cligj, click-plugins, fiona, geopandas\n",
      "Successfully installed click-plugins-1.1.1 cligj-0.5.0 fiona-1.8.8 geopandas-0.6.0 munch-2.3.2\n"
     ]
    }
   ],
   "source": [
    "!apt-get install libgeos-3.5.0\n",
    "!apt-get install libgeos-dev\n",
    "!pip install https://github.com/matplotlib/basemap/archive/master.zip\n",
    "!pip install geopandas"
   ]
  },
  {
   "cell_type": "code",
   "execution_count": 4,
   "metadata": {
    "colab": {
     "base_uri": "https://localhost:8080/",
     "height": 122
    },
    "colab_type": "code",
    "id": "c8SOEI53vKU0",
    "outputId": "b5b219ec-bb13-403b-9492-5592526c1930"
   },
   "outputs": [
    {
     "name": "stdout",
     "output_type": "stream",
     "text": [
      "Go to this URL in a browser: https://accounts.google.com/o/oauth2/auth?client_id=947318989803-6bn6qk8qdgf4n4g3pfee6491hc0brc4i.apps.googleusercontent.com&redirect_uri=urn%3Aietf%3Awg%3Aoauth%3A2.0%3Aoob&scope=email%20https%3A%2F%2Fwww.googleapis.com%2Fauth%2Fdocs.test%20https%3A%2F%2Fwww.googleapis.com%2Fauth%2Fdrive%20https%3A%2F%2Fwww.googleapis.com%2Fauth%2Fdrive.photos.readonly%20https%3A%2F%2Fwww.googleapis.com%2Fauth%2Fpeopleapi.readonly&response_type=code\n",
      "\n",
      "Enter your authorization code:\n",
      "··········\n",
      "Mounted at /content/gdrive\n"
     ]
    }
   ],
   "source": [
    "from google.colab import drive\n",
    "drive.mount('/content/gdrive')"
   ]
  },
  {
   "cell_type": "code",
   "execution_count": 2,
   "metadata": {
    "colab": {},
    "colab_type": "code",
    "id": "IJfZ0LcNpndu"
   },
   "outputs": [],
   "source": [
    "import pandas as pd\n",
    "import numpy as np\n",
    "import seaborn as sns\n",
    "import matplotlib.pyplot as plt\n",
    "import geopandas as gdp\n",
    "from shapely.geometry import Point, Polygon\n",
    "import folium,json\n",
    "from mpl_toolkits.basemap import Basemap"
   ]
  },
  {
   "cell_type": "code",
   "execution_count": 3,
   "metadata": {
    "colab": {},
    "colab_type": "code",
    "id": "klBm5Xwpprk_"
   },
   "outputs": [],
   "source": [
    "df = pd.read_csv('gdrive/My Drive/Colab Notebooks/train.csv', dtype = {'piscina':'int32', 'gimnasio':'int32', 'usosmultiples':'int32', 'escuelascercanas':'int32',\n",
    "                                         'centroscomercialescercanos':'int32', 'precio':'int32', 'id':'int32'},parse_dates = ['fecha'])"
   ]
  },
  {
   "cell_type": "code",
   "execution_count": 0,
   "metadata": {
    "colab": {},
    "colab_type": "code",
    "id": "63nIeFHYpndz"
   },
   "outputs": [],
   "source": [
    "# Me guardo una versión del dataframe con NaNs\n",
    "data_original = df\n",
    "#Quito todos los NaN y los pasa a valor 0\n",
    "df = df.replace(np.nan, 0)\n",
    "#Continuar casteando valores que ocupan demasiada memoria (ahora puedo hacerlo en aquellos que tenian NaN)\n",
    "df = df.astype({'banos':'int32', 'antiguedad':'int32', 'garages':'int32', 'habitaciones':'int32', 'metroscubiertos':'int32', 'metrostotales':'int32',\n",
    "                    'idzona':'int32'})\n",
    "#Establecer como category el tipo de propiedad\n",
    "categorias = df['tipodepropiedad']\n",
    "categorias = categorias.astype('category').dtypes\n",
    "df = df.astype({'tipodepropiedad':'category'})\n",
    "\n"
   ]
  },
  {
   "cell_type": "code",
   "execution_count": 21,
   "metadata": {
    "colab": {
     "base_uri": "https://localhost:8080/",
     "height": 204
    },
    "colab_type": "code",
    "id": "hneXySv03OWd",
    "outputId": "2be1f7b3-addf-4414-b486-896a0ce08583"
   },
   "outputs": [
    {
     "data": {
      "text/html": [
       "<div>\n",
       "<style scoped>\n",
       "    .dataframe tbody tr th:only-of-type {\n",
       "        vertical-align: middle;\n",
       "    }\n",
       "\n",
       "    .dataframe tbody tr th {\n",
       "        vertical-align: top;\n",
       "    }\n",
       "\n",
       "    .dataframe thead th {\n",
       "        text-align: right;\n",
       "    }\n",
       "</style>\n",
       "<table border=\"1\" class=\"dataframe\">\n",
       "  <thead>\n",
       "    <tr style=\"text-align: right;\">\n",
       "      <th></th>\n",
       "      <th>provincia</th>\n",
       "      <th>precio</th>\n",
       "    </tr>\n",
       "  </thead>\n",
       "  <tbody>\n",
       "    <tr>\n",
       "      <th>2</th>\n",
       "      <td>Baja California Norte</td>\n",
       "      <td>570000</td>\n",
       "    </tr>\n",
       "    <tr>\n",
       "      <th>29</th>\n",
       "      <td>Tlaxcala</td>\n",
       "      <td>760000</td>\n",
       "    </tr>\n",
       "    <tr>\n",
       "      <th>3</th>\n",
       "      <td>Baja California Sur</td>\n",
       "      <td>872500</td>\n",
       "    </tr>\n",
       "    <tr>\n",
       "      <th>32</th>\n",
       "      <td>Zacatecas</td>\n",
       "      <td>925000</td>\n",
       "    </tr>\n",
       "    <tr>\n",
       "      <th>14</th>\n",
       "      <td>Hidalgo</td>\n",
       "      <td>930000</td>\n",
       "    </tr>\n",
       "  </tbody>\n",
       "</table>\n",
       "</div>"
      ],
      "text/plain": [
       "                provincia  precio\n",
       "2   Baja California Norte  570000\n",
       "29               Tlaxcala  760000\n",
       "3     Baja California Sur  872500\n",
       "32              Zacatecas  925000\n",
       "14                Hidalgo  930000"
      ]
     },
     "execution_count": 21,
     "metadata": {
      "tags": []
     },
     "output_type": "execute_result"
    }
   ],
   "source": [
    "data = df.groupby([\"provincia\"])['precio'].aggregate(np.median).reset_index().sort_values('precio')\n",
    "data = data.drop([0],axis=0)\n",
    "data.head()"
   ]
  },
  {
   "cell_type": "code",
   "execution_count": 0,
   "metadata": {
    "colab": {},
    "colab_type": "code",
    "id": "wYN9-eFyypqT"
   },
   "outputs": [],
   "source": [
    "df = df.drop([0],axis=0) #Elimino los tipos 0 que desconozco que clase de propiedad son\n",
    "# Creamos la lista de latitudes y longitudes.\n",
    "lats, lons = list(df['lat']), list(df['lng'])\n",
    "lat = 23\n",
    "lon = -102"
   ]
  },
  {
   "cell_type": "code",
   "execution_count": 22,
   "metadata": {
    "colab": {
     "base_uri": "https://localhost:8080/",
     "height": 582
    },
    "colab_type": "code",
    "id": "U3j6HCdmyY7x",
    "outputId": "96f19718-3133-4581-8415-da191d80331e"
   },
   "outputs": [
    {
     "data": {
      "image/png": "[encoded data removed]",
      "text/plain": [
       "<Figure size 1440x720 with 1 Axes>"
      ]
     },
     "metadata": {
      "tags": []
     },
     "output_type": "display_data"
    }
   ],
   "source": [
    "##Analizo sobre Mexico todas las publicaciones\n",
    "figu, ax = plt.subplots(figsize=(20,10))\n",
    "m = Basemap(projection='merc',\n",
    "                  lat_0 = 23, lon_0 = -102,\n",
    "                  resolution = 'h', area_thresh = 0.1,\n",
    "                  llcrnrlon=lon-15.5, llcrnrlat=lat-10.5,\n",
    "                  urcrnrlon=lon+15.5, urcrnrlat=lat+10.5)\n",
    "\n",
    "\n",
    "m.readshapefile('gdrive/My Drive/Colab Notebooks/mexstates', name='states', drawbounds=True)\n",
    "\n",
    "state_names = []\n",
    "\n",
    "\n"
   ]
  },
  {
   "cell_type": "code",
   "execution_count": 33,
   "metadata": {
    "colab": {
     "base_uri": "https://localhost:8080/",
     "height": 34
    },
    "colab_type": "code",
    "id": "kEfVyXAw3pIG",
    "outputId": "c5302b11-8ba0-4cd9-a271-c1c4f44a9cc2"
   },
   "outputs": [
    {
     "data": {
      "text/plain": [
       "'Chihuahua'"
      ]
     },
     "execution_count": 33,
     "metadata": {
      "tags": []
     },
     "output_type": "execute_result"
    }
   ],
   "source": [
    "m.states_info[0]['ADMIN_NAME']"
   ]
  },
  {
   "cell_type": "code",
   "execution_count": 0,
   "metadata": {
    "colab": {},
    "colab_type": "code",
    "id": "MxVCrkIc4YF3"
   },
   "outputs": [],
   "source": []
  },
  {
   "cell_type": "markdown",
   "metadata": {
    "colab_type": "text",
    "id": "XK4J0cXRpneL"
   },
   "source": [
    "# Pruebo Geopandas"
   ]
  },
  {
   "cell_type": "code",
   "execution_count": 0,
   "metadata": {
    "colab": {},
    "colab_type": "code",
    "id": "crIOsu64pneM"
   },
   "outputs": [],
   "source": [
    "crs = {'init': 'epsg:4326'} #Indico el tipo de coordenadas a usar para geopandas"
   ]
  },
  {
   "cell_type": "code",
   "execution_count": 0,
   "metadata": {
    "colab": {},
    "colab_type": "code",
    "id": "o5SbPFWapneQ"
   },
   "outputs": [],
   "source": [
    "geometry = [Point(xy) for xy in zip(data['lat'].dropna(), data['lng'].dropna())]\n",
    "len(geometry)"
   ]
  },
  {
   "cell_type": "code",
   "execution_count": 0,
   "metadata": {
    "colab": {},
    "colab_type": "code",
    "id": "z9CltPFjpneT"
   },
   "outputs": [],
   "source": [
    "data[['lat', 'lng']].size"
   ]
  },
  {
   "cell_type": "code",
   "execution_count": 0,
   "metadata": {
    "colab": {},
    "colab_type": "code",
    "id": "RzY6LZuFpneV"
   },
   "outputs": [],
   "source": [
    "geo_df = gdp.GeoDataFrame(data.dropna(subset = ['lat', 'lng']), crs = crs, geometry = geometry)\n",
    "geo_df.head()"
   ]
  },
  {
   "cell_type": "code",
   "execution_count": 0,
   "metadata": {
    "colab": {},
    "colab_type": "code",
    "id": "mQixuMaIpneZ"
   },
   "outputs": [],
   "source": [
    "geo_df.columns"
   ]
  },
  {
   "cell_type": "code",
   "execution_count": 0,
   "metadata": {
    "colab": {},
    "colab_type": "code",
    "id": "teruqnJopnec",
    "scrolled": false
   },
   "outputs": [],
   "source": [
    "street_map = gdp.read_file(gdp.datasets.get_path('naturalearth_lowres'))\n",
    "fig, ax = plt.subplots(figsize = (15, 15))\n",
    "street_map.plot(ax = ax, alpha = 0.4, color = 'blue')\n",
    "geo_df[geo_df['piscina'] == 1.0].plot(ax = ax, markersize = 20, color = 'red', marker = 'o', label = 'Positivo')\n",
    "#plt.legend(prop = {'size':15})"
   ]
  },
  {
   "cell_type": "code",
   "execution_count": 0,
   "metadata": {
    "colab": {},
    "colab_type": "code",
    "id": "IfYlNMampnef"
   },
   "outputs": [],
   "source": [
    "gdp.datasets.available"
   ]
  },
  {
   "cell_type": "code",
   "execution_count": 0,
   "metadata": {
    "colab": {},
    "colab_type": "code",
    "id": "YmA0p6cPpnei"
   },
   "outputs": [],
   "source": [
    "df = gdp.read_file(gdp.datasets.get_path('nybb'))\n",
    "ax = df.plot(figsize=(10, 10), alpha=0.5, edgecolor='k')\n"
   ]
  },
  {
   "cell_type": "code",
   "execution_count": 0,
   "metadata": {
    "colab": {},
    "colab_type": "code",
    "id": "QRqyY_wWpnel"
   },
   "outputs": [],
   "source": []
  },
  {
   "cell_type": "code",
   "execution_count": 0,
   "metadata": {
    "colab": {},
    "colab_type": "code",
    "id": "zM3Iy3uipneo"
   },
   "outputs": [],
   "source": [
    "import plotly.graph_objects as go\n",
    "\n",
    "# Load data frame and tidy it.\n",
    "import pandas as pd\n",
    "df = pd.read_csv('https://raw.githubusercontent.com/plotly/datasets/master/2011_us_ag_exports.csv')\n",
    "\n",
    "fig = go.Figure(data=go.Choropleth(\n",
    "    locations=df['code'], # Spatial coordinates\n",
    "    z = df['total exports'].astype(float), # Data to be color-coded\n",
    "    locationmode = 'USA-states', # set of locations match entries in `locations`\n",
    "    colorscale = 'Reds',\n",
    "    colorbar_title = \"Millions USD\",\n",
    "))\n",
    "\n",
    "fig.update_layout(\n",
    "    title_text = '2011 US Agriculture Exports by State',\n",
    "    geo_scope='usa', # limite map scope to USA\n",
    ")\n",
    "\n",
    "fig.show()\n",
    "\n"
   ]
  },
  {
   "cell_type": "code",
   "execution_count": 0,
   "metadata": {
    "colab": {},
    "colab_type": "code",
    "id": "JdND6cjopnes"
   },
   "outputs": [],
   "source": [
    "data.columns"
   ]
  },
  {
   "cell_type": "code",
   "execution_count": 0,
   "metadata": {
    "colab": {},
    "colab_type": "code",
    "id": "rHMUuDrTpnew"
   },
   "outputs": [],
   "source": [
    "gdp.datasets"
   ]
  },
  {
   "cell_type": "code",
   "execution_count": 0,
   "metadata": {
    "colab": {},
    "colab_type": "code",
    "id": "ALCFMIWkpne0"
   },
   "outputs": [],
   "source": [
    "world = gdp.read_file(gdp.datasets.get_path('naturalearth_lowres'))\n",
    "cities = gdp.read_file(gdp.datasets.get_path('naturalearth_cities'))\n",
    "world.plot()\n",
    "geo_df[geo_df['piscina'] == 1.0].plot(ax = ax, markersize = 20, color = 'red', marker = 'o', label = 'Positivo')\n",
    "#plt.legend(prop = {'size':15})"
   ]
  },
  {
   "cell_type": "markdown",
   "metadata": {},
   "source": [
    "## [COORDENADAS] Análisis sobre territorio mexicano en el tiempo\n"
   ]
  },
  {
   "cell_type": "code",
   "execution_count": 4,
   "metadata": {},
   "outputs": [
    {
     "name": "stdout",
     "output_type": "stream",
     "text": [
      "Menor fecha: 2012-01-01 00:00:00\n",
      "Mayor fecha: 2012-12-31 00:00:00\n"
     ]
    }
   ],
   "source": [
    "data_2012 = df.loc[(df.fecha.dt.year == 2012)]\n",
    "print(\"Menor fecha: \" + str(data_2012.fecha.min()))\n",
    "print(\"Mayor fecha: \" + str(data_2012.fecha.max()))"
   ]
  },
  {
   "cell_type": "code",
   "execution_count": 5,
   "metadata": {},
   "outputs": [],
   "source": [
    "#Tomo las latitudes y longitudes del año 2012\n",
    "lats_2012, lons_2012 = list(data_2012['lat']), list(data_2012['lng'])"
   ]
  },
  {
   "cell_type": "code",
   "execution_count": 6,
   "metadata": {},
   "outputs": [
    {
     "name": "stdout",
     "output_type": "stream",
     "text": [
      "Menor fecha: 2013-01-01 00:00:00\n",
      "Mayor fecha: 2013-12-31 00:00:00\n"
     ]
    }
   ],
   "source": [
    "data_2013 = df.loc[(df.fecha.dt.year == 2013)]\n",
    "print(\"Menor fecha: \" + str(data_2013.fecha.min()))\n",
    "print(\"Mayor fecha: \" + str(data_2013.fecha.max()))\n",
    "\n"
   ]
  },
  {
   "cell_type": "code",
   "execution_count": 7,
   "metadata": {},
   "outputs": [],
   "source": [
    "#Tomo las latitudes y longitudes del año 2013\n",
    "lats_2013, lons_2013 = list(data_2013['lat']), list(data_2013['lng'])"
   ]
  },
  {
   "cell_type": "code",
   "execution_count": 8,
   "metadata": {},
   "outputs": [
    {
     "name": "stdout",
     "output_type": "stream",
     "text": [
      "Menor fecha: 2014-01-01 00:00:00\n",
      "Mayor fecha: 2014-12-31 00:00:00\n"
     ]
    }
   ],
   "source": [
    "data_2014 = df.loc[(df.fecha.dt.year == 2014)]\n",
    "print(\"Menor fecha: \" + str(data_2014.fecha.min()))\n",
    "print(\"Mayor fecha: \" + str(data_2014.fecha.max()))"
   ]
  },
  {
   "cell_type": "code",
   "execution_count": 9,
   "metadata": {},
   "outputs": [],
   "source": [
    "#Tomo las latitudes y longitudes del año 2014\n",
    "lats_2014, lons_2014 = list(data_2014['lat']), list(data_2014['lng'])"
   ]
  },
  {
   "cell_type": "code",
   "execution_count": 10,
   "metadata": {},
   "outputs": [
    {
     "name": "stdout",
     "output_type": "stream",
     "text": [
      "Menor fecha: 2015-01-01 00:00:00\n",
      "Mayor fecha: 2015-12-31 00:00:00\n"
     ]
    }
   ],
   "source": [
    "data_2015 = df.loc[(df.fecha.dt.year == 2015)]\n",
    "print(\"Menor fecha: \" + str(data_2015.fecha.min()))\n",
    "print(\"Mayor fecha: \" + str(data_2015.fecha.max()))"
   ]
  },
  {
   "cell_type": "code",
   "execution_count": 11,
   "metadata": {},
   "outputs": [],
   "source": [
    "#Tomo las latitudes y longitudes del año 2015\n",
    "lats_2015, lons_2015 = list(data_2015['lat']), list(data_2015['lng'])"
   ]
  },
  {
   "cell_type": "code",
   "execution_count": 12,
   "metadata": {
    "colab": {},
    "colab_type": "code",
    "id": "VmZJj-xSpne6"
   },
   "outputs": [
    {
     "name": "stdout",
     "output_type": "stream",
     "text": [
      "Menor fecha: 2016-01-01 00:00:00\n",
      "Mayor fecha: 2016-12-31 00:00:00\n"
     ]
    }
   ],
   "source": [
    "data_2016 = df.loc[(df.fecha.dt.year == 2016)]\n",
    "print(\"Menor fecha: \" + str(data_2016.fecha.min()))\n",
    "print(\"Mayor fecha: \" + str(data_2016.fecha.max()))"
   ]
  },
  {
   "cell_type": "code",
   "execution_count": 13,
   "metadata": {
    "colab": {},
    "colab_type": "code",
    "id": "MGvUtYjXpne-"
   },
   "outputs": [],
   "source": [
    "#Tomo las latitudes y longitudes del año 2016\n",
    "lats_2016, lons_2016 = list(data_2016['lat']), list(data_2016['lng'])"
   ]
  },
  {
   "cell_type": "code",
   "execution_count": null,
   "metadata": {},
   "outputs": [],
   "source": []
  }
 ],
 "metadata": {
  "colab": {
   "name": "Pruebas_Maps.ipynb",
   "provenance": []
  },
  "kernelspec": {
   "display_name": "Python 3",
   "language": "python",
   "name": "python3"
  },
  "language_info": {
   "codemirror_mode": {
    "name": "ipython",
    "version": 3
   },
   "file_extension": ".py",
   "mimetype": "text/x-python",
   "name": "python",
   "nbconvert_exporter": "python",
   "pygments_lexer": "ipython3",
   "version": "3.6.8"
  }
 },
 "nbformat": 4,
 "nbformat_minor": 1
}
